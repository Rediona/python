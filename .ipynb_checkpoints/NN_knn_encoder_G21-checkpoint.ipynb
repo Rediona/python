{
 "cells": [
  {
   "cell_type": "code",
   "execution_count": 1,
   "metadata": {},
   "outputs": [],
   "source": [
    "import numpy as np\n",
    "import pandas as pd\n",
    "import matplotlib.pyplot as plt\n",
    "import seaborn as sns\n",
    "%matplotlib inline\n",
    "sns.set_style('darkgrid')\n",
    "pd.options.display.float_format = '{:,.3f}'.format"
   ]
  },
  {
   "cell_type": "code",
   "execution_count": 2,
   "metadata": {},
   "outputs": [],
   "source": [
    "from sklearn.preprocessing import MinMaxScaler\n",
    "from sklearn.model_selection import train_test_split"
   ]
  },
  {
   "cell_type": "code",
   "execution_count": 3,
   "metadata": {},
   "outputs": [],
   "source": [
    "from tensorflow.keras.models import Model\n",
    "from tensorflow.keras.layers import Input\n",
    "from tensorflow.keras.layers import Dense\n",
    "from tensorflow.keras.layers import LeakyReLU\n",
    "from tensorflow.keras.layers import BatchNormalization\n",
    "from tensorflow.keras.utils import plot_model"
   ]
  },
  {
   "cell_type": "code",
   "execution_count": 4,
   "metadata": {},
   "outputs": [],
   "source": [
    "import tensorflow as tf\n",
    "from tensorflow import keras\n",
    "from tensorflow.keras import layers"
   ]
  },
  {
   "cell_type": "code",
   "execution_count": 5,
   "metadata": {},
   "outputs": [],
   "source": [
    "from numpy import isnan\n",
    "from sklearn.impute import KNNImputer"
   ]
  },
  {
   "cell_type": "code",
   "execution_count": 6,
   "metadata": {},
   "outputs": [],
   "source": [
    "#data WITHOUT near-zero value columns\n",
    "data = pd.read_csv('data_prep_no_zv.csv')"
   ]
  },
  {
   "cell_type": "code",
   "execution_count": 7,
   "metadata": {},
   "outputs": [
    {
     "data": {
      "text/plain": [
       "(1848, 567)"
      ]
     },
     "execution_count": 7,
     "metadata": {},
     "output_type": "execute_result"
    }
   ],
   "source": [
    "data.shape"
   ]
  },
  {
   "cell_type": "code",
   "execution_count": 8,
   "metadata": {},
   "outputs": [],
   "source": [
    "#make sure dataset has only numbers\n",
    "data = data.apply(pd.to_numeric)"
   ]
  },
  {
   "cell_type": "code",
   "execution_count": 9,
   "metadata": {},
   "outputs": [],
   "source": [
    "#data with near-zero value columns\n",
    "#data = pd.read_csv('data_prep.csv')"
   ]
  },
  {
   "cell_type": "code",
   "execution_count": 10,
   "metadata": {},
   "outputs": [
    {
     "name": "stdout",
     "output_type": "stream",
     "text": [
      "Number of null values in dataset:  21545\n",
      "Percentage:  2.056181619673683\n"
     ]
    }
   ],
   "source": [
    "print(\"Number of null values in dataset: \",data.isnull().values.sum())\n",
    "print(\"Percentage: \",(data.isnull().sum().sum()/data.size)*100) #ποσοστο"
   ]
  },
  {
   "cell_type": "code",
   "execution_count": 11,
   "metadata": {},
   "outputs": [
    {
     "data": {
      "text/plain": [
       "0.000    1553\n",
       "1.000     217\n",
       "2.000      78\n",
       "Name: G21, dtype: int64"
      ]
     },
     "execution_count": 11,
     "metadata": {},
     "output_type": "execute_result"
    }
   ],
   "source": [
    "data['G21'].value_counts()"
   ]
  },
  {
   "cell_type": "code",
   "execution_count": 12,
   "metadata": {},
   "outputs": [
    {
     "data": {
      "text/plain": [
       "0"
      ]
     },
     "execution_count": 12,
     "metadata": {},
     "output_type": "execute_result"
    }
   ],
   "source": [
    "#data['G1']=data['G1'].fillna(0,inplace=True)\n",
    "data['G21'].isnull().values.sum()"
   ]
  },
  {
   "cell_type": "markdown",
   "metadata": {},
   "source": [
    "### impute and scale dataframe"
   ]
  },
  {
   "cell_type": "code",
   "execution_count": 13,
   "metadata": {},
   "outputs": [
    {
     "name": "stdout",
     "output_type": "stream",
     "text": [
      "(1848, 566) (1848,)\n"
     ]
    }
   ],
   "source": [
    "#load data and split to dependent and independent variables\n",
    "X = data.loc[:, data.columns != 'G21'].values #select all but the desired one for y\n",
    "y = data['G21'].values\n",
    "\n",
    "#X and y are numpy ndarray type variables\n",
    "print(X.shape,y.shape)\n",
    "X = np.array(X)\n",
    "y = np.array(y)"
   ]
  },
  {
   "cell_type": "code",
   "execution_count": 14,
   "metadata": {},
   "outputs": [],
   "source": [
    "scaler = MinMaxScaler()\n",
    "X = scaler.fit_transform(X)"
   ]
  },
  {
   "cell_type": "code",
   "execution_count": 15,
   "metadata": {},
   "outputs": [],
   "source": [
    "# define imputer\n",
    "imputer = KNNImputer(n_neighbors=5, weights='uniform', metric='nan_euclidean')"
   ]
  },
  {
   "cell_type": "code",
   "execution_count": 16,
   "metadata": {},
   "outputs": [
    {
     "data": {
      "text/plain": [
       "KNNImputer(add_indicator=False, copy=True, metric='nan_euclidean',\n",
       "           missing_values=nan, n_neighbors=5, weights='uniform')"
      ]
     },
     "execution_count": 16,
     "metadata": {},
     "output_type": "execute_result"
    }
   ],
   "source": [
    "# fit on the dataset\n",
    "imputer.fit(X)"
   ]
  },
  {
   "cell_type": "code",
   "execution_count": 17,
   "metadata": {},
   "outputs": [],
   "source": [
    "# transform the dataset\n",
    "X= imputer.transform(X)"
   ]
  },
  {
   "cell_type": "code",
   "execution_count": 18,
   "metadata": {},
   "outputs": [
    {
     "name": "stdout",
     "output_type": "stream",
     "text": [
      "Missing: 0\n"
     ]
    }
   ],
   "source": [
    "print('Missing: %d' % sum(isnan(X).flatten()))"
   ]
  },
  {
   "cell_type": "markdown",
   "metadata": {},
   "source": [
    "### prepare data fo model"
   ]
  },
  {
   "cell_type": "code",
   "execution_count": 19,
   "metadata": {},
   "outputs": [],
   "source": [
    "#split to train and test set\n",
    "X_train,X_test,y_train,y_test = train_test_split(X, y, test_size = 0.2, random_state = 1)"
   ]
  },
  {
   "cell_type": "markdown",
   "metadata": {},
   "source": [
    "### Building the ANN\n",
    "Χτιζω με τη Sequential, σημαντικο γτ υπαρχει και το Functional API"
   ]
  },
  {
   "cell_type": "code",
   "execution_count": 20,
   "metadata": {},
   "outputs": [],
   "source": [
    "ann = tf.keras.models.Sequential() #create object instance"
   ]
  },
  {
   "cell_type": "markdown",
   "metadata": {},
   "source": [
    "#### adding input layer and first hidden layer, using dense class library."
   ]
  },
  {
   "cell_type": "code",
   "execution_count": 21,
   "metadata": {},
   "outputs": [],
   "source": [
    "ann.add(tf.keras.layers.Dense(units=6,activation='relu'))"
   ]
  },
  {
   "cell_type": "markdown",
   "metadata": {},
   "source": [
    "#### Add the second hidden layer"
   ]
  },
  {
   "cell_type": "code",
   "execution_count": 22,
   "metadata": {},
   "outputs": [],
   "source": [
    "\n",
    "ann.add(tf.keras.layers.Dense(units=6,activation='relu'))"
   ]
  },
  {
   "cell_type": "markdown",
   "metadata": {},
   "source": [
    "#### Add the output layer <br> again fully connected with the previous. The output layer must have the dimensions of the array we want to predict"
   ]
  },
  {
   "cell_type": "code",
   "execution_count": 23,
   "metadata": {},
   "outputs": [],
   "source": [
    "ann.add(tf.keras.layers.Dense(units=3,activation='softmax'))\n"
   ]
  },
  {
   "cell_type": "markdown",
   "metadata": {},
   "source": [
    "#### compiling ANN"
   ]
  },
  {
   "cell_type": "code",
   "execution_count": 24,
   "metadata": {},
   "outputs": [],
   "source": [
    "ann.compile(optimizer='adam',loss= 'sparse_categorical_crossentropy',metrics=['sparse_categorical_accuracy'])\n"
   ]
  },
  {
   "cell_type": "markdown",
   "metadata": {},
   "source": [
    "#### training to the whole set\n",
    "\n"
   ]
  },
  {
   "cell_type": "code",
   "execution_count": 25,
   "metadata": {
    "scrolled": true
   },
   "outputs": [
    {
     "name": "stdout",
     "output_type": "stream",
     "text": [
      "Train on 1478 samples\n",
      "Epoch 1/100\n",
      "1478/1478 - 1s - loss: 0.7492 - sparse_categorical_accuracy: 0.8275\n",
      "Epoch 2/100\n",
      "1478/1478 - 0s - loss: 0.5255 - sparse_categorical_accuracy: 0.8376\n",
      "Epoch 3/100\n",
      "1478/1478 - 0s - loss: 0.4670 - sparse_categorical_accuracy: 0.8376\n",
      "Epoch 4/100\n",
      "1478/1478 - 0s - loss: 0.4287 - sparse_categorical_accuracy: 0.8376\n",
      "Epoch 5/100\n",
      "1478/1478 - 0s - loss: 0.3975 - sparse_categorical_accuracy: 0.8376\n",
      "Epoch 6/100\n",
      "1478/1478 - 0s - loss: 0.3725 - sparse_categorical_accuracy: 0.8383\n",
      "Epoch 7/100\n",
      "1478/1478 - 0s - loss: 0.3513 - sparse_categorical_accuracy: 0.8383\n",
      "Epoch 8/100\n",
      "1478/1478 - 0s - loss: 0.3353 - sparse_categorical_accuracy: 0.8396\n",
      "Epoch 9/100\n",
      "1478/1478 - 0s - loss: 0.3218 - sparse_categorical_accuracy: 0.8417\n",
      "Epoch 10/100\n",
      "1478/1478 - 0s - loss: 0.3105 - sparse_categorical_accuracy: 0.8424\n",
      "Epoch 11/100\n",
      "1478/1478 - 0s - loss: 0.3004 - sparse_categorical_accuracy: 0.8525\n",
      "Epoch 12/100\n",
      "1478/1478 - 0s - loss: 0.2925 - sparse_categorical_accuracy: 0.8559\n",
      "Epoch 13/100\n",
      "1478/1478 - 0s - loss: 0.2816 - sparse_categorical_accuracy: 0.8620\n",
      "Epoch 14/100\n",
      "1478/1478 - 0s - loss: 0.2729 - sparse_categorical_accuracy: 0.8620\n",
      "Epoch 15/100\n",
      "1478/1478 - 0s - loss: 0.2654 - sparse_categorical_accuracy: 0.8667\n",
      "Epoch 16/100\n",
      "1478/1478 - 0s - loss: 0.2568 - sparse_categorical_accuracy: 0.8701\n",
      "Epoch 17/100\n",
      "1478/1478 - 0s - loss: 0.2480 - sparse_categorical_accuracy: 0.8721\n",
      "Epoch 18/100\n",
      "1478/1478 - 0s - loss: 0.2419 - sparse_categorical_accuracy: 0.8836\n",
      "Epoch 19/100\n",
      "1478/1478 - 0s - loss: 0.2350 - sparse_categorical_accuracy: 0.8836\n",
      "Epoch 20/100\n",
      "1478/1478 - 0s - loss: 0.2268 - sparse_categorical_accuracy: 0.8931\n",
      "Epoch 21/100\n",
      "1478/1478 - 0s - loss: 0.2183 - sparse_categorical_accuracy: 0.8978\n",
      "Epoch 22/100\n",
      "1478/1478 - 0s - loss: 0.2124 - sparse_categorical_accuracy: 0.9046\n",
      "Epoch 23/100\n",
      "1478/1478 - 0s - loss: 0.2050 - sparse_categorical_accuracy: 0.9127\n",
      "Epoch 24/100\n",
      "1478/1478 - 0s - loss: 0.1996 - sparse_categorical_accuracy: 0.9087\n",
      "Epoch 25/100\n",
      "1478/1478 - 0s - loss: 0.1895 - sparse_categorical_accuracy: 0.9168\n",
      "Epoch 26/100\n",
      "1478/1478 - 0s - loss: 0.1828 - sparse_categorical_accuracy: 0.9229\n",
      "Epoch 27/100\n",
      "1478/1478 - 0s - loss: 0.1772 - sparse_categorical_accuracy: 0.9222\n",
      "Epoch 28/100\n",
      "1478/1478 - 0s - loss: 0.1690 - sparse_categorical_accuracy: 0.9249\n",
      "Epoch 29/100\n",
      "1478/1478 - 0s - loss: 0.1628 - sparse_categorical_accuracy: 0.9269\n",
      "Epoch 30/100\n",
      "1478/1478 - 0s - loss: 0.1549 - sparse_categorical_accuracy: 0.9337\n",
      "Epoch 31/100\n",
      "1478/1478 - 0s - loss: 0.1485 - sparse_categorical_accuracy: 0.9330\n",
      "Epoch 32/100\n",
      "1478/1478 - 0s - loss: 0.1419 - sparse_categorical_accuracy: 0.9350\n",
      "Epoch 33/100\n",
      "1478/1478 - 0s - loss: 0.1343 - sparse_categorical_accuracy: 0.9364\n",
      "Epoch 34/100\n",
      "1478/1478 - 0s - loss: 0.1274 - sparse_categorical_accuracy: 0.9371\n",
      "Epoch 35/100\n",
      "1478/1478 - 0s - loss: 0.1214 - sparse_categorical_accuracy: 0.9384\n",
      "Epoch 36/100\n",
      "1478/1478 - 0s - loss: 0.1162 - sparse_categorical_accuracy: 0.9398\n",
      "Epoch 37/100\n",
      "1478/1478 - 0s - loss: 0.1113 - sparse_categorical_accuracy: 0.9709\n",
      "Epoch 38/100\n",
      "1478/1478 - 0s - loss: 0.1064 - sparse_categorical_accuracy: 0.9756\n",
      "Epoch 39/100\n",
      "1478/1478 - 0s - loss: 0.1022 - sparse_categorical_accuracy: 0.9777\n",
      "Epoch 40/100\n",
      "1478/1478 - 0s - loss: 0.0933 - sparse_categorical_accuracy: 0.9790\n",
      "Epoch 41/100\n",
      "1478/1478 - 0s - loss: 0.0899 - sparse_categorical_accuracy: 0.9844\n",
      "Epoch 42/100\n",
      "1478/1478 - 0s - loss: 0.0878 - sparse_categorical_accuracy: 0.9844\n",
      "Epoch 43/100\n",
      "1478/1478 - 0s - loss: 0.0815 - sparse_categorical_accuracy: 0.9865\n",
      "Epoch 44/100\n",
      "1478/1478 - 0s - loss: 0.0776 - sparse_categorical_accuracy: 0.9865\n",
      "Epoch 45/100\n",
      "1478/1478 - 0s - loss: 0.0757 - sparse_categorical_accuracy: 0.9878\n",
      "Epoch 46/100\n",
      "1478/1478 - 0s - loss: 0.0706 - sparse_categorical_accuracy: 0.9912\n",
      "Epoch 47/100\n",
      "1478/1478 - 0s - loss: 0.0679 - sparse_categorical_accuracy: 0.9912\n",
      "Epoch 48/100\n",
      "1478/1478 - 0s - loss: 0.0649 - sparse_categorical_accuracy: 0.9912\n",
      "Epoch 49/100\n",
      "1478/1478 - 0s - loss: 0.0627 - sparse_categorical_accuracy: 0.9926\n",
      "Epoch 50/100\n",
      "1478/1478 - 0s - loss: 0.0599 - sparse_categorical_accuracy: 0.9939\n",
      "Epoch 51/100\n",
      "1478/1478 - 0s - loss: 0.0632 - sparse_categorical_accuracy: 0.9919\n",
      "Epoch 52/100\n",
      "1478/1478 - 0s - loss: 0.0569 - sparse_categorical_accuracy: 0.9946\n",
      "Epoch 53/100\n",
      "1478/1478 - 0s - loss: 0.0531 - sparse_categorical_accuracy: 0.9946\n",
      "Epoch 54/100\n",
      "1478/1478 - 0s - loss: 0.0517 - sparse_categorical_accuracy: 0.9939\n",
      "Epoch 55/100\n",
      "1478/1478 - 0s - loss: 0.0492 - sparse_categorical_accuracy: 0.9953\n",
      "Epoch 56/100\n",
      "1478/1478 - 0s - loss: 0.0480 - sparse_categorical_accuracy: 0.9953\n",
      "Epoch 57/100\n",
      "1478/1478 - 0s - loss: 0.0463 - sparse_categorical_accuracy: 0.9953\n",
      "Epoch 58/100\n",
      "1478/1478 - 0s - loss: 0.0449 - sparse_categorical_accuracy: 0.9953\n",
      "Epoch 59/100\n",
      "1478/1478 - 0s - loss: 0.0441 - sparse_categorical_accuracy: 0.9953\n",
      "Epoch 60/100\n",
      "1478/1478 - 0s - loss: 0.0420 - sparse_categorical_accuracy: 0.9953\n",
      "Epoch 61/100\n",
      "1478/1478 - 0s - loss: 0.0415 - sparse_categorical_accuracy: 0.9946\n",
      "Epoch 62/100\n",
      "1478/1478 - 0s - loss: 0.0391 - sparse_categorical_accuracy: 0.9959\n",
      "Epoch 63/100\n",
      "1478/1478 - 0s - loss: 0.0394 - sparse_categorical_accuracy: 0.9953\n",
      "Epoch 64/100\n",
      "1478/1478 - 0s - loss: 0.0373 - sparse_categorical_accuracy: 0.9959\n",
      "Epoch 65/100\n",
      "1478/1478 - 0s - loss: 0.0355 - sparse_categorical_accuracy: 0.9953\n",
      "Epoch 66/100\n",
      "1478/1478 - 0s - loss: 0.0345 - sparse_categorical_accuracy: 0.9959\n",
      "Epoch 67/100\n",
      "1478/1478 - 0s - loss: 0.0336 - sparse_categorical_accuracy: 0.9959\n",
      "Epoch 68/100\n",
      "1478/1478 - 0s - loss: 0.0328 - sparse_categorical_accuracy: 0.9959\n",
      "Epoch 69/100\n",
      "1478/1478 - 0s - loss: 0.0327 - sparse_categorical_accuracy: 0.9959\n",
      "Epoch 70/100\n",
      "1478/1478 - 0s - loss: 0.0309 - sparse_categorical_accuracy: 0.9959\n",
      "Epoch 71/100\n",
      "1478/1478 - 0s - loss: 0.0303 - sparse_categorical_accuracy: 0.9959\n",
      "Epoch 72/100\n",
      "1478/1478 - 0s - loss: 0.0296 - sparse_categorical_accuracy: 0.9959\n",
      "Epoch 73/100\n",
      "1478/1478 - 0s - loss: 0.0291 - sparse_categorical_accuracy: 0.9959\n",
      "Epoch 74/100\n",
      "1478/1478 - 0s - loss: 0.0282 - sparse_categorical_accuracy: 0.9959\n",
      "Epoch 75/100\n",
      "1478/1478 - 0s - loss: 0.0276 - sparse_categorical_accuracy: 0.9959\n",
      "Epoch 76/100\n",
      "1478/1478 - 0s - loss: 0.0271 - sparse_categorical_accuracy: 0.9959\n",
      "Epoch 77/100\n",
      "1478/1478 - 0s - loss: 0.0270 - sparse_categorical_accuracy: 0.9959\n",
      "Epoch 78/100\n",
      "1478/1478 - 0s - loss: 0.0263 - sparse_categorical_accuracy: 0.9959\n",
      "Epoch 79/100\n",
      "1478/1478 - 0s - loss: 0.0258 - sparse_categorical_accuracy: 0.9959\n",
      "Epoch 80/100\n",
      "1478/1478 - 0s - loss: 0.0251 - sparse_categorical_accuracy: 0.9959\n",
      "Epoch 81/100\n",
      "1478/1478 - 0s - loss: 0.0248 - sparse_categorical_accuracy: 0.9959\n",
      "Epoch 82/100\n",
      "1478/1478 - 0s - loss: 0.0245 - sparse_categorical_accuracy: 0.9959\n",
      "Epoch 83/100\n",
      "1478/1478 - 0s - loss: 0.0240 - sparse_categorical_accuracy: 0.9959\n",
      "Epoch 84/100\n",
      "1478/1478 - 0s - loss: 0.0237 - sparse_categorical_accuracy: 0.9959\n",
      "Epoch 85/100\n",
      "1478/1478 - 0s - loss: 0.0235 - sparse_categorical_accuracy: 0.9959\n",
      "Epoch 86/100\n",
      "1478/1478 - 0s - loss: 0.0231 - sparse_categorical_accuracy: 0.9959\n",
      "Epoch 87/100\n",
      "1478/1478 - 0s - loss: 0.0227 - sparse_categorical_accuracy: 0.9959\n",
      "Epoch 88/100\n",
      "1478/1478 - 0s - loss: 0.0226 - sparse_categorical_accuracy: 0.9959\n",
      "Epoch 89/100\n",
      "1478/1478 - 0s - loss: 0.0220 - sparse_categorical_accuracy: 0.9959\n",
      "Epoch 90/100\n",
      "1478/1478 - 0s - loss: 0.0218 - sparse_categorical_accuracy: 0.9959\n",
      "Epoch 91/100\n",
      "1478/1478 - 0s - loss: 0.0216 - sparse_categorical_accuracy: 0.9959\n",
      "Epoch 92/100\n",
      "1478/1478 - 0s - loss: 0.0213 - sparse_categorical_accuracy: 0.9959\n",
      "Epoch 93/100\n",
      "1478/1478 - 0s - loss: 0.0210 - sparse_categorical_accuracy: 0.9959\n",
      "Epoch 94/100\n",
      "1478/1478 - 0s - loss: 0.0208 - sparse_categorical_accuracy: 0.9959\n",
      "Epoch 95/100\n",
      "1478/1478 - 0s - loss: 0.0205 - sparse_categorical_accuracy: 0.9959\n",
      "Epoch 96/100\n",
      "1478/1478 - 0s - loss: 0.0203 - sparse_categorical_accuracy: 0.9959\n",
      "Epoch 97/100\n",
      "1478/1478 - 0s - loss: 0.0201 - sparse_categorical_accuracy: 0.9959\n",
      "Epoch 98/100\n",
      "1478/1478 - 0s - loss: 0.0199 - sparse_categorical_accuracy: 0.9959\n",
      "Epoch 99/100\n",
      "1478/1478 - 0s - loss: 0.0197 - sparse_categorical_accuracy: 0.9959\n",
      "Epoch 100/100\n",
      "1478/1478 - 0s - loss: 0.0196 - sparse_categorical_accuracy: 0.9959\n"
     ]
    },
    {
     "data": {
      "text/plain": [
       "<tensorflow.python.keras.callbacks.History at 0x23b2f104b88>"
      ]
     },
     "execution_count": 25,
     "metadata": {},
     "output_type": "execute_result"
    }
   ],
   "source": [
    "#the default hyperparameter for batch_size is 32\n",
    "#epochs improve the accuracy\n",
    "\n",
    "ann.fit(X_train,y_train,batch_size=32,epochs=100,verbose=2)"
   ]
  },
  {
   "cell_type": "code",
   "execution_count": 26,
   "metadata": {},
   "outputs": [
    {
     "name": "stdout",
     "output_type": "stream",
     "text": [
      "370/370 [==============================] - 0s 235us/sample\n"
     ]
    }
   ],
   "source": [
    "y_pred = ann.predict(X_test,verbose=1) #Returns:Numpy array(s) of probabilities predictions"
   ]
  },
  {
   "cell_type": "code",
   "execution_count": 27,
   "metadata": {},
   "outputs": [
    {
     "name": "stdout",
     "output_type": "stream",
     "text": [
      "370/370 [==============================] - 0s 68us/sample\n"
     ]
    }
   ],
   "source": [
    "y_classes =ann.predict_classes(X_test,verbose=1) #Returns the predicted classes (only available in Sequential). \n",
    "#Ειναι function του sequential τροπου που χτισαμε το ΝΝ το οποιο επιστρεφει απευθειας τισ κλασεις  "
   ]
  },
  {
   "cell_type": "code",
   "execution_count": 28,
   "metadata": {},
   "outputs": [],
   "source": [
    "from sklearn.metrics import multilabel_confusion_matrix, accuracy_score"
   ]
  },
  {
   "cell_type": "code",
   "execution_count": 29,
   "metadata": {},
   "outputs": [],
   "source": [
    "accuracy = accuracy_score(y_test,y_classes)"
   ]
  },
  {
   "cell_type": "code",
   "execution_count": 30,
   "metadata": {},
   "outputs": [],
   "source": [
    "mcm = multilabel_confusion_matrix(y_test,y_classes)"
   ]
  },
  {
   "cell_type": "code",
   "execution_count": 31,
   "metadata": {},
   "outputs": [
    {
     "name": "stdout",
     "output_type": "stream",
     "text": [
      "[[[ 41  14]\n",
      "  [ 13 302]]\n",
      "\n",
      " [[312  20]\n",
      "  [ 14  24]]\n",
      "\n",
      " [[352   1]\n",
      "  [  8   9]]] 0.9054054054054054\n"
     ]
    }
   ],
   "source": [
    "print(mcm, accuracy)"
   ]
  },
  {
   "cell_type": "markdown",
   "metadata": {},
   "source": [
    "### Try with encoder"
   ]
  },
  {
   "cell_type": "code",
   "execution_count": 32,
   "metadata": {},
   "outputs": [],
   "source": [
    "from tensorflow.keras.models import load_model"
   ]
  },
  {
   "cell_type": "code",
   "execution_count": 33,
   "metadata": {},
   "outputs": [
    {
     "name": "stdout",
     "output_type": "stream",
     "text": [
      "WARNING:tensorflow:No training configuration found in save file: the model was *not* compiled. Compile it manually.\n"
     ]
    }
   ],
   "source": [
    "# load the model from file\n",
    "encoder = load_model('encoder_half.h5')"
   ]
  },
  {
   "cell_type": "code",
   "execution_count": 34,
   "metadata": {},
   "outputs": [],
   "source": [
    "# encode the train data\n",
    "X_train_encode = encoder.predict(X_train)"
   ]
  },
  {
   "cell_type": "code",
   "execution_count": 35,
   "metadata": {},
   "outputs": [],
   "source": [
    "# encode the test data\n",
    "X_test_encode = encoder.predict(X_test)"
   ]
  },
  {
   "cell_type": "code",
   "execution_count": 36,
   "metadata": {},
   "outputs": [
    {
     "name": "stdout",
     "output_type": "stream",
     "text": [
      "(1478, 283) (370, 283)\n"
     ]
    }
   ],
   "source": [
    "print(X_train_encode.shape,X_test_encode.shape)"
   ]
  },
  {
   "cell_type": "code",
   "execution_count": 44,
   "metadata": {},
   "outputs": [],
   "source": [
    "#το μοντελο εχει ηδη γινει compile και fit κι αρα εχει χτιστει με βαση το dataset που εγινε fit. To dataset αυτο ηταν το πρωτο\n",
    "#μας, το οποιο ειχε το διπλασιο αριθμο απο variables, κι αρα inputs. Πρεπει αρα να το ξαναχτισουμε"
   ]
  },
  {
   "cell_type": "code",
   "execution_count": 38,
   "metadata": {
    "scrolled": true
   },
   "outputs": [
    {
     "name": "stdout",
     "output_type": "stream",
     "text": [
      "Train on 1478 samples\n",
      "Epoch 1/100\n",
      "1478/1478 - 1s - loss: 0.6407 - sparse_categorical_accuracy: 0.7842\n",
      "Epoch 2/100\n",
      "1478/1478 - 0s - loss: 0.4438 - sparse_categorical_accuracy: 0.8566\n",
      "Epoch 3/100\n",
      "1478/1478 - 0s - loss: 0.3916 - sparse_categorical_accuracy: 0.8613\n",
      "Epoch 4/100\n",
      "1478/1478 - 0s - loss: 0.3513 - sparse_categorical_accuracy: 0.8694\n",
      "Epoch 5/100\n",
      "1478/1478 - 0s - loss: 0.3196 - sparse_categorical_accuracy: 0.8789\n",
      "Epoch 6/100\n",
      "1478/1478 - 0s - loss: 0.2889 - sparse_categorical_accuracy: 0.8870\n",
      "Epoch 7/100\n",
      "1478/1478 - 0s - loss: 0.2648 - sparse_categorical_accuracy: 0.9012\n",
      "Epoch 8/100\n",
      "1478/1478 - 0s - loss: 0.2405 - sparse_categorical_accuracy: 0.9093\n",
      "Epoch 9/100\n",
      "1478/1478 - 0s - loss: 0.2184 - sparse_categorical_accuracy: 0.9168\n",
      "Epoch 10/100\n",
      "1478/1478 - 0s - loss: 0.2009 - sparse_categorical_accuracy: 0.9242\n",
      "Epoch 11/100\n",
      "1478/1478 - 0s - loss: 0.1878 - sparse_categorical_accuracy: 0.9303\n",
      "Epoch 12/100\n",
      "1478/1478 - 0s - loss: 0.1710 - sparse_categorical_accuracy: 0.9384\n",
      "Epoch 13/100\n",
      "1478/1478 - 0s - loss: 0.1554 - sparse_categorical_accuracy: 0.9459\n",
      "Epoch 14/100\n",
      "1478/1478 - 0s - loss: 0.1435 - sparse_categorical_accuracy: 0.9493\n",
      "Epoch 15/100\n",
      "1478/1478 - 0s - loss: 0.1334 - sparse_categorical_accuracy: 0.9608\n",
      "Epoch 16/100\n",
      "1478/1478 - 0s - loss: 0.1206 - sparse_categorical_accuracy: 0.9662\n",
      "Epoch 17/100\n",
      "1478/1478 - 0s - loss: 0.1127 - sparse_categorical_accuracy: 0.9689\n",
      "Epoch 18/100\n",
      "1478/1478 - 0s - loss: 0.1057 - sparse_categorical_accuracy: 0.9709\n",
      "Epoch 19/100\n",
      "1478/1478 - 0s - loss: 0.0962 - sparse_categorical_accuracy: 0.9756\n",
      "Epoch 20/100\n",
      "1478/1478 - 0s - loss: 0.0896 - sparse_categorical_accuracy: 0.9743\n",
      "Epoch 21/100\n",
      "1478/1478 - 0s - loss: 0.0822 - sparse_categorical_accuracy: 0.9770\n",
      "Epoch 22/100\n",
      "1478/1478 - 0s - loss: 0.0764 - sparse_categorical_accuracy: 0.9770\n",
      "Epoch 23/100\n",
      "1478/1478 - 0s - loss: 0.0715 - sparse_categorical_accuracy: 0.9783\n",
      "Epoch 24/100\n",
      "1478/1478 - 0s - loss: 0.0669 - sparse_categorical_accuracy: 0.9777\n",
      "Epoch 25/100\n",
      "1478/1478 - 0s - loss: 0.0618 - sparse_categorical_accuracy: 0.9804\n",
      "Epoch 26/100\n",
      "1478/1478 - 0s - loss: 0.0560 - sparse_categorical_accuracy: 0.9824\n",
      "Epoch 27/100\n",
      "1478/1478 - 0s - loss: 0.0535 - sparse_categorical_accuracy: 0.9838\n",
      "Epoch 28/100\n",
      "1478/1478 - 0s - loss: 0.0486 - sparse_categorical_accuracy: 0.9871\n",
      "Epoch 29/100\n",
      "1478/1478 - 0s - loss: 0.0434 - sparse_categorical_accuracy: 0.9878\n",
      "Epoch 30/100\n",
      "1478/1478 - 0s - loss: 0.0403 - sparse_categorical_accuracy: 0.9885\n",
      "Epoch 31/100\n",
      "1478/1478 - 0s - loss: 0.0376 - sparse_categorical_accuracy: 0.9899\n",
      "Epoch 32/100\n",
      "1478/1478 - 0s - loss: 0.0361 - sparse_categorical_accuracy: 0.9912\n",
      "Epoch 33/100\n",
      "1478/1478 - 0s - loss: 0.0343 - sparse_categorical_accuracy: 0.9919\n",
      "Epoch 34/100\n",
      "1478/1478 - 0s - loss: 0.0321 - sparse_categorical_accuracy: 0.9912\n",
      "Epoch 35/100\n",
      "1478/1478 - 0s - loss: 0.0299 - sparse_categorical_accuracy: 0.9926\n",
      "Epoch 36/100\n",
      "1478/1478 - 0s - loss: 0.0287 - sparse_categorical_accuracy: 0.9919\n",
      "Epoch 37/100\n",
      "1478/1478 - 0s - loss: 0.0260 - sparse_categorical_accuracy: 0.9932\n",
      "Epoch 38/100\n",
      "1478/1478 - 0s - loss: 0.0242 - sparse_categorical_accuracy: 0.9939\n",
      "Epoch 39/100\n",
      "1478/1478 - 0s - loss: 0.0224 - sparse_categorical_accuracy: 0.9939\n",
      "Epoch 40/100\n",
      "1478/1478 - 0s - loss: 0.0213 - sparse_categorical_accuracy: 0.9939\n",
      "Epoch 41/100\n",
      "1478/1478 - 0s - loss: 0.0206 - sparse_categorical_accuracy: 0.9939\n",
      "Epoch 42/100\n",
      "1478/1478 - 0s - loss: 0.0196 - sparse_categorical_accuracy: 0.9939\n",
      "Epoch 43/100\n",
      "1478/1478 - 0s - loss: 0.0190 - sparse_categorical_accuracy: 0.9939\n",
      "Epoch 44/100\n",
      "1478/1478 - 0s - loss: 0.0177 - sparse_categorical_accuracy: 0.9946\n",
      "Epoch 45/100\n",
      "1478/1478 - 0s - loss: 0.0169 - sparse_categorical_accuracy: 0.9953\n",
      "Epoch 46/100\n",
      "1478/1478 - 0s - loss: 0.0160 - sparse_categorical_accuracy: 0.9953\n",
      "Epoch 47/100\n",
      "1478/1478 - 0s - loss: 0.0148 - sparse_categorical_accuracy: 0.9959\n",
      "Epoch 48/100\n",
      "1478/1478 - 0s - loss: 0.0136 - sparse_categorical_accuracy: 0.9959\n",
      "Epoch 49/100\n",
      "1478/1478 - 0s - loss: 0.0131 - sparse_categorical_accuracy: 0.9959\n",
      "Epoch 50/100\n",
      "1478/1478 - 0s - loss: 0.0126 - sparse_categorical_accuracy: 0.9973\n",
      "Epoch 51/100\n",
      "1478/1478 - 0s - loss: 0.0122 - sparse_categorical_accuracy: 0.9966\n",
      "Epoch 52/100\n",
      "1478/1478 - 0s - loss: 0.0118 - sparse_categorical_accuracy: 0.9973\n",
      "Epoch 53/100\n",
      "1478/1478 - 0s - loss: 0.0107 - sparse_categorical_accuracy: 0.9966\n",
      "Epoch 54/100\n",
      "1478/1478 - 0s - loss: 0.0104 - sparse_categorical_accuracy: 0.9966\n",
      "Epoch 55/100\n",
      "1478/1478 - 0s - loss: 0.0098 - sparse_categorical_accuracy: 0.9966\n",
      "Epoch 56/100\n",
      "1478/1478 - 0s - loss: 0.0098 - sparse_categorical_accuracy: 0.9966\n",
      "Epoch 57/100\n",
      "1478/1478 - 0s - loss: 0.0097 - sparse_categorical_accuracy: 0.9973\n",
      "Epoch 58/100\n",
      "1478/1478 - 0s - loss: 0.0090 - sparse_categorical_accuracy: 0.9973\n",
      "Epoch 59/100\n",
      "1478/1478 - 0s - loss: 0.0093 - sparse_categorical_accuracy: 0.9973\n",
      "Epoch 60/100\n",
      "1478/1478 - 0s - loss: 0.0082 - sparse_categorical_accuracy: 0.9973\n",
      "Epoch 61/100\n",
      "1478/1478 - 0s - loss: 0.0079 - sparse_categorical_accuracy: 0.9980\n",
      "Epoch 62/100\n",
      "1478/1478 - 0s - loss: 0.0075 - sparse_categorical_accuracy: 0.9980\n",
      "Epoch 63/100\n",
      "1478/1478 - 0s - loss: 0.0084 - sparse_categorical_accuracy: 0.9973\n",
      "Epoch 64/100\n",
      "1478/1478 - 0s - loss: 0.0075 - sparse_categorical_accuracy: 0.9973\n",
      "Epoch 65/100\n",
      "1478/1478 - 0s - loss: 0.0070 - sparse_categorical_accuracy: 0.9973\n",
      "Epoch 66/100\n",
      "1478/1478 - 0s - loss: 0.0066 - sparse_categorical_accuracy: 0.9980\n",
      "Epoch 67/100\n",
      "1478/1478 - 0s - loss: 0.0064 - sparse_categorical_accuracy: 0.9980\n",
      "Epoch 68/100\n",
      "1478/1478 - 0s - loss: 0.0062 - sparse_categorical_accuracy: 0.9980\n",
      "Epoch 69/100\n",
      "1478/1478 - 0s - loss: 0.0061 - sparse_categorical_accuracy: 0.9986\n",
      "Epoch 70/100\n",
      "1478/1478 - 0s - loss: 0.0060 - sparse_categorical_accuracy: 0.9986\n",
      "Epoch 71/100\n",
      "1478/1478 - 0s - loss: 0.0060 - sparse_categorical_accuracy: 0.9986\n",
      "Epoch 72/100\n",
      "1478/1478 - 0s - loss: 0.0059 - sparse_categorical_accuracy: 0.9980\n",
      "Epoch 73/100\n",
      "1478/1478 - 0s - loss: 0.0058 - sparse_categorical_accuracy: 0.9986\n",
      "Epoch 74/100\n",
      "1478/1478 - 0s - loss: 0.0047 - sparse_categorical_accuracy: 0.9993\n",
      "Epoch 75/100\n",
      "1478/1478 - 0s - loss: 0.0052 - sparse_categorical_accuracy: 0.9993\n",
      "Epoch 76/100\n",
      "1478/1478 - 0s - loss: 0.0046 - sparse_categorical_accuracy: 0.9993\n",
      "Epoch 77/100\n",
      "1478/1478 - 0s - loss: 0.0044 - sparse_categorical_accuracy: 0.9986\n",
      "Epoch 78/100\n",
      "1478/1478 - 0s - loss: 0.0042 - sparse_categorical_accuracy: 0.9993\n",
      "Epoch 79/100\n",
      "1478/1478 - 0s - loss: 0.0041 - sparse_categorical_accuracy: 0.9993\n",
      "Epoch 80/100\n",
      "1478/1478 - 0s - loss: 0.0043 - sparse_categorical_accuracy: 0.9986\n",
      "Epoch 81/100\n",
      "1478/1478 - 0s - loss: 0.0060 - sparse_categorical_accuracy: 0.9986\n",
      "Epoch 82/100\n",
      "1478/1478 - 0s - loss: 0.0048 - sparse_categorical_accuracy: 0.9986\n",
      "Epoch 83/100\n",
      "1478/1478 - 0s - loss: 0.0046 - sparse_categorical_accuracy: 0.9986\n",
      "Epoch 84/100\n",
      "1478/1478 - 0s - loss: 0.0041 - sparse_categorical_accuracy: 0.9986\n",
      "Epoch 85/100\n",
      "1478/1478 - 0s - loss: 0.0040 - sparse_categorical_accuracy: 0.9993\n",
      "Epoch 86/100\n",
      "1478/1478 - 0s - loss: 0.0039 - sparse_categorical_accuracy: 0.9993\n",
      "Epoch 87/100\n",
      "1478/1478 - 0s - loss: 0.0038 - sparse_categorical_accuracy: 0.9993\n",
      "Epoch 88/100\n",
      "1478/1478 - 0s - loss: 0.0038 - sparse_categorical_accuracy: 0.9993\n",
      "Epoch 89/100\n",
      "1478/1478 - 0s - loss: 0.0037 - sparse_categorical_accuracy: 0.9993\n",
      "Epoch 90/100\n",
      "1478/1478 - 0s - loss: 0.0037 - sparse_categorical_accuracy: 0.9993\n",
      "Epoch 91/100\n",
      "1478/1478 - 0s - loss: 0.0036 - sparse_categorical_accuracy: 0.9993\n",
      "Epoch 92/100\n",
      "1478/1478 - 0s - loss: 0.0036 - sparse_categorical_accuracy: 0.9993\n",
      "Epoch 93/100\n",
      "1478/1478 - 0s - loss: 0.0036 - sparse_categorical_accuracy: 0.9993\n",
      "Epoch 94/100\n",
      "1478/1478 - 0s - loss: 0.0035 - sparse_categorical_accuracy: 0.9993\n",
      "Epoch 95/100\n",
      "1478/1478 - 0s - loss: 0.0035 - sparse_categorical_accuracy: 0.9993\n",
      "Epoch 96/100\n",
      "1478/1478 - 0s - loss: 0.0035 - sparse_categorical_accuracy: 0.9993\n",
      "Epoch 97/100\n",
      "1478/1478 - 0s - loss: 0.0035 - sparse_categorical_accuracy: 0.9993\n",
      "Epoch 98/100\n",
      "1478/1478 - 0s - loss: 0.0037 - sparse_categorical_accuracy: 0.9993\n",
      "Epoch 99/100\n",
      "1478/1478 - 0s - loss: 0.0035 - sparse_categorical_accuracy: 0.9993\n",
      "Epoch 100/100\n",
      "1478/1478 - 0s - loss: 0.0035 - sparse_categorical_accuracy: 0.9993\n"
     ]
    },
    {
     "data": {
      "text/plain": [
       "<tensorflow.python.keras.callbacks.History at 0x23b31c4d8c8>"
      ]
     },
     "execution_count": 38,
     "metadata": {},
     "output_type": "execute_result"
    }
   ],
   "source": [
    "ann2 = tf.keras.models.Sequential()\n",
    "ann2.add(tf.keras.layers.Dense(units=6,activation='relu'))\n",
    "ann2.add(tf.keras.layers.Dense(units=6,activation='relu'))\n",
    "ann2.add(tf.keras.layers.Dense(units=3,activation='softmax'))\n",
    "ann2.compile(optimizer='adam',loss= 'sparse_categorical_crossentropy',metrics=['sparse_categorical_accuracy'])\n",
    "ann2.fit(X_train_encode,y_train,batch_size=32,epochs=100,verbose=2)"
   ]
  },
  {
   "cell_type": "code",
   "execution_count": 39,
   "metadata": {},
   "outputs": [
    {
     "name": "stdout",
     "output_type": "stream",
     "text": [
      "370/370 [==============================] - 0s 132us/sample\n"
     ]
    }
   ],
   "source": [
    "y_pred = ann2.predict(X_test_encode,verbose=1)"
   ]
  },
  {
   "cell_type": "code",
   "execution_count": 40,
   "metadata": {},
   "outputs": [
    {
     "name": "stdout",
     "output_type": "stream",
     "text": [
      "370/370 [==============================] - 0s 35us/sample\n"
     ]
    }
   ],
   "source": [
    "y_classes =ann2.predict_classes(X_test_encode,verbose=1)"
   ]
  },
  {
   "cell_type": "code",
   "execution_count": 41,
   "metadata": {},
   "outputs": [],
   "source": [
    "accuracy = accuracy_score(y_test,y_classes)"
   ]
  },
  {
   "cell_type": "code",
   "execution_count": 42,
   "metadata": {},
   "outputs": [],
   "source": [
    "mcm = multilabel_confusion_matrix(y_test,y_classes)"
   ]
  },
  {
   "cell_type": "code",
   "execution_count": 43,
   "metadata": {},
   "outputs": [
    {
     "name": "stdout",
     "output_type": "stream",
     "text": [
      "[[[ 34  21]\n",
      "  [ 19 296]]\n",
      "\n",
      " [[309  23]\n",
      "  [ 22  16]]\n",
      "\n",
      " [[345   8]\n",
      "  [ 11   6]]] 0.8594594594594595\n"
     ]
    }
   ],
   "source": [
    "print(mcm, accuracy)"
   ]
  },
  {
   "cell_type": "code",
   "execution_count": null,
   "metadata": {},
   "outputs": [],
   "source": []
  }
 ],
 "metadata": {
  "kernelspec": {
   "display_name": "Python 3",
   "language": "python",
   "name": "python3"
  },
  "language_info": {
   "codemirror_mode": {
    "name": "ipython",
    "version": 3
   },
   "file_extension": ".py",
   "mimetype": "text/x-python",
   "name": "python",
   "nbconvert_exporter": "python",
   "pygments_lexer": "ipython3",
   "version": "3.7.3"
  }
 },
 "nbformat": 4,
 "nbformat_minor": 4
}
