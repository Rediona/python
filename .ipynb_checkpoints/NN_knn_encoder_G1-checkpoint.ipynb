{
 "cells": [
  {
   "cell_type": "code",
   "execution_count": 1,
   "metadata": {},
   "outputs": [],
   "source": [
    "import numpy as np\n",
    "import pandas as pd\n",
    "import matplotlib.pyplot as plt\n",
    "import seaborn as sns\n",
    "%matplotlib inline\n",
    "sns.set_style('darkgrid')\n",
    "pd.options.display.float_format = '{:,.3f}'.format"
   ]
  },
  {
   "cell_type": "code",
   "execution_count": 2,
   "metadata": {},
   "outputs": [],
   "source": [
    "from sklearn.preprocessing import MinMaxScaler\n",
    "from sklearn.model_selection import train_test_split"
   ]
  },
  {
   "cell_type": "code",
   "execution_count": 3,
   "metadata": {},
   "outputs": [],
   "source": [
    "from tensorflow.keras.models import Model\n",
    "from tensorflow.keras.layers import Input\n",
    "from tensorflow.keras.layers import Dense\n",
    "from tensorflow.keras.layers import LeakyReLU\n",
    "from tensorflow.keras.layers import BatchNormalization\n",
    "from tensorflow.keras.utils import plot_model"
   ]
  },
  {
   "cell_type": "code",
   "execution_count": 4,
   "metadata": {},
   "outputs": [],
   "source": [
    "import tensorflow as tf\n",
    "from tensorflow import keras\n",
    "from tensorflow.keras import layers"
   ]
  },
  {
   "cell_type": "code",
   "execution_count": 5,
   "metadata": {},
   "outputs": [],
   "source": [
    "from numpy import isnan\n",
    "from sklearn.impute import KNNImputer"
   ]
  },
  {
   "cell_type": "code",
   "execution_count": 6,
   "metadata": {},
   "outputs": [],
   "source": [
    "#data WITHOUT near-zero value columns\n",
    "data = pd.read_csv('data_prep_no_zv.csv')"
   ]
  },
  {
   "cell_type": "code",
   "execution_count": 7,
   "metadata": {},
   "outputs": [
    {
     "data": {
      "text/plain": [
       "(1848, 567)"
      ]
     },
     "execution_count": 7,
     "metadata": {},
     "output_type": "execute_result"
    }
   ],
   "source": [
    "data.shape"
   ]
  },
  {
   "cell_type": "code",
   "execution_count": 8,
   "metadata": {},
   "outputs": [],
   "source": [
    "#make sure dataset has only numbers\n",
    "data = data.apply(pd.to_numeric)"
   ]
  },
  {
   "cell_type": "code",
   "execution_count": 9,
   "metadata": {},
   "outputs": [],
   "source": [
    "#data with near-zero value columns\n",
    "#data = pd.read_csv('data_prep.csv')"
   ]
  },
  {
   "cell_type": "code",
   "execution_count": 10,
   "metadata": {},
   "outputs": [
    {
     "name": "stdout",
     "output_type": "stream",
     "text": [
      "Number of null values in dataset:  21545\n",
      "Percentage:  2.056181619673683\n"
     ]
    }
   ],
   "source": [
    "print(\"Number of null values in dataset: \",data.isnull().values.sum())\n",
    "print(\"Percentage: \",(data.isnull().sum().sum()/data.size)*100) #ποσοστο"
   ]
  },
  {
   "cell_type": "code",
   "execution_count": 11,
   "metadata": {},
   "outputs": [
    {
     "data": {
      "text/plain": [
       "0.000    1523\n",
       "1.000     240\n",
       "2.000      60\n",
       "3.000      14\n",
       "4.000      11\n",
       "Name: G1, dtype: int64"
      ]
     },
     "execution_count": 11,
     "metadata": {},
     "output_type": "execute_result"
    }
   ],
   "source": [
    "data['G1'].value_counts()"
   ]
  },
  {
   "cell_type": "code",
   "execution_count": 12,
   "metadata": {},
   "outputs": [
    {
     "data": {
      "text/plain": [
       "0"
      ]
     },
     "execution_count": 12,
     "metadata": {},
     "output_type": "execute_result"
    }
   ],
   "source": [
    "#data['G1']=data['G1'].fillna(0,inplace=True)\n",
    "data['G1'].isnull().values.sum()"
   ]
  },
  {
   "cell_type": "markdown",
   "metadata": {},
   "source": [
    "### impute and scale dataframe"
   ]
  },
  {
   "cell_type": "code",
   "execution_count": 13,
   "metadata": {},
   "outputs": [
    {
     "name": "stdout",
     "output_type": "stream",
     "text": [
      "(1848, 566) (1848,)\n"
     ]
    }
   ],
   "source": [
    "#load data and split to dependent and independent variables\n",
    "X = data.loc[:, data.columns != 'G1'].values #select all but the desired one for y\n",
    "y = data['G1'].values\n",
    "\n",
    "#X and y are numpy ndarray type variables\n",
    "print(X.shape,y.shape)\n",
    "X = np.array(X)\n",
    "y = np.array(y)"
   ]
  },
  {
   "cell_type": "code",
   "execution_count": 14,
   "metadata": {},
   "outputs": [],
   "source": [
    "scaler = MinMaxScaler()\n",
    "X = scaler.fit_transform(X)"
   ]
  },
  {
   "cell_type": "code",
   "execution_count": 15,
   "metadata": {},
   "outputs": [],
   "source": [
    "# define imputer\n",
    "imputer = KNNImputer(n_neighbors=5, weights='uniform', metric='nan_euclidean')"
   ]
  },
  {
   "cell_type": "code",
   "execution_count": 16,
   "metadata": {},
   "outputs": [
    {
     "data": {
      "text/plain": [
       "KNNImputer(add_indicator=False, copy=True, metric='nan_euclidean',\n",
       "           missing_values=nan, n_neighbors=5, weights='uniform')"
      ]
     },
     "execution_count": 16,
     "metadata": {},
     "output_type": "execute_result"
    }
   ],
   "source": [
    "# fit on the dataset\n",
    "imputer.fit(X)"
   ]
  },
  {
   "cell_type": "code",
   "execution_count": 17,
   "metadata": {},
   "outputs": [],
   "source": [
    "# transform the dataset\n",
    "X= imputer.transform(X)"
   ]
  },
  {
   "cell_type": "code",
   "execution_count": 18,
   "metadata": {},
   "outputs": [
    {
     "name": "stdout",
     "output_type": "stream",
     "text": [
      "Missing: 0\n"
     ]
    }
   ],
   "source": [
    "print('Missing: %d' % sum(isnan(X).flatten()))"
   ]
  },
  {
   "cell_type": "markdown",
   "metadata": {},
   "source": [
    "### prepare data fo model"
   ]
  },
  {
   "cell_type": "code",
   "execution_count": 19,
   "metadata": {},
   "outputs": [],
   "source": [
    "#split to train and test set\n",
    "X_train,X_test,y_train,y_test = train_test_split(X, y, test_size = 0.2, random_state = 1)"
   ]
  },
  {
   "cell_type": "markdown",
   "metadata": {},
   "source": [
    "### Building the ANN\n",
    "Χτιζω με τη Sequential"
   ]
  },
  {
   "cell_type": "code",
   "execution_count": 20,
   "metadata": {},
   "outputs": [],
   "source": [
    "ann = tf.keras.models.Sequential() #create object instance"
   ]
  },
  {
   "cell_type": "markdown",
   "metadata": {},
   "source": [
    "#### adding input layer and first hidden layer, using dense class library."
   ]
  },
  {
   "cell_type": "code",
   "execution_count": 21,
   "metadata": {},
   "outputs": [],
   "source": [
    "ann.add(tf.keras.layers.Dense(units=6,activation='relu'))"
   ]
  },
  {
   "cell_type": "markdown",
   "metadata": {},
   "source": [
    "#### Add the second hidden layer"
   ]
  },
  {
   "cell_type": "code",
   "execution_count": 22,
   "metadata": {},
   "outputs": [],
   "source": [
    "\n",
    "ann.add(tf.keras.layers.Dense(units=6,activation='relu'))"
   ]
  },
  {
   "cell_type": "markdown",
   "metadata": {},
   "source": [
    "#### Add the output layer <br> again fully connected with the previous. The output layer must have the dimensions of the array we want to predict"
   ]
  },
  {
   "cell_type": "code",
   "execution_count": 23,
   "metadata": {},
   "outputs": [],
   "source": [
    "ann.add(tf.keras.layers.Dense(units=5,activation='softmax'))\n"
   ]
  },
  {
   "cell_type": "markdown",
   "metadata": {},
   "source": [
    "#### compiling ANN"
   ]
  },
  {
   "cell_type": "code",
   "execution_count": 24,
   "metadata": {},
   "outputs": [],
   "source": [
    "ann.compile(optimizer='adam',loss= 'sparse_categorical_crossentropy',metrics=['sparse_categorical_accuracy'])\n"
   ]
  },
  {
   "cell_type": "markdown",
   "metadata": {},
   "source": [
    "#### training to the whole set\n",
    "\n"
   ]
  },
  {
   "cell_type": "code",
   "execution_count": 25,
   "metadata": {
    "scrolled": true
   },
   "outputs": [
    {
     "name": "stdout",
     "output_type": "stream",
     "text": [
      "Train on 1478 samples\n",
      "Epoch 1/100\n",
      "1478/1478 - 1s - loss: 0.8072 - sparse_categorical_accuracy: 0.8187\n",
      "Epoch 2/100\n",
      "1478/1478 - 0s - loss: 0.5466 - sparse_categorical_accuracy: 0.8187\n",
      "Epoch 3/100\n",
      "1478/1478 - 0s - loss: 0.4801 - sparse_categorical_accuracy: 0.8187\n",
      "Epoch 4/100\n",
      "1478/1478 - 0s - loss: 0.4349 - sparse_categorical_accuracy: 0.8241\n",
      "Epoch 5/100\n",
      "1478/1478 - 0s - loss: 0.3957 - sparse_categorical_accuracy: 0.8369\n",
      "Epoch 6/100\n",
      "1478/1478 - 0s - loss: 0.3683 - sparse_categorical_accuracy: 0.8525\n",
      "Epoch 7/100\n",
      "1478/1478 - 0s - loss: 0.3440 - sparse_categorical_accuracy: 0.8572\n",
      "Epoch 8/100\n",
      "1478/1478 - 0s - loss: 0.3276 - sparse_categorical_accuracy: 0.8647\n",
      "Epoch 9/100\n",
      "1478/1478 - 0s - loss: 0.3098 - sparse_categorical_accuracy: 0.8681\n",
      "Epoch 10/100\n",
      "1478/1478 - 0s - loss: 0.2869 - sparse_categorical_accuracy: 0.8769\n",
      "Epoch 11/100\n",
      "1478/1478 - 0s - loss: 0.2734 - sparse_categorical_accuracy: 0.8850\n",
      "Epoch 12/100\n",
      "1478/1478 - 0s - loss: 0.2580 - sparse_categorical_accuracy: 0.8917\n",
      "Epoch 13/100\n",
      "1478/1478 - 0s - loss: 0.2436 - sparse_categorical_accuracy: 0.8911\n",
      "Epoch 14/100\n",
      "1478/1478 - 0s - loss: 0.2307 - sparse_categorical_accuracy: 0.9032\n",
      "Epoch 15/100\n",
      "1478/1478 - 0s - loss: 0.2277 - sparse_categorical_accuracy: 0.9073\n",
      "Epoch 16/100\n",
      "1478/1478 - 0s - loss: 0.2057 - sparse_categorical_accuracy: 0.9114\n",
      "Epoch 17/100\n",
      "1478/1478 - 0s - loss: 0.2005 - sparse_categorical_accuracy: 0.9222\n",
      "Epoch 18/100\n",
      "1478/1478 - 0s - loss: 0.1902 - sparse_categorical_accuracy: 0.9290\n",
      "Epoch 19/100\n",
      "1478/1478 - 0s - loss: 0.1761 - sparse_categorical_accuracy: 0.9350\n",
      "Epoch 20/100\n",
      "1478/1478 - 0s - loss: 0.1716 - sparse_categorical_accuracy: 0.9405\n",
      "Epoch 21/100\n",
      "1478/1478 - 0s - loss: 0.1628 - sparse_categorical_accuracy: 0.9452\n",
      "Epoch 22/100\n",
      "1478/1478 - 0s - loss: 0.1529 - sparse_categorical_accuracy: 0.9506\n",
      "Epoch 23/100\n",
      "1478/1478 - 0s - loss: 0.1454 - sparse_categorical_accuracy: 0.9520\n",
      "Epoch 24/100\n",
      "1478/1478 - 0s - loss: 0.1396 - sparse_categorical_accuracy: 0.9560\n",
      "Epoch 25/100\n",
      "1478/1478 - 0s - loss: 0.1330 - sparse_categorical_accuracy: 0.9574\n",
      "Epoch 26/100\n",
      "1478/1478 - 0s - loss: 0.1272 - sparse_categorical_accuracy: 0.9641\n",
      "Epoch 27/100\n",
      "1478/1478 - 0s - loss: 0.1231 - sparse_categorical_accuracy: 0.9655\n",
      "Epoch 28/100\n",
      "1478/1478 - 0s - loss: 0.1153 - sparse_categorical_accuracy: 0.9675\n",
      "Epoch 29/100\n",
      "1478/1478 - 0s - loss: 0.1090 - sparse_categorical_accuracy: 0.9696\n",
      "Epoch 30/100\n",
      "1478/1478 - 0s - loss: 0.1026 - sparse_categorical_accuracy: 0.9743\n",
      "Epoch 31/100\n",
      "1478/1478 - 0s - loss: 0.0985 - sparse_categorical_accuracy: 0.9750\n",
      "Epoch 32/100\n",
      "1478/1478 - 0s - loss: 0.0937 - sparse_categorical_accuracy: 0.9743\n",
      "Epoch 33/100\n",
      "1478/1478 - 0s - loss: 0.0891 - sparse_categorical_accuracy: 0.9770\n",
      "Epoch 34/100\n",
      "1478/1478 - 0s - loss: 0.0843 - sparse_categorical_accuracy: 0.9790\n",
      "Epoch 35/100\n",
      "1478/1478 - 0s - loss: 0.0821 - sparse_categorical_accuracy: 0.9817\n",
      "Epoch 36/100\n",
      "1478/1478 - 0s - loss: 0.0753 - sparse_categorical_accuracy: 0.9844\n",
      "Epoch 37/100\n",
      "1478/1478 - 0s - loss: 0.0721 - sparse_categorical_accuracy: 0.9844\n",
      "Epoch 38/100\n",
      "1478/1478 - 0s - loss: 0.0680 - sparse_categorical_accuracy: 0.9851\n",
      "Epoch 39/100\n",
      "1478/1478 - 0s - loss: 0.0643 - sparse_categorical_accuracy: 0.9865\n",
      "Epoch 40/100\n",
      "1478/1478 - 0s - loss: 0.0610 - sparse_categorical_accuracy: 0.9865\n",
      "Epoch 41/100\n",
      "1478/1478 - 0s - loss: 0.0578 - sparse_categorical_accuracy: 0.9871\n",
      "Epoch 42/100\n",
      "1478/1478 - 0s - loss: 0.0554 - sparse_categorical_accuracy: 0.9878\n",
      "Epoch 43/100\n",
      "1478/1478 - 0s - loss: 0.0519 - sparse_categorical_accuracy: 0.9885\n",
      "Epoch 44/100\n",
      "1478/1478 - 0s - loss: 0.0488 - sparse_categorical_accuracy: 0.9878\n",
      "Epoch 45/100\n",
      "1478/1478 - 0s - loss: 0.0462 - sparse_categorical_accuracy: 0.9899\n",
      "Epoch 46/100\n",
      "1478/1478 - 0s - loss: 0.0436 - sparse_categorical_accuracy: 0.9912\n",
      "Epoch 47/100\n",
      "1478/1478 - 0s - loss: 0.0416 - sparse_categorical_accuracy: 0.9926\n",
      "Epoch 48/100\n",
      "1478/1478 - 0s - loss: 0.0399 - sparse_categorical_accuracy: 0.9939\n",
      "Epoch 49/100\n",
      "1478/1478 - 0s - loss: 0.0361 - sparse_categorical_accuracy: 0.9953\n",
      "Epoch 50/100\n",
      "1478/1478 - 0s - loss: 0.0340 - sparse_categorical_accuracy: 0.9959\n",
      "Epoch 51/100\n",
      "1478/1478 - 0s - loss: 0.0320 - sparse_categorical_accuracy: 0.9973\n",
      "Epoch 52/100\n",
      "1478/1478 - 0s - loss: 0.0308 - sparse_categorical_accuracy: 0.9973\n",
      "Epoch 53/100\n",
      "1478/1478 - 0s - loss: 0.0285 - sparse_categorical_accuracy: 0.9980\n",
      "Epoch 54/100\n",
      "1478/1478 - 0s - loss: 0.0280 - sparse_categorical_accuracy: 0.9980\n",
      "Epoch 55/100\n",
      "1478/1478 - 0s - loss: 0.0251 - sparse_categorical_accuracy: 0.9980\n",
      "Epoch 56/100\n",
      "1478/1478 - 0s - loss: 0.0234 - sparse_categorical_accuracy: 0.9980\n",
      "Epoch 57/100\n",
      "1478/1478 - 0s - loss: 0.0220 - sparse_categorical_accuracy: 0.9980\n",
      "Epoch 58/100\n",
      "1478/1478 - 0s - loss: 0.0204 - sparse_categorical_accuracy: 0.9986\n",
      "Epoch 59/100\n",
      "1478/1478 - 0s - loss: 0.0192 - sparse_categorical_accuracy: 0.9993\n",
      "Epoch 60/100\n",
      "1478/1478 - 0s - loss: 0.0184 - sparse_categorical_accuracy: 0.9993\n",
      "Epoch 61/100\n",
      "1478/1478 - 0s - loss: 0.0173 - sparse_categorical_accuracy: 0.9993\n",
      "Epoch 62/100\n",
      "1478/1478 - 0s - loss: 0.0162 - sparse_categorical_accuracy: 0.9993\n",
      "Epoch 63/100\n",
      "1478/1478 - 0s - loss: 0.0154 - sparse_categorical_accuracy: 0.9993\n",
      "Epoch 64/100\n",
      "1478/1478 - 0s - loss: 0.0142 - sparse_categorical_accuracy: 0.9993\n",
      "Epoch 65/100\n",
      "1478/1478 - 0s - loss: 0.0133 - sparse_categorical_accuracy: 0.9993\n",
      "Epoch 66/100\n",
      "1478/1478 - 0s - loss: 0.0127 - sparse_categorical_accuracy: 0.9993\n",
      "Epoch 67/100\n",
      "1478/1478 - 0s - loss: 0.0117 - sparse_categorical_accuracy: 0.9993\n",
      "Epoch 68/100\n",
      "1478/1478 - 0s - loss: 0.0109 - sparse_categorical_accuracy: 1.0000\n",
      "Epoch 69/100\n",
      "1478/1478 - 0s - loss: 0.0105 - sparse_categorical_accuracy: 0.9993\n",
      "Epoch 70/100\n",
      "1478/1478 - 0s - loss: 0.0101 - sparse_categorical_accuracy: 1.0000\n",
      "Epoch 71/100\n",
      "1478/1478 - 0s - loss: 0.0092 - sparse_categorical_accuracy: 1.0000\n",
      "Epoch 72/100\n",
      "1478/1478 - 0s - loss: 0.0087 - sparse_categorical_accuracy: 1.0000\n",
      "Epoch 73/100\n",
      "1478/1478 - 0s - loss: 0.0084 - sparse_categorical_accuracy: 1.0000\n",
      "Epoch 74/100\n",
      "1478/1478 - 0s - loss: 0.0078 - sparse_categorical_accuracy: 1.0000\n",
      "Epoch 75/100\n",
      "1478/1478 - 0s - loss: 0.0073 - sparse_categorical_accuracy: 1.0000\n",
      "Epoch 76/100\n",
      "1478/1478 - 0s - loss: 0.0069 - sparse_categorical_accuracy: 1.0000\n",
      "Epoch 77/100\n",
      "1478/1478 - 0s - loss: 0.0065 - sparse_categorical_accuracy: 1.0000\n",
      "Epoch 78/100\n",
      "1478/1478 - 0s - loss: 0.0061 - sparse_categorical_accuracy: 1.0000\n",
      "Epoch 79/100\n",
      "1478/1478 - 0s - loss: 0.0057 - sparse_categorical_accuracy: 1.0000\n",
      "Epoch 80/100\n",
      "1478/1478 - 0s - loss: 0.0056 - sparse_categorical_accuracy: 1.0000\n",
      "Epoch 81/100\n",
      "1478/1478 - 0s - loss: 0.0052 - sparse_categorical_accuracy: 1.0000\n",
      "Epoch 82/100\n",
      "1478/1478 - 0s - loss: 0.0049 - sparse_categorical_accuracy: 1.0000\n",
      "Epoch 83/100\n",
      "1478/1478 - 0s - loss: 0.0047 - sparse_categorical_accuracy: 1.0000\n",
      "Epoch 84/100\n",
      "1478/1478 - 0s - loss: 0.0046 - sparse_categorical_accuracy: 1.0000\n",
      "Epoch 85/100\n",
      "1478/1478 - 0s - loss: 0.0042 - sparse_categorical_accuracy: 1.0000\n",
      "Epoch 86/100\n",
      "1478/1478 - 0s - loss: 0.0040 - sparse_categorical_accuracy: 1.0000\n",
      "Epoch 87/100\n",
      "1478/1478 - 0s - loss: 0.0038 - sparse_categorical_accuracy: 1.0000\n",
      "Epoch 88/100\n",
      "1478/1478 - 0s - loss: 0.0037 - sparse_categorical_accuracy: 1.0000\n",
      "Epoch 89/100\n",
      "1478/1478 - 0s - loss: 0.0035 - sparse_categorical_accuracy: 1.0000\n",
      "Epoch 90/100\n",
      "1478/1478 - 0s - loss: 0.0033 - sparse_categorical_accuracy: 1.0000\n",
      "Epoch 91/100\n",
      "1478/1478 - 0s - loss: 0.0031 - sparse_categorical_accuracy: 1.0000\n",
      "Epoch 92/100\n",
      "1478/1478 - 0s - loss: 0.0030 - sparse_categorical_accuracy: 1.0000\n",
      "Epoch 93/100\n",
      "1478/1478 - 0s - loss: 0.0029 - sparse_categorical_accuracy: 1.0000\n",
      "Epoch 94/100\n",
      "1478/1478 - 0s - loss: 0.0027 - sparse_categorical_accuracy: 1.0000\n",
      "Epoch 95/100\n",
      "1478/1478 - 0s - loss: 0.0026 - sparse_categorical_accuracy: 1.0000\n",
      "Epoch 96/100\n",
      "1478/1478 - 0s - loss: 0.0025 - sparse_categorical_accuracy: 1.0000\n",
      "Epoch 97/100\n",
      "1478/1478 - 0s - loss: 0.0024 - sparse_categorical_accuracy: 1.0000\n",
      "Epoch 98/100\n",
      "1478/1478 - 0s - loss: 0.0023 - sparse_categorical_accuracy: 1.0000\n",
      "Epoch 99/100\n",
      "1478/1478 - 0s - loss: 0.0022 - sparse_categorical_accuracy: 1.0000\n",
      "Epoch 100/100\n",
      "1478/1478 - 0s - loss: 0.0021 - sparse_categorical_accuracy: 1.0000\n"
     ]
    },
    {
     "data": {
      "text/plain": [
       "<tensorflow.python.keras.callbacks.History at 0x1d5ee2248c8>"
      ]
     },
     "execution_count": 25,
     "metadata": {},
     "output_type": "execute_result"
    }
   ],
   "source": [
    "#the default hyperparameter for batch_size is 32\n",
    "#epochs improve the accuracy\n",
    "\n",
    "ann.fit(X_train,y_train,batch_size=32,epochs=100,verbose=2)"
   ]
  },
  {
   "cell_type": "code",
   "execution_count": 26,
   "metadata": {},
   "outputs": [
    {
     "name": "stdout",
     "output_type": "stream",
     "text": [
      "370/370 [==============================] - 0s 149us/sample\n"
     ]
    }
   ],
   "source": [
    "y_pred = ann.predict(X_test,verbose=1) #Returns:Numpy array(s) of probabilities predictions"
   ]
  },
  {
   "cell_type": "code",
   "execution_count": 27,
   "metadata": {},
   "outputs": [
    {
     "name": "stdout",
     "output_type": "stream",
     "text": [
      "370/370 [==============================] - 0s 59us/sample\n"
     ]
    }
   ],
   "source": [
    "y_classes =ann.predict_classes(X_test,verbose=1) #Returns the predicted classes (only available in Sequential=>βλ oneNote). \n",
    "#Ειναι function του sequential τροπου που χτισαμε το ΝΝ το οποιο επιστρεφει απευθειας τισ κλασεις  "
   ]
  },
  {
   "cell_type": "code",
   "execution_count": 28,
   "metadata": {},
   "outputs": [],
   "source": [
    "from sklearn.metrics import multilabel_confusion_matrix, accuracy_score"
   ]
  },
  {
   "cell_type": "code",
   "execution_count": 29,
   "metadata": {},
   "outputs": [],
   "source": [
    "accuracy = accuracy_score(y_test,y_classes)"
   ]
  },
  {
   "cell_type": "code",
   "execution_count": 30,
   "metadata": {},
   "outputs": [],
   "source": [
    "mcm = multilabel_confusion_matrix(y_test,y_classes)"
   ]
  },
  {
   "cell_type": "code",
   "execution_count": 31,
   "metadata": {},
   "outputs": [
    {
     "name": "stdout",
     "output_type": "stream",
     "text": [
      "[[[ 48   9]\n",
      "  [ 16 297]]\n",
      "\n",
      " [[307  25]\n",
      "  [  9  29]]\n",
      "\n",
      " [[352   3]\n",
      "  [ 10   5]]\n",
      "\n",
      " [[366   0]\n",
      "  [  3   1]]\n",
      "\n",
      " [[369   1]\n",
      "  [  0   0]]] 0.8972972972972973\n"
     ]
    }
   ],
   "source": [
    "print(mcm, accuracy)"
   ]
  },
  {
   "cell_type": "markdown",
   "metadata": {},
   "source": [
    "### Try with encoder"
   ]
  },
  {
   "cell_type": "code",
   "execution_count": 32,
   "metadata": {},
   "outputs": [],
   "source": [
    "from tensorflow.keras.models import load_model"
   ]
  },
  {
   "cell_type": "code",
   "execution_count": 33,
   "metadata": {},
   "outputs": [
    {
     "name": "stdout",
     "output_type": "stream",
     "text": [
      "WARNING:tensorflow:No training configuration found in save file: the model was *not* compiled. Compile it manually.\n"
     ]
    }
   ],
   "source": [
    "# load the model from file\n",
    "encoder = load_model('encoder_half.h5')"
   ]
  },
  {
   "cell_type": "code",
   "execution_count": 34,
   "metadata": {},
   "outputs": [],
   "source": [
    "# encode the train data\n",
    "X_train_encode = encoder.predict(X_train)"
   ]
  },
  {
   "cell_type": "code",
   "execution_count": 35,
   "metadata": {},
   "outputs": [],
   "source": [
    "# encode the test data\n",
    "X_test_encode = encoder.predict(X_test)"
   ]
  },
  {
   "cell_type": "code",
   "execution_count": 36,
   "metadata": {},
   "outputs": [
    {
     "name": "stdout",
     "output_type": "stream",
     "text": [
      "(1478, 283) (370, 283)\n"
     ]
    }
   ],
   "source": [
    "print(X_train_encode.shape,X_test_encode.shape)"
   ]
  },
  {
   "cell_type": "code",
   "execution_count": 40,
   "metadata": {
    "scrolled": true
   },
   "outputs": [
    {
     "name": "stdout",
     "output_type": "stream",
     "text": [
      "Train on 1478 samples\n",
      "Epoch 1/100\n",
      "1478/1478 - 1s - loss: 1.9362 - sparse_categorical_accuracy: 0.0670\n",
      "Epoch 2/100\n",
      "1478/1478 - 0s - loss: 1.1474 - sparse_categorical_accuracy: 0.7097\n",
      "Epoch 3/100\n",
      "1478/1478 - 0s - loss: 0.7359 - sparse_categorical_accuracy: 0.8200\n",
      "Epoch 4/100\n",
      "1478/1478 - 0s - loss: 0.5865 - sparse_categorical_accuracy: 0.8221\n",
      "Epoch 5/100\n",
      "1478/1478 - 0s - loss: 0.5342 - sparse_categorical_accuracy: 0.8234\n",
      "Epoch 6/100\n",
      "1478/1478 - 0s - loss: 0.5090 - sparse_categorical_accuracy: 0.8214\n",
      "Epoch 7/100\n",
      "1478/1478 - 0s - loss: 0.4923 - sparse_categorical_accuracy: 0.8234\n",
      "Epoch 8/100\n",
      "1478/1478 - 0s - loss: 0.4754 - sparse_categorical_accuracy: 0.8254\n",
      "Epoch 9/100\n",
      "1478/1478 - 0s - loss: 0.4628 - sparse_categorical_accuracy: 0.8268\n",
      "Epoch 10/100\n",
      "1478/1478 - 0s - loss: 0.4507 - sparse_categorical_accuracy: 0.8302\n",
      "Epoch 11/100\n",
      "1478/1478 - 0s - loss: 0.4378 - sparse_categorical_accuracy: 0.8315\n",
      "Epoch 12/100\n",
      "1478/1478 - 0s - loss: 0.4271 - sparse_categorical_accuracy: 0.8309\n",
      "Epoch 13/100\n",
      "1478/1478 - 0s - loss: 0.4176 - sparse_categorical_accuracy: 0.8322\n",
      "Epoch 14/100\n",
      "1478/1478 - 0s - loss: 0.4068 - sparse_categorical_accuracy: 0.8322\n",
      "Epoch 15/100\n",
      "1478/1478 - 0s - loss: 0.4000 - sparse_categorical_accuracy: 0.8322\n",
      "Epoch 16/100\n",
      "1478/1478 - 0s - loss: 0.3890 - sparse_categorical_accuracy: 0.8349\n",
      "Epoch 17/100\n",
      "1478/1478 - 0s - loss: 0.3795 - sparse_categorical_accuracy: 0.8356\n",
      "Epoch 18/100\n",
      "1478/1478 - 0s - loss: 0.3706 - sparse_categorical_accuracy: 0.8363\n",
      "Epoch 19/100\n",
      "1478/1478 - 0s - loss: 0.3609 - sparse_categorical_accuracy: 0.8369\n",
      "Epoch 20/100\n",
      "1478/1478 - 0s - loss: 0.3504 - sparse_categorical_accuracy: 0.8383\n",
      "Epoch 21/100\n",
      "1478/1478 - 0s - loss: 0.3400 - sparse_categorical_accuracy: 0.8417\n",
      "Epoch 22/100\n",
      "1478/1478 - 0s - loss: 0.3293 - sparse_categorical_accuracy: 0.8471\n",
      "Epoch 23/100\n",
      "1478/1478 - 0s - loss: 0.3212 - sparse_categorical_accuracy: 0.8512\n",
      "Epoch 24/100\n",
      "1478/1478 - 0s - loss: 0.3136 - sparse_categorical_accuracy: 0.8545\n",
      "Epoch 25/100\n",
      "1478/1478 - 0s - loss: 0.3018 - sparse_categorical_accuracy: 0.8620\n",
      "Epoch 26/100\n",
      "1478/1478 - 0s - loss: 0.2968 - sparse_categorical_accuracy: 0.8660\n",
      "Epoch 27/100\n",
      "1478/1478 - 0s - loss: 0.2871 - sparse_categorical_accuracy: 0.8667\n",
      "Epoch 28/100\n",
      "1478/1478 - 0s - loss: 0.2789 - sparse_categorical_accuracy: 0.8721\n",
      "Epoch 29/100\n",
      "1478/1478 - 0s - loss: 0.2720 - sparse_categorical_accuracy: 0.8782\n",
      "Epoch 30/100\n",
      "1478/1478 - 0s - loss: 0.2640 - sparse_categorical_accuracy: 0.8796\n",
      "Epoch 31/100\n",
      "1478/1478 - 0s - loss: 0.2575 - sparse_categorical_accuracy: 0.8877\n",
      "Epoch 32/100\n",
      "1478/1478 - 0s - loss: 0.2505 - sparse_categorical_accuracy: 0.8884\n",
      "Epoch 33/100\n",
      "1478/1478 - 0s - loss: 0.2443 - sparse_categorical_accuracy: 0.8938\n",
      "Epoch 34/100\n",
      "1478/1478 - 0s - loss: 0.2380 - sparse_categorical_accuracy: 0.8951\n",
      "Epoch 35/100\n",
      "1478/1478 - 0s - loss: 0.2300 - sparse_categorical_accuracy: 0.9019\n",
      "Epoch 36/100\n",
      "1478/1478 - 0s - loss: 0.2243 - sparse_categorical_accuracy: 0.9114\n",
      "Epoch 37/100\n",
      "1478/1478 - 0s - loss: 0.2138 - sparse_categorical_accuracy: 0.9147\n",
      "Epoch 38/100\n",
      "1478/1478 - 0s - loss: 0.2071 - sparse_categorical_accuracy: 0.9181\n",
      "Epoch 39/100\n",
      "1478/1478 - 0s - loss: 0.1969 - sparse_categorical_accuracy: 0.9215\n",
      "Epoch 40/100\n",
      "1478/1478 - 0s - loss: 0.1940 - sparse_categorical_accuracy: 0.9263\n",
      "Epoch 41/100\n",
      "1478/1478 - 0s - loss: 0.1814 - sparse_categorical_accuracy: 0.9310\n",
      "Epoch 42/100\n",
      "1478/1478 - 0s - loss: 0.1675 - sparse_categorical_accuracy: 0.9350\n",
      "Epoch 43/100\n",
      "1478/1478 - 0s - loss: 0.1634 - sparse_categorical_accuracy: 0.9391\n",
      "Epoch 44/100\n",
      "1478/1478 - 0s - loss: 0.1577 - sparse_categorical_accuracy: 0.9384\n",
      "Epoch 45/100\n",
      "1478/1478 - 0s - loss: 0.1453 - sparse_categorical_accuracy: 0.9472\n",
      "Epoch 46/100\n",
      "1478/1478 - 0s - loss: 0.1419 - sparse_categorical_accuracy: 0.9479\n",
      "Epoch 47/100\n",
      "1478/1478 - 0s - loss: 0.1373 - sparse_categorical_accuracy: 0.9513\n",
      "Epoch 48/100\n",
      "1478/1478 - 0s - loss: 0.1280 - sparse_categorical_accuracy: 0.9472\n",
      "Epoch 49/100\n",
      "1478/1478 - 0s - loss: 0.1167 - sparse_categorical_accuracy: 0.9601\n",
      "Epoch 50/100\n",
      "1478/1478 - 0s - loss: 0.1118 - sparse_categorical_accuracy: 0.9614\n",
      "Epoch 51/100\n",
      "1478/1478 - 0s - loss: 0.1053 - sparse_categorical_accuracy: 0.9608\n",
      "Epoch 52/100\n",
      "1478/1478 - 0s - loss: 0.1038 - sparse_categorical_accuracy: 0.9635\n",
      "Epoch 53/100\n",
      "1478/1478 - 0s - loss: 0.0965 - sparse_categorical_accuracy: 0.9668\n",
      "Epoch 54/100\n",
      "1478/1478 - 0s - loss: 0.0903 - sparse_categorical_accuracy: 0.9682\n",
      "Epoch 55/100\n",
      "1478/1478 - 0s - loss: 0.0856 - sparse_categorical_accuracy: 0.9702\n",
      "Epoch 56/100\n",
      "1478/1478 - 0s - loss: 0.0805 - sparse_categorical_accuracy: 0.9716\n",
      "Epoch 57/100\n",
      "1478/1478 - 0s - loss: 0.0772 - sparse_categorical_accuracy: 0.9750\n",
      "Epoch 58/100\n",
      "1478/1478 - 0s - loss: 0.0730 - sparse_categorical_accuracy: 0.9750\n",
      "Epoch 59/100\n",
      "1478/1478 - 0s - loss: 0.0709 - sparse_categorical_accuracy: 0.9756\n",
      "Epoch 60/100\n",
      "1478/1478 - 0s - loss: 0.0685 - sparse_categorical_accuracy: 0.9804\n",
      "Epoch 61/100\n",
      "1478/1478 - 0s - loss: 0.0678 - sparse_categorical_accuracy: 0.9783\n",
      "Epoch 62/100\n",
      "1478/1478 - 0s - loss: 0.0645 - sparse_categorical_accuracy: 0.9783\n",
      "Epoch 63/100\n",
      "1478/1478 - 0s - loss: 0.0612 - sparse_categorical_accuracy: 0.9811\n",
      "Epoch 64/100\n",
      "1478/1478 - 0s - loss: 0.0575 - sparse_categorical_accuracy: 0.9851\n",
      "Epoch 65/100\n",
      "1478/1478 - 0s - loss: 0.0547 - sparse_categorical_accuracy: 0.9844\n",
      "Epoch 66/100\n",
      "1478/1478 - 0s - loss: 0.0516 - sparse_categorical_accuracy: 0.9871\n",
      "Epoch 67/100\n",
      "1478/1478 - 0s - loss: 0.0510 - sparse_categorical_accuracy: 0.9871\n",
      "Epoch 68/100\n",
      "1478/1478 - 0s - loss: 0.0490 - sparse_categorical_accuracy: 0.9905\n",
      "Epoch 69/100\n",
      "1478/1478 - 0s - loss: 0.0488 - sparse_categorical_accuracy: 0.9899\n",
      "Epoch 70/100\n",
      "1478/1478 - 0s - loss: 0.0468 - sparse_categorical_accuracy: 0.9892\n",
      "Epoch 71/100\n",
      "1478/1478 - 0s - loss: 0.0445 - sparse_categorical_accuracy: 0.9905\n",
      "Epoch 72/100\n",
      "1478/1478 - 0s - loss: 0.0414 - sparse_categorical_accuracy: 0.9912\n",
      "Epoch 73/100\n",
      "1478/1478 - 0s - loss: 0.0383 - sparse_categorical_accuracy: 0.9919\n",
      "Epoch 74/100\n",
      "1478/1478 - 0s - loss: 0.0363 - sparse_categorical_accuracy: 0.9919\n",
      "Epoch 75/100\n",
      "1478/1478 - 0s - loss: 0.0344 - sparse_categorical_accuracy: 0.9912\n",
      "Epoch 76/100\n",
      "1478/1478 - 0s - loss: 0.0331 - sparse_categorical_accuracy: 0.9932\n",
      "Epoch 77/100\n",
      "1478/1478 - 0s - loss: 0.0327 - sparse_categorical_accuracy: 0.9926\n",
      "Epoch 78/100\n",
      "1478/1478 - 0s - loss: 0.0337 - sparse_categorical_accuracy: 0.9919\n",
      "Epoch 79/100\n",
      "1478/1478 - 0s - loss: 0.0275 - sparse_categorical_accuracy: 0.9939\n",
      "Epoch 80/100\n",
      "1478/1478 - 0s - loss: 0.0262 - sparse_categorical_accuracy: 0.9946\n",
      "Epoch 81/100\n",
      "1478/1478 - 0s - loss: 0.0226 - sparse_categorical_accuracy: 0.9959\n",
      "Epoch 82/100\n",
      "1478/1478 - 0s - loss: 0.0214 - sparse_categorical_accuracy: 0.9959\n",
      "Epoch 83/100\n",
      "1478/1478 - 0s - loss: 0.0206 - sparse_categorical_accuracy: 0.9959\n",
      "Epoch 84/100\n",
      "1478/1478 - 0s - loss: 0.0204 - sparse_categorical_accuracy: 0.9953\n",
      "Epoch 85/100\n",
      "1478/1478 - 0s - loss: 0.0189 - sparse_categorical_accuracy: 0.9959\n",
      "Epoch 86/100\n",
      "1478/1478 - 0s - loss: 0.0170 - sparse_categorical_accuracy: 0.9966\n",
      "Epoch 87/100\n",
      "1478/1478 - 0s - loss: 0.0166 - sparse_categorical_accuracy: 0.9973\n",
      "Epoch 88/100\n",
      "1478/1478 - 0s - loss: 0.0153 - sparse_categorical_accuracy: 0.9966\n",
      "Epoch 89/100\n",
      "1478/1478 - 0s - loss: 0.0148 - sparse_categorical_accuracy: 0.9959\n",
      "Epoch 90/100\n",
      "1478/1478 - 0s - loss: 0.0140 - sparse_categorical_accuracy: 0.9966\n",
      "Epoch 91/100\n",
      "1478/1478 - 0s - loss: 0.0138 - sparse_categorical_accuracy: 0.9973\n",
      "Epoch 92/100\n",
      "1478/1478 - 0s - loss: 0.0139 - sparse_categorical_accuracy: 0.9966\n",
      "Epoch 93/100\n",
      "1478/1478 - 0s - loss: 0.0127 - sparse_categorical_accuracy: 0.9973\n",
      "Epoch 94/100\n",
      "1478/1478 - 0s - loss: 0.0122 - sparse_categorical_accuracy: 0.9973\n",
      "Epoch 95/100\n",
      "1478/1478 - 0s - loss: 0.0118 - sparse_categorical_accuracy: 0.9993\n",
      "Epoch 96/100\n",
      "1478/1478 - 0s - loss: 0.0114 - sparse_categorical_accuracy: 1.0000\n",
      "Epoch 97/100\n",
      "1478/1478 - 0s - loss: 0.0109 - sparse_categorical_accuracy: 1.0000\n",
      "Epoch 98/100\n",
      "1478/1478 - 0s - loss: 0.0110 - sparse_categorical_accuracy: 1.0000\n",
      "Epoch 99/100\n",
      "1478/1478 - 0s - loss: 0.0105 - sparse_categorical_accuracy: 1.0000\n",
      "Epoch 100/100\n",
      "1478/1478 - 0s - loss: 0.0104 - sparse_categorical_accuracy: 1.0000\n"
     ]
    },
    {
     "data": {
      "text/plain": [
       "<tensorflow.python.keras.callbacks.History at 0x1d5f2d41dc8>"
      ]
     },
     "execution_count": 40,
     "metadata": {},
     "output_type": "execute_result"
    }
   ],
   "source": [
    "ann2 = tf.keras.models.Sequential()\n",
    "ann2.add(tf.keras.layers.Dense(units=6,activation='relu'))\n",
    "ann2.add(tf.keras.layers.Dense(units=6,activation='relu'))\n",
    "ann2.add(tf.keras.layers.Dense(units=5,activation='softmax'))\n",
    "ann2.compile(optimizer='adam',loss= 'sparse_categorical_crossentropy',metrics=['sparse_categorical_accuracy'])\n",
    "ann2.fit(X_train_encode,y_train,batch_size=32,epochs=100,verbose=2)"
   ]
  },
  {
   "cell_type": "code",
   "execution_count": 41,
   "metadata": {},
   "outputs": [
    {
     "name": "stdout",
     "output_type": "stream",
     "text": [
      "370/370 [==============================] - 0s 138us/sample\n"
     ]
    }
   ],
   "source": [
    "y_pred = ann2.predict(X_test_encode,verbose=1)"
   ]
  },
  {
   "cell_type": "code",
   "execution_count": 42,
   "metadata": {},
   "outputs": [
    {
     "name": "stdout",
     "output_type": "stream",
     "text": [
      "370/370 [==============================] - 0s 41us/sample\n"
     ]
    }
   ],
   "source": [
    "y_classes =ann2.predict_classes(X_test_encode,verbose=1)"
   ]
  },
  {
   "cell_type": "code",
   "execution_count": 43,
   "metadata": {},
   "outputs": [],
   "source": [
    "accuracy = accuracy_score(y_test,y_classes)"
   ]
  },
  {
   "cell_type": "code",
   "execution_count": 44,
   "metadata": {},
   "outputs": [],
   "source": [
    "mcm = multilabel_confusion_matrix(y_test,y_classes)"
   ]
  },
  {
   "cell_type": "code",
   "execution_count": 45,
   "metadata": {},
   "outputs": [
    {
     "name": "stdout",
     "output_type": "stream",
     "text": [
      "[[[ 38  19]\n",
      "  [ 25 288]]\n",
      "\n",
      " [[304  28]\n",
      "  [ 20  18]]\n",
      "\n",
      " [[351   4]\n",
      "  [ 11   4]]\n",
      "\n",
      " [[363   3]\n",
      "  [  3   1]]\n",
      "\n",
      " [[365   5]\n",
      "  [  0   0]]] 0.8405405405405405\n"
     ]
    }
   ],
   "source": [
    "print(mcm, accuracy)"
   ]
  },
  {
   "cell_type": "code",
   "execution_count": null,
   "metadata": {},
   "outputs": [],
   "source": []
  }
 ],
 "metadata": {
  "kernelspec": {
   "display_name": "Python 3",
   "language": "python",
   "name": "python3"
  },
  "language_info": {
   "codemirror_mode": {
    "name": "ipython",
    "version": 3
   },
   "file_extension": ".py",
   "mimetype": "text/x-python",
   "name": "python",
   "nbconvert_exporter": "python",
   "pygments_lexer": "ipython3",
   "version": "3.7.3"
  }
 },
 "nbformat": 4,
 "nbformat_minor": 4
}
