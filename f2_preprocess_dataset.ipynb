{
 "cells": [
  {
   "cell_type": "markdown",
   "metadata": {},
   "source": [
    "Εδώ κάνω τις μετατροπές των δεδομένων που εχουν επιλεχθεί μετά από μελέτη του dataset και αποθήκεύση με διορθωμενες τιμες, μετατροπες των στηλων, αφαιρεση των επιλεμενων μεταβλητών και όλα τα κενά (προκύπτει το data2_droplists.csv)"
   ]
  },
  {
   "cell_type": "code",
   "execution_count": 248,
   "metadata": {},
   "outputs": [],
   "source": [
    "import numpy as np\n",
    "import pandas as pd"
   ]
  },
  {
   "cell_type": "code",
   "execution_count": 249,
   "metadata": {},
   "outputs": [],
   "source": [
    "import matplotlib.pyplot as plt\n",
    "import seaborn as sns"
   ]
  },
  {
   "cell_type": "code",
   "execution_count": 250,
   "metadata": {},
   "outputs": [],
   "source": [
    "%matplotlib inline"
   ]
  },
  {
   "cell_type": "code",
   "execution_count": 251,
   "metadata": {},
   "outputs": [],
   "source": [
    "sns.set_style('darkgrid')"
   ]
  },
  {
   "cell_type": "code",
   "execution_count": 252,
   "metadata": {},
   "outputs": [],
   "source": [
    "pd.options.display.float_format = '{:,.2f}'.format "
   ]
  },
  {
   "cell_type": "code",
   "execution_count": 253,
   "metadata": {},
   "outputs": [],
   "source": [
    "#loading unprocessed dataset\n",
    "data = pd.read_csv('data.csv')"
   ]
  },
  {
   "cell_type": "code",
   "execution_count": 254,
   "metadata": {},
   "outputs": [
    {
     "data": {
      "text/plain": [
       "(1848, 749)"
      ]
     },
     "execution_count": 254,
     "metadata": {},
     "output_type": "execute_result"
    }
   ],
   "source": [
    "data.shape"
   ]
  },
  {
   "cell_type": "markdown",
   "metadata": {},
   "source": [
    "#### ΕΛΕΓΧΟΣ ΕΠΙΤΡΕΠΤΩΝ ΤΙΜΩΝ"
   ]
  },
  {
   "cell_type": "code",
   "execution_count": null,
   "metadata": {},
   "outputs": [],
   "source": [
    "#### μετατροπη 'HEIGHT', 'WEIGHT' , 'WAISTCIRCUMFERENCE' σε επιτρεπτες τιμες(έλεγχος απ'το excel ποιές είναι)"
   ]
  },
  {
   "cell_type": "code",
   "execution_count": 255,
   "metadata": {},
   "outputs": [
    {
     "data": {
      "text/plain": [
       "0"
      ]
     },
     "execution_count": 255,
     "metadata": {},
     "output_type": "execute_result"
    }
   ],
   "source": [
    "data['HEIGHT'].isnull().values.sum()"
   ]
  },
  {
   "cell_type": "code",
   "execution_count": 256,
   "metadata": {},
   "outputs": [],
   "source": [
    "#mean to nan\n",
    "data['HEIGHT']= np.where(np.isclose(data['HEIGHT'].values, data['HEIGHT'].mean()), np.nan, data['HEIGHT'].values)\n",
    "data['WEIGHT']= np.where(np.isclose(data['WEIGHT'].values, data['WEIGHT'].mean()), np.nan, data['WEIGHT'].values)\n",
    "data['WAISTCIRCUMFERENCE']= np.where(np.isclose(data['WAISTCIRCUMFERENCE'].values, data['WAISTCIRCUMFERENCE'].mean()),\n",
    "                                     np.nan, data['WAISTCIRCUMFERENCE'].values)"
   ]
  },
  {
   "cell_type": "code",
   "execution_count": 257,
   "metadata": {},
   "outputs": [],
   "source": [
    "data['HEIGHT']= np.where(data['HEIGHT']<105, np.nan, data['HEIGHT'].values)\n",
    "data['WEIGHT']= np.where(data['WEIGHT']<42, np.nan, data['WEIGHT'].values)\n",
    "data['WAISTCIRCUMFERENCE']= np.where(data['WAISTCIRCUMFERENCE']>160, np.nan, data['WAISTCIRCUMFERENCE'].values)\n",
    "data['WAISTCIRCUMFERENCE']= np.where(data['WAISTCIRCUMFERENCE']<53, np.nan, data['WAISTCIRCUMFERENCE'].values)"
   ]
  },
  {
   "cell_type": "code",
   "execution_count": 258,
   "metadata": {},
   "outputs": [
    {
     "data": {
      "text/plain": [
       "138"
      ]
     },
     "execution_count": 258,
     "metadata": {},
     "output_type": "execute_result"
    }
   ],
   "source": [
    "data['HEIGHT'].isnull().values.sum()"
   ]
  },
  {
   "cell_type": "markdown",
   "metadata": {},
   "source": [
    "#### έλεγχος ότι η μεταβλητή 'hAPAQ10',  ώρες ύπνου/μέρα, είναι σε επιτρεπτές τιμές >1h & <24h"
   ]
  },
  {
   "cell_type": "code",
   "execution_count": 259,
   "metadata": {},
   "outputs": [
    {
     "data": {
      "text/plain": [
       "0"
      ]
     },
     "execution_count": 259,
     "metadata": {},
     "output_type": "execute_result"
    }
   ],
   "source": [
    "data['hAPAQ10'].isnull().values.sum()"
   ]
  },
  {
   "cell_type": "code",
   "execution_count": 260,
   "metadata": {},
   "outputs": [],
   "source": [
    "data['hAPAQ10']= np.where(np.isclose(data['hAPAQ10'].values, data['hAPAQ10'].mean()), np.nan, data['hAPAQ10'].values)\n",
    "data['hAPAQ10']= np.where(data['hAPAQ10']<2, np.nan, data['hAPAQ10'].values)\n",
    "data['hAPAQ10']= np.where(data['hAPAQ10']>24, np.nan, data['hAPAQ10'].values) "
   ]
  },
  {
   "cell_type": "code",
   "execution_count": 261,
   "metadata": {},
   "outputs": [
    {
     "data": {
      "text/plain": [
       "259"
      ]
     },
     "execution_count": 261,
     "metadata": {},
     "output_type": "execute_result"
    }
   ],
   "source": [
    "data['hAPAQ10'].isnull().values.sum()"
   ]
  },
  {
   "cell_type": "markdown",
   "metadata": {},
   "source": [
    "#### L20-Systolic, L21-Diastolic Blood Pressure Numbers "
   ]
  },
  {
   "cell_type": "code",
   "execution_count": 262,
   "metadata": {},
   "outputs": [
    {
     "data": {
      "text/html": [
       "<div>\n",
       "<style scoped>\n",
       "    .dataframe tbody tr th:only-of-type {\n",
       "        vertical-align: middle;\n",
       "    }\n",
       "\n",
       "    .dataframe tbody tr th {\n",
       "        vertical-align: top;\n",
       "    }\n",
       "\n",
       "    .dataframe thead th {\n",
       "        text-align: right;\n",
       "    }\n",
       "</style>\n",
       "<table border=\"1\" class=\"dataframe\">\n",
       "  <thead>\n",
       "    <tr style=\"text-align: right;\">\n",
       "      <th></th>\n",
       "      <th>L20</th>\n",
       "      <th>L21</th>\n",
       "    </tr>\n",
       "  </thead>\n",
       "  <tbody>\n",
       "    <tr>\n",
       "      <th>1.30</th>\n",
       "      <td>1.00</td>\n",
       "      <td>nan</td>\n",
       "    </tr>\n",
       "    <tr>\n",
       "      <th>8.00</th>\n",
       "      <td>nan</td>\n",
       "      <td>1.00</td>\n",
       "    </tr>\n",
       "    <tr>\n",
       "      <th>12.00</th>\n",
       "      <td>1.00</td>\n",
       "      <td>nan</td>\n",
       "    </tr>\n",
       "    <tr>\n",
       "      <th>12.50</th>\n",
       "      <td>1.00</td>\n",
       "      <td>nan</td>\n",
       "    </tr>\n",
       "    <tr>\n",
       "      <th>46.00</th>\n",
       "      <td>nan</td>\n",
       "      <td>1.00</td>\n",
       "    </tr>\n",
       "    <tr>\n",
       "      <th>...</th>\n",
       "      <td>...</td>\n",
       "      <td>...</td>\n",
       "    </tr>\n",
       "    <tr>\n",
       "      <th>196.00</th>\n",
       "      <td>2.00</td>\n",
       "      <td>nan</td>\n",
       "    </tr>\n",
       "    <tr>\n",
       "      <th>200.00</th>\n",
       "      <td>2.00</td>\n",
       "      <td>nan</td>\n",
       "    </tr>\n",
       "    <tr>\n",
       "      <th>202.00</th>\n",
       "      <td>1.00</td>\n",
       "      <td>nan</td>\n",
       "    </tr>\n",
       "    <tr>\n",
       "      <th>230.00</th>\n",
       "      <td>1.00</td>\n",
       "      <td>nan</td>\n",
       "    </tr>\n",
       "    <tr>\n",
       "      <th>240.00</th>\n",
       "      <td>1.00</td>\n",
       "      <td>nan</td>\n",
       "    </tr>\n",
       "  </tbody>\n",
       "</table>\n",
       "<p>130 rows × 2 columns</p>\n",
       "</div>"
      ],
      "text/plain": [
       "        L20  L21\n",
       "1.30   1.00  nan\n",
       "8.00    nan 1.00\n",
       "12.00  1.00  nan\n",
       "12.50  1.00  nan\n",
       "46.00   nan 1.00\n",
       "...     ...  ...\n",
       "196.00 2.00  nan\n",
       "200.00 2.00  nan\n",
       "202.00 1.00  nan\n",
       "230.00 1.00  nan\n",
       "240.00 1.00  nan\n",
       "\n",
       "[130 rows x 2 columns]"
      ]
     },
     "execution_count": 262,
     "metadata": {},
     "output_type": "execute_result"
    }
   ],
   "source": [
    "data[['L20', 'L21']].apply(pd.Series.value_counts)"
   ]
  },
  {
   "cell_type": "code",
   "execution_count": 263,
   "metadata": {},
   "outputs": [],
   "source": [
    "data['L20']= np.where(data['L20']<60, np.nan, data['L20'].values)\n",
    "data['L21']= np.where(data['L21']<30, np.nan, data['L21'].values)"
   ]
  },
  {
   "cell_type": "markdown",
   "metadata": {},
   "source": [
    "#### ΜΕΤΑΤΡΟΠΕΣ"
   ]
  },
  {
   "cell_type": "markdown",
   "metadata": {},
   "source": [
    "##### Σε οσες στήλες γίνονται μετατροπές αλλάζει το mean σε nan για να μη χαθούν οι τιμές που λείπουν (γτ το mean θα αλλαξει ως μετά τις αλλαγες)"
   ]
  },
  {
   "cell_type": "code",
   "execution_count": 264,
   "metadata": {},
   "outputs": [
    {
     "data": {
      "text/plain": [
       "0.00    1453\n",
       "3.00     114\n",
       "1.00     111\n",
       "2.00      92\n",
       "4.00      48\n",
       "5.00      22\n",
       "0.52       5\n",
       "6.00       3\n",
       "Name: F24, dtype: int64"
      ]
     },
     "execution_count": 264,
     "metadata": {},
     "output_type": "execute_result"
    }
   ],
   "source": [
    "#στη στηλη αυτη ειναι τα m που μπορει να περπατησει χωρις ξεκουραση, αλλα ειναι αντιστροφα.Θελει απο 0->6 αυξουσα για να\n",
    "# την ιεραρχια, ενω εδω ειναι φθινουσα, δλδ το 6 ειναι το 1m, και το 0 ειναι >1000m συνφωνα με το maelstrom\n",
    "data['F24'].value_counts()"
   ]
  },
  {
   "cell_type": "code",
   "execution_count": 265,
   "metadata": {},
   "outputs": [],
   "source": [
    "data['F24'] = data['F24'].replace([0,1,2,3,4,5,6],[6,5,4,3,2,1,0])"
   ]
  },
  {
   "cell_type": "code",
   "execution_count": 266,
   "metadata": {},
   "outputs": [
    {
     "data": {
      "text/plain": [
       "6.00    1453\n",
       "3.00     114\n",
       "5.00     111\n",
       "4.00      92\n",
       "2.00      48\n",
       "1.00      22\n",
       "0.52       5\n",
       "0.00       3\n",
       "Name: F24, dtype: int64"
      ]
     },
     "execution_count": 266,
     "metadata": {},
     "output_type": "execute_result"
    }
   ],
   "source": [
    "data['F24'].value_counts()"
   ]
  },
  {
   "cell_type": "markdown",
   "metadata": {},
   "source": [
    "#### μεταροπη nan των F29-F33 σε 0 για να ταιριαζουν με το F26=0 που ειναι η μη απωλεια μνημης"
   ]
  },
  {
   "cell_type": "code",
   "execution_count": 267,
   "metadata": {},
   "outputs": [
    {
     "data": {
      "text/html": [
       "<div>\n",
       "<style scoped>\n",
       "    .dataframe tbody tr th:only-of-type {\n",
       "        vertical-align: middle;\n",
       "    }\n",
       "\n",
       "    .dataframe tbody tr th {\n",
       "        vertical-align: top;\n",
       "    }\n",
       "\n",
       "    .dataframe thead th {\n",
       "        text-align: right;\n",
       "    }\n",
       "</style>\n",
       "<table border=\"1\" class=\"dataframe\">\n",
       "  <thead>\n",
       "    <tr style=\"text-align: right;\">\n",
       "      <th></th>\n",
       "      <th>F29</th>\n",
       "      <th>F30</th>\n",
       "      <th>F31</th>\n",
       "      <th>F33</th>\n",
       "    </tr>\n",
       "  </thead>\n",
       "  <tbody>\n",
       "    <tr>\n",
       "      <th>0.00</th>\n",
       "      <td>627.00</td>\n",
       "      <td>458.00</td>\n",
       "      <td>395.00</td>\n",
       "      <td>20.00</td>\n",
       "    </tr>\n",
       "    <tr>\n",
       "      <th>0.10</th>\n",
       "      <td>1,154.00</td>\n",
       "      <td>nan</td>\n",
       "      <td>nan</td>\n",
       "      <td>nan</td>\n",
       "    </tr>\n",
       "    <tr>\n",
       "      <th>0.35</th>\n",
       "      <td>nan</td>\n",
       "      <td>1,152.00</td>\n",
       "      <td>nan</td>\n",
       "      <td>nan</td>\n",
       "    </tr>\n",
       "    <tr>\n",
       "      <th>0.43</th>\n",
       "      <td>nan</td>\n",
       "      <td>nan</td>\n",
       "      <td>1,155.00</td>\n",
       "      <td>nan</td>\n",
       "    </tr>\n",
       "    <tr>\n",
       "      <th>1.00</th>\n",
       "      <td>67.00</td>\n",
       "      <td>231.00</td>\n",
       "      <td>298.00</td>\n",
       "      <td>33.00</td>\n",
       "    </tr>\n",
       "    <tr>\n",
       "      <th>2.00</th>\n",
       "      <td>nan</td>\n",
       "      <td>7.00</td>\n",
       "      <td>nan</td>\n",
       "      <td>1.00</td>\n",
       "    </tr>\n",
       "    <tr>\n",
       "      <th>3.00</th>\n",
       "      <td>nan</td>\n",
       "      <td>nan</td>\n",
       "      <td>nan</td>\n",
       "      <td>12.00</td>\n",
       "    </tr>\n",
       "    <tr>\n",
       "      <th>3.87</th>\n",
       "      <td>nan</td>\n",
       "      <td>nan</td>\n",
       "      <td>nan</td>\n",
       "      <td>347.00</td>\n",
       "    </tr>\n",
       "    <tr>\n",
       "      <th>4.00</th>\n",
       "      <td>nan</td>\n",
       "      <td>nan</td>\n",
       "      <td>nan</td>\n",
       "      <td>1,435.00</td>\n",
       "    </tr>\n",
       "  </tbody>\n",
       "</table>\n",
       "</div>"
      ],
      "text/plain": [
       "          F29      F30      F31      F33\n",
       "0.00   627.00   458.00   395.00    20.00\n",
       "0.10 1,154.00      nan      nan      nan\n",
       "0.35      nan 1,152.00      nan      nan\n",
       "0.43      nan      nan 1,155.00      nan\n",
       "1.00    67.00   231.00   298.00    33.00\n",
       "2.00      nan     7.00      nan     1.00\n",
       "3.00      nan      nan      nan    12.00\n",
       "3.87      nan      nan      nan   347.00\n",
       "4.00      nan      nan      nan 1,435.00"
      ]
     },
     "execution_count": 267,
     "metadata": {},
     "output_type": "execute_result"
    }
   ],
   "source": [
    "#find values for each colunm\n",
    "data[['F29', 'F30','F31','F33']].apply(pd.Series.value_counts)"
   ]
  },
  {
   "cell_type": "code",
   "execution_count": 268,
   "metadata": {},
   "outputs": [],
   "source": [
    "data['F29']= np.where(np.isclose(data['F29'].values, data['F29'].mean()), np.nan, data['F29'].values)\n",
    "data['F30']= np.where(np.isclose(data['F30'].values, data['F30'].mean()), np.nan, data['F30'].values)\n",
    "data['F31']= np.where(np.isclose(data['F31'].values, data['F31'].mean()), np.nan, data['F31'].values)\n",
    "data['F33']= np.where(np.isclose(data['F33'].values, data['F33'].mean()), np.nan, data['F33'].values)"
   ]
  },
  {
   "cell_type": "code",
   "execution_count": 269,
   "metadata": {},
   "outputs": [],
   "source": [
    "#αλλαζω F29->F33 για να ταιριαζουν με το F26=0 και να υπαρχει ιεραρχεια. Η F32 γινεται drop και μπαινει ως τιμη 0 στο F33\n",
    "#τα δοκιμασα και δεν χρειαζεται να τα κανω σε 2 βηματα, το κανει ο αλγοριθμος!\n",
    "data['F29'] = data['F29'].replace([1,0],[2,1])\n",
    "data['F30'] = data['F30'].replace([0,1,2],[1,2,3])\n",
    "data['F31'] = data['F31'].replace(0,2)\n",
    "data['F33'] = data['F33'].replace([0,1,2,3,4],[1,2,3,4,5])"
   ]
  },
  {
   "cell_type": "code",
   "execution_count": 270,
   "metadata": {},
   "outputs": [],
   "source": [
    "#τα nan γινονται 0 για να συμφωνει με το F26 όπου το 0 είναι η μη απώλεια μνήμης,\n",
    "#είναι οι καταχωρησεις που είχαν συμπληρωθεί με mean\n",
    "data['F29'] = data['F29'].replace(np.nan,0)\n",
    "data['F30'] = data['F30'].replace(np.nan,0)\n",
    "data['F31'] = data['F31'].replace(np.nan,0)\n",
    "data['F33'] = data['F33'].replace(np.nan,0)"
   ]
  },
  {
   "cell_type": "markdown",
   "metadata": {},
   "source": [
    "##### DETERMINE & BMI"
   ]
  },
  {
   "cell_type": "markdown",
   "metadata": {},
   "source": [
    "#### Οι στηλες με τις ερωτησεις του DETERMINE δεν εχουν την βαθμολογια που οριζεται στα αρθρα αλλα δυαδικη τιμη 0, 1 για οχι, ναι. Μετατρεπω αρχικα, σε καθε στηλη το 1 στο σκορ που της αντιστοιχει (αφου πρωτα εχω κανει nan τα mean). Στο τελος, αφου εχω δει και πως θα καλληφθουν τα nan σ' ολο το dataser, φτιαχνω στηλη που θα αντιστοιχει στο τελικο σκορ ως αθροισμα των επι μερους στηλων. "
   ]
  },
  {
   "cell_type": "code",
   "execution_count": 271,
   "metadata": {},
   "outputs": [],
   "source": [
    "#mean to nan\n",
    "data['DETERMINE1']= np.where(np.isclose(data['DETERMINE1'].values, data['DETERMINE1'].mean()), np.nan, data['DETERMINE1'].values)\n",
    "data['DETERMINE3']= np.where(np.isclose(data['DETERMINE3'].values, data['DETERMINE3'].mean()), np.nan, data['DETERMINE3'].values)\n",
    "data['DETERMINE4']= np.where(np.isclose(data['DETERMINE4'].values, data['DETERMINE4'].mean()), np.nan, data['DETERMINE4'].values)\n",
    "data['DETERMINE5']= np.where(np.isclose(data['DETERMINE5'].values, data['DETERMINE5'].mean()), np.nan, data['DETERMINE5'].values)\n",
    "data['DETERMINE6']= np.where(np.isclose(data['DETERMINE6'].values, data['DETERMINE6'].mean()), np.nan, data['DETERMINE6'].values)\n",
    "data['DETERMINE7']= np.where(np.isclose(data['DETERMINE7'].values, data['DETERMINE7'].mean()), np.nan, data['DETERMINE7'].values)\n",
    "data['DETERMINE8']= np.where(np.isclose(data['DETERMINE8'].values, data['DETERMINE8'].mean()), np.nan, data['DETERMINE8'].values)\n",
    "data['DETERMINE9']= np.where(np.isclose(data['DETERMINE9'].values, data['DETERMINE9'].mean()), np.nan, data['DETERMINE9'].values)\n",
    "data['DETERMINE10']= (np.where(np.isclose(data['DETERMINE10'].values, data['DETERMINE10'].mean()), np.nan, \n",
    "                               data['DETERMINE10'].values))"
   ]
  },
  {
   "cell_type": "code",
   "execution_count": 272,
   "metadata": {},
   "outputs": [],
   "source": [
    "#αντικατασταση σκορ καθε στηλης μ' αυτο του αρθρου\n",
    "data['DETERMINE1'] = data['DETERMINE1'].replace(1,2)\n",
    "data['DETERMINE2'] = data['DETERMINE2'].replace(1,3)\n",
    "data['DETERMINE3'] = data['DETERMINE3'].replace(1,2)\n",
    "data['DETERMINE4'] = data['DETERMINE4'].replace(1,2)\n",
    "data['DETERMINE5'] = data['DETERMINE5'].replace(1,2)\n",
    "data['DETERMINE6'] = data['DETERMINE6'].replace(1,4)\n",
    "data['DETERMINE9'] = data['DETERMINE9'].replace(1,2)"
   ]
  },
  {
   "cell_type": "code",
   "execution_count": 273,
   "metadata": {},
   "outputs": [
    {
     "data": {
      "text/plain": [
       "(1848, 749)"
      ]
     },
     "execution_count": 273,
     "metadata": {},
     "output_type": "execute_result"
    }
   ],
   "source": [
    "data.shape"
   ]
  },
  {
   "cell_type": "code",
   "execution_count": 274,
   "metadata": {},
   "outputs": [],
   "source": [
    "#σβηνω την προηγουμενη determine_total και τις στηλες του bmi\n",
    "data.drop(['DETERMINE_TOTAL','BMI','BMI_calcul'],axis=1,inplace=True)"
   ]
  },
  {
   "cell_type": "code",
   "execution_count": 275,
   "metadata": {},
   "outputs": [],
   "source": [
    "#νεα στηλη για ολικο σκορ του DETERMINE \n",
    "#πρεπει να φτιαχτει στο τελος αφου εχουν συμπληρωθει τα nan, εκτος κι αν κανω SimpleImputer που γινεται απο πριν\n",
    "data['determine_sum'] = (data['DETERMINE1']+data['DETERMINE2']+data['DETERMINE3']+data['DETERMINE4']+\n",
    "                         data['DETERMINE5']+data['DETERMINE6']+data['DETERMINE7']+data['DETERMINE8']+\n",
    "                         data['DETERMINE9']+data['DETERMINE10'])"
   ]
  },
  {
   "cell_type": "code",
   "execution_count": 276,
   "metadata": {},
   "outputs": [
    {
     "name": "stdout",
     "output_type": "stream",
     "text": [
      "Number of null values in dataset:  1439\n",
      "Percentage:  0.10424091749392955\n"
     ]
    },
    {
     "data": {
      "text/plain": [
       "<matplotlib.axes._subplots.AxesSubplot at 0x2d194959748>"
      ]
     },
     "execution_count": 276,
     "metadata": {},
     "output_type": "execute_result"
    },
    {
     "data": {
      "image/png": "[encoded data removed]",
      "text/plain": [
       "<Figure size 1152x432 with 1 Axes>"
      ]
     },
     "metadata": {},
     "output_type": "display_data"
    }
   ],
   "source": [
    "#βλεπω το ποσοστο των null αμεσως μετα τις μετατροπες\n",
    "\n",
    "print(\"Number of null values in dataset: \",data.isnull().values.sum()) #αριθμος\n",
    "print(\"Percentage: \",(data.isnull().sum().sum()/data.size)*100) #ποσοστο\n",
    "\n",
    "plt.figure(figsize=(16,6))\n",
    "sns.heatmap(data.isnull(),yticklabels=False,cbar=False,cmap='cividis')"
   ]
  },
  {
   "cell_type": "code",
   "execution_count": 277,
   "metadata": {
    "scrolled": true
   },
   "outputs": [
    {
     "name": "stdout",
     "output_type": "stream",
     "text": [
      "Number of null values in dataset:  116209\n",
      "Percentage:  8.4181603759917\n"
     ]
    }
   ],
   "source": [
    "#μετατρεπω τα mean σε null \n",
    "for column in data:\n",
    "        data[column] = np.where(np.isclose(data[column].values, data[column].mean()), np.nan, data[column].values)\n",
    "        \n",
    "print(\"Number of null values in dataset: \",data.isnull().values.sum()) #αριθμος\n",
    "print(\"Percentage: \",(data.isnull().sum().sum()/data.size)*100) #ποσοστο"
   ]
  },
  {
   "cell_type": "markdown",
   "metadata": {},
   "source": [
    "##### υπαρχουν ομως πολλες στηλες με τιμες <0,05 ενω είναι κατηγορικές, και δεν τις πιανει το mean για να γινουν nan, αρα αντικαθιστωνται με συνθηκη"
   ]
  },
  {
   "cell_type": "code",
   "execution_count": 278,
   "metadata": {},
   "outputs": [],
   "source": [
    "data=data.apply(lambda x: np.where((x >0)&(x<0.08),np.nan,x))"
   ]
  },
  {
   "cell_type": "markdown",
   "metadata": {},
   "source": [
    "##### αυξηση των ελλιπων τιμων μετα την αντικατασταση των τιμων >0 & <0,05 "
   ]
  },
  {
   "cell_type": "code",
   "execution_count": 279,
   "metadata": {},
   "outputs": [
    {
     "name": "stdout",
     "output_type": "stream",
     "text": [
      "Number of null values in dataset:  170039\n",
      "Percentage:  12.317596504343491\n"
     ]
    },
    {
     "data": {
      "text/plain": [
       "<matplotlib.axes._subplots.AxesSubplot at 0x2d1f9ed2f88>"
      ]
     },
     "execution_count": 279,
     "metadata": {},
     "output_type": "execute_result"
    },
    {
     "data": {
      "image/png": "[encoded data removed]",
      "text/plain": [
       "<Figure size 1152x432 with 1 Axes>"
      ]
     },
     "metadata": {},
     "output_type": "display_data"
    }
   ],
   "source": [
    "print(\"Number of null values in dataset: \",data.isnull().values.sum()) #αριθμος\n",
    "print(\"Percentage: \",(data.isnull().sum().sum()/data.size)*100) #ποσοστο\n",
    "\n",
    "plt.figure(figsize=(16,6))\n",
    "sns.heatmap(data.isnull(),yticklabels=False,cbar=False,cmap='cividis')"
   ]
  },
  {
   "cell_type": "markdown",
   "metadata": {},
   "source": [
    "##### μετατροπη στηλων προβλεψης (στο τελος αυτες γιατι αφαιρουνται 10 γραμμες κι αλλαζει το mean)"
   ]
  },
  {
   "cell_type": "code",
   "execution_count": 280,
   "metadata": {},
   "outputs": [
    {
     "data": {
      "text/plain": [
       "0.00    1520\n",
       "0.50     240\n",
       "1.00      60\n",
       "2.00      14\n",
       "3.00      11\n",
       "Name: G1, dtype: int64"
      ]
     },
     "execution_count": 280,
     "metadata": {},
     "output_type": "execute_result"
    }
   ],
   "source": [
    "data['G1'].value_counts()\n",
    "# 0.000  None\n",
    "# 0.500  Questionable\n",
    "# 1.000  Mild\n",
    "# 2.000  Moderate\n",
    "# 3.000  Severe\n",
    "# 0.131  nan"
   ]
  },
  {
   "cell_type": "code",
   "execution_count": 281,
   "metadata": {},
   "outputs": [
    {
     "data": {
      "text/plain": [
       "0.00    1543\n",
       "1.00     217\n",
       "2.00      78\n",
       "Name: G21, dtype: int64"
      ]
     },
     "execution_count": 281,
     "metadata": {},
     "output_type": "execute_result"
    }
   ],
   "source": [
    "data['G21'].value_counts()\n",
    "# 0.000  Normal\n",
    "# 0.500  MCI\n",
    "# 1.000  Dementia"
   ]
  },
  {
   "cell_type": "code",
   "execution_count": 282,
   "metadata": {},
   "outputs": [],
   "source": [
    "data['G1']= np.where(np.isclose(data['G1'].values, data['G1'].mean()), np.nan, data['G1'].values)#mean to nan\n",
    "data['G1'] = data['G1'].replace([0,0.5,1,2,3,4,5],[0,1,2,3,4,5,6])                                "
   ]
  },
  {
   "cell_type": "code",
   "execution_count": 283,
   "metadata": {},
   "outputs": [],
   "source": [
    "data['G21']= np.where(np.isclose(data['G21'].values, data['G21'].mean()), np.nan, data['G21'].values)#mean to nan                      "
   ]
  },
  {
   "cell_type": "code",
   "execution_count": 284,
   "metadata": {},
   "outputs": [
    {
     "name": "stdout",
     "output_type": "stream",
     "text": [
      "3\n",
      "10\n"
     ]
    }
   ],
   "source": [
    "print(data['G1'].isnull().values.sum())\n",
    "print(data['G21'].isnull().values.sum())"
   ]
  },
  {
   "cell_type": "code",
   "execution_count": 285,
   "metadata": {},
   "outputs": [],
   "source": [
    "#Οι 3 καταχωρησεις όπου G1=nan εχουν και G21=nan, αρα αφαιρω μόνο τις 10 nan του G21 και καθαρίζουν οι μεταβλητες πρόβλεψης \n",
    "data.dropna(subset=['G21'], inplace=True)"
   ]
  },
  {
   "cell_type": "code",
   "execution_count": 286,
   "metadata": {},
   "outputs": [
    {
     "name": "stdout",
     "output_type": "stream",
     "text": [
      "(1838, 747)\n"
     ]
    }
   ],
   "source": [
    "print(data.shape)"
   ]
  },
  {
   "cell_type": "markdown",
   "metadata": {},
   "source": [
    "##### μετατροπες με κωδικους  στο excel"
   ]
  },
  {
   "cell_type": "code",
   "execution_count": 287,
   "metadata": {
    "scrolled": true
   },
   "outputs": [
    {
     "name": "stdout",
     "output_type": "stream",
     "text": [
      "(3, 749)\n"
     ]
    },
    {
     "data": {
      "text/html": [
       "<div>\n",
       "<style scoped>\n",
       "    .dataframe tbody tr th:only-of-type {\n",
       "        vertical-align: middle;\n",
       "    }\n",
       "\n",
       "    .dataframe tbody tr th {\n",
       "        vertical-align: top;\n",
       "    }\n",
       "\n",
       "    .dataframe thead th {\n",
       "        text-align: right;\n",
       "    }\n",
       "</style>\n",
       "<table border=\"1\" class=\"dataframe\">\n",
       "  <thead>\n",
       "    <tr style=\"text-align: right;\">\n",
       "      <th></th>\n",
       "      <th>A0_BloodTaken</th>\n",
       "      <th>A1a_City</th>\n",
       "      <th>A1b_random_sample</th>\n",
       "      <th>A10_age</th>\n",
       "      <th>A11_sex</th>\n",
       "      <th>A30_insurance</th>\n",
       "      <th>A16_witness_self</th>\n",
       "      <th>B1_greek_main_lang</th>\n",
       "      <th>B2_main_occupation</th>\n",
       "      <th>B6_father_occup</th>\n",
       "      <th>...</th>\n",
       "      <th>TMTratio</th>\n",
       "      <th>vfsem1stobj</th>\n",
       "      <th>vfsemobjrelated</th>\n",
       "      <th>vfsemobjcluste</th>\n",
       "      <th>vfsemobjswich</th>\n",
       "      <th>vfsemobjerr</th>\n",
       "      <th>vfsemobjpererr</th>\n",
       "      <th>vfphon1stalphobj</th>\n",
       "      <th>vfpharelated</th>\n",
       "      <th>DETERMINE_TOTAL</th>\n",
       "    </tr>\n",
       "  </thead>\n",
       "  <tbody>\n",
       "    <tr>\n",
       "      <th>0</th>\n",
       "      <td>drop</td>\n",
       "      <td>drop</td>\n",
       "      <td>drop</td>\n",
       "      <td>NaN</td>\n",
       "      <td>ohe</td>\n",
       "      <td>zerovar</td>\n",
       "      <td>zerovar</td>\n",
       "      <td>zerovar</td>\n",
       "      <td>NaN</td>\n",
       "      <td>NaN</td>\n",
       "      <td>...</td>\n",
       "      <td>NaN</td>\n",
       "      <td>NaN</td>\n",
       "      <td>NaN</td>\n",
       "      <td>NaN</td>\n",
       "      <td>NaN</td>\n",
       "      <td>NaN</td>\n",
       "      <td>NaN</td>\n",
       "      <td>NaN</td>\n",
       "      <td>NaN</td>\n",
       "      <td>nan</td>\n",
       "    </tr>\n",
       "    <tr>\n",
       "      <th>1</th>\n",
       "      <td>Blood sample</td>\n",
       "      <td>City of examination</td>\n",
       "      <td>Random sample</td>\n",
       "      <td>Age</td>\n",
       "      <td>Gender</td>\n",
       "      <td>Insurance</td>\n",
       "      <td>Person providing the information</td>\n",
       "      <td>Participant's spoken language</td>\n",
       "      <td>Occupation when working</td>\n",
       "      <td>Father's occupation</td>\n",
       "      <td>...</td>\n",
       "      <td>TMT ratio (B: Α)</td>\n",
       "      <td>Semantic objects</td>\n",
       "      <td>Semantic objects related words</td>\n",
       "      <td>Semantic objects cluster</td>\n",
       "      <td>Semantic objects switches</td>\n",
       "      <td>Semantic objects error</td>\n",
       "      <td>Semantic objects perseverations</td>\n",
       "      <td>Phonological letter \"a\"</td>\n",
       "      <td>Phonological letter \"a\" related</td>\n",
       "      <td>nan</td>\n",
       "    </tr>\n",
       "    <tr>\n",
       "      <th>2</th>\n",
       "      <td>NaN</td>\n",
       "      <td>1=larisa 2=marous</td>\n",
       "      <td>NaN</td>\n",
       "      <td>NaN</td>\n",
       "      <td>1=male 2=female</td>\n",
       "      <td>NaN</td>\n",
       "      <td>NaN</td>\n",
       "      <td>NaN</td>\n",
       "      <td>NaN</td>\n",
       "      <td>NaN</td>\n",
       "      <td>...</td>\n",
       "      <td>NaN</td>\n",
       "      <td>NaN</td>\n",
       "      <td>NaN</td>\n",
       "      <td>NaN</td>\n",
       "      <td>NaN</td>\n",
       "      <td>NaN</td>\n",
       "      <td>NaN</td>\n",
       "      <td>NaN</td>\n",
       "      <td>NaN</td>\n",
       "      <td>nan</td>\n",
       "    </tr>\n",
       "  </tbody>\n",
       "</table>\n",
       "<p>3 rows × 749 columns</p>\n",
       "</div>"
      ],
      "text/plain": [
       "  A0_BloodTaken              A1a_City A1b_random_sample A10_age  \\\n",
       "0          drop                  drop              drop     NaN   \n",
       "1  Blood sample  City of examination      Random sample     Age   \n",
       "2           NaN     1=larisa 2=marous               NaN     NaN   \n",
       "\n",
       "           A11_sex A30_insurance                  A16_witness_self  \\\n",
       "0              ohe       zerovar                           zerovar   \n",
       "1           Gender     Insurance  Person providing the information   \n",
       "2  1=male 2=female           NaN                               NaN   \n",
       "\n",
       "              B1_greek_main_lang       B2_main_occupation  \\\n",
       "0                        zerovar                      NaN   \n",
       "1  Participant's spoken language  Occupation when working   \n",
       "2                            NaN                      NaN   \n",
       "\n",
       "       B6_father_occup  ...          TMTratio       vfsem1stobj  \\\n",
       "0                  NaN  ...               NaN               NaN   \n",
       "1  Father's occupation  ...  TMT ratio (B: Α)  Semantic objects   \n",
       "2                  NaN  ...               NaN               NaN   \n",
       "\n",
       "                  vfsemobjrelated            vfsemobjcluste  \\\n",
       "0                             NaN                       NaN   \n",
       "1  Semantic objects related words  Semantic objects cluster   \n",
       "2                             NaN                       NaN   \n",
       "\n",
       "               vfsemobjswich             vfsemobjerr  \\\n",
       "0                        NaN                     NaN   \n",
       "1  Semantic objects switches  Semantic objects error   \n",
       "2                        NaN                     NaN   \n",
       "\n",
       "                    vfsemobjpererr         vfphon1stalphobj  \\\n",
       "0                              NaN                      NaN   \n",
       "1  Semantic objects perseverations  Phonological letter \"a\"   \n",
       "2                              NaN                      NaN   \n",
       "\n",
       "                      vfpharelated DETERMINE_TOTAL  \n",
       "0                              NaN             nan  \n",
       "1  Phonological letter \"a\" related             nan  \n",
       "2                              NaN             nan  \n",
       "\n",
       "[3 rows x 749 columns]"
      ]
     },
     "execution_count": 287,
     "metadata": {},
     "output_type": "execute_result"
    }
   ],
   "source": [
    "process_codes = pd.read_excel('data_xl.xlsx',sheet_name='clmn_names',encoding = \"ISO-8859-7\")\n",
    "print(process_codes.shape)\n",
    "process_codes.head()"
   ]
  },
  {
   "cell_type": "code",
   "execution_count": 288,
   "metadata": {},
   "outputs": [
    {
     "name": "stdout",
     "output_type": "stream",
     "text": [
      "['A0_BloodTaken', 'A1a_City', 'A1b_random_sample', 'B13a_married', 'B13c_age_married', 'B13e_widower', 'B13f_widower_years', 'B13g_divorced', 'B13m_num_kids_away', 'B14b_residence_rent', 'B17_summer_holidays', 'B17b_holidays_location', 'B17c_holidays_abroad', 'C30_age_start_smoking', 'C31_age_stop_smoking', 'D1_father_alive', 'D2b_father_died_at_age_of', 'D4_mother_alive', 'D4b_mother_died_at_age_of', 'D5b_siblings_has_history', 'D29_num_children', 'F32', 'K42', 'K43', 'K44', 'hAPAQ7', 'hAPAQ19', 'hAPAQ20', 'Readletters1', 'Readwords1', 'Readingsyllables1', 'Read_matchsentence', 'clockcopy'] 33\n"
     ]
    },
    {
     "name": "stderr",
     "output_type": "stream",
     "text": [
      "C:\\Users\\redi\\Anaconda3\\envs\\tf\\lib\\site-packages\\pandas\\core\\ops\\array_ops.py:253: FutureWarning: elementwise comparison failed; returning scalar instead, but in the future will perform elementwise comparison\n",
      "  res_values = method(rvalues)\n"
     ]
    }
   ],
   "source": [
    "#αποθηκευω σε λιστα τις στηλες που θελω να κανω drop\n",
    "drop_list = list(process_codes.columns[(process_codes=='drop').iloc[0]])\n",
    "print(drop_list,len(drop_list))\n"
   ]
  },
  {
   "cell_type": "code",
   "execution_count": 289,
   "metadata": {
    "scrolled": true
   },
   "outputs": [
    {
     "name": "stdout",
     "output_type": "stream",
     "text": [
      "['B17a_holidays_days', 'C29_cigars_daily', 'C32_years_smoker', 'C45_social_drinker_self', 'C46_social_drinker_others', 'C47_drink_alone', 'C48_drink_morning', 'C50i_stroke_sudden', 'C50j_stroke_duration', 'C50n_stroke_hospital_duration', 'FFQ0', 'hAPAQ18'] 12\n"
     ]
    }
   ],
   "source": [
    "#αποθηκευω σε λιστα τις στηλες οπου το mean πρεπει να γινει 0\n",
    "tozero_list = list(process_codes.columns[(process_codes=='tozero').iloc[0]])\n",
    "print(tozero_list,len(tozero_list))"
   ]
  },
  {
   "cell_type": "code",
   "execution_count": 290,
   "metadata": {},
   "outputs": [
    {
     "name": "stdout",
     "output_type": "stream",
     "text": [
      "['A30_insurance', 'A16_witness_self', 'B1_greek_main_lang', 'C14_doping', 'C15b_LOC_duration', 'C22_normal_pressure_hydrocephalus', 'D3b_parent_history_other', 'D6b_mother_history_other', 'D5d_siblings_history_b', 'D5e_siblings_history_c', 'D9f_min_sibling_alive_age', 'D9f_max_sibling_alive_age', 'D9a_min_sibling_death_age', 'D9a_max_sibling_death_age', 'D29b_children_has_history', 'D29c_children_history', 'K1', 'K2', 'K4', 'K10', 'K13', 'L46', 'L47', 'L48', 'I4', 'I11d', 'I12'] 27\n"
     ]
    }
   ],
   "source": [
    "#αποθηκευω σε λιστα τις στηλες near-zero variance\n",
    "zerovar_list = list(process_codes.columns[(process_codes=='zerovar').iloc[0]])\n",
    "print(zerovar_list,len(zerovar_list))"
   ]
  },
  {
   "cell_type": "code",
   "execution_count": 291,
   "metadata": {},
   "outputs": [
    {
     "name": "stdout",
     "output_type": "stream",
     "text": [
      "['C26a_mensturation_start', 'C26b_mensturation_stop', 'C26c_mensturation_duration', 'C26d_mensturation_normal', 'C26e_pregnancies', 'C26g_abortions', 'C26h_abortions_provoked'] 7\n"
     ]
    }
   ],
   "source": [
    "#αποθηκευω σε λιστα τις στηλες που ειναι ειδικες για το φυλλο gs=gender specific\n",
    "gs_list = list(process_codes.columns[(process_codes=='gs').iloc[0]])\n",
    "print(gs_list,len(gs_list))"
   ]
  },
  {
   "cell_type": "code",
   "execution_count": 292,
   "metadata": {},
   "outputs": [
    {
     "name": "stdout",
     "output_type": "stream",
     "text": [
      "['A11_sex', 'D3a_parent_history', 'hAPAQ21'] 3\n"
     ]
    }
   ],
   "source": [
    "#αποθηκευω σε λιστα τις στηλες για one hot encoding\n",
    "ohe_list = list(process_codes.columns[(process_codes=='ohe').iloc[0]])\n",
    "print(ohe_list,len(ohe_list))"
   ]
  },
  {
   "cell_type": "markdown",
   "metadata": {},
   "source": [
    "##### fillna οι στηλες tozero (πρεπει να αντικατασταθουν πριν γινουν drop οι στηλες >60% null, γτ πεταει κι αυτες)"
   ]
  },
  {
   "cell_type": "code",
   "execution_count": 293,
   "metadata": {},
   "outputs": [
    {
     "data": {
      "text/plain": [
       "613"
      ]
     },
     "execution_count": 293,
     "metadata": {},
     "output_type": "execute_result"
    }
   ],
   "source": [
    "data['B17a_holidays_days'].isnull().values.sum()"
   ]
  },
  {
   "cell_type": "code",
   "execution_count": 294,
   "metadata": {},
   "outputs": [
    {
     "name": "stdout",
     "output_type": "stream",
     "text": [
      "Number of null values in dataset:  168541\n",
      "Percentage:  12.275507543412678\n"
     ]
    }
   ],
   "source": [
    "print(\"Number of null values in dataset: \",data.isnull().values.sum()) #αριθμος\n",
    "print(\"Percentage: \",(data.isnull().sum().sum()/data.size)*100) #ποσοστο"
   ]
  },
  {
   "cell_type": "code",
   "execution_count": 295,
   "metadata": {},
   "outputs": [],
   "source": [
    "#τμηματικα. στις στηλες που οριζει η λιστα\n",
    "data[tozero_list] = data[tozero_list].fillna(value=0)"
   ]
  },
  {
   "cell_type": "code",
   "execution_count": 296,
   "metadata": {},
   "outputs": [
    {
     "data": {
      "text/plain": [
       "0"
      ]
     },
     "execution_count": 296,
     "metadata": {},
     "output_type": "execute_result"
    }
   ],
   "source": [
    "data['B17a_holidays_days'].isnull().values.sum()"
   ]
  },
  {
   "cell_type": "code",
   "execution_count": 297,
   "metadata": {},
   "outputs": [
    {
     "name": "stdout",
     "output_type": "stream",
     "text": [
      "Number of null values in dataset:  155429\n",
      "Percentage:  11.320508730606138\n"
     ]
    }
   ],
   "source": [
    "print(\"Number of null values in dataset: \",data.isnull().values.sum()) #αριθμος\n",
    "print(\"Percentage: \",(data.isnull().sum().sum()/data.size)*100) #ποσοστο"
   ]
  },
  {
   "cell_type": "markdown",
   "metadata": {},
   "source": [
    "##### Drop nulls ~60 %"
   ]
  },
  {
   "cell_type": "code",
   "execution_count": 298,
   "metadata": {},
   "outputs": [
    {
     "name": "stdout",
     "output_type": "stream",
     "text": [
      "(1838, 747)\n"
     ]
    }
   ],
   "source": [
    "print(data.shape)\n",
    "befor= data.columns.tolist()"
   ]
  },
  {
   "cell_type": "code",
   "execution_count": 299,
   "metadata": {},
   "outputs": [
    {
     "name": "stdout",
     "output_type": "stream",
     "text": [
      "C50k_stroke_recovery        94.12\n",
      "C50l_stroke_diplopia        92.98\n",
      "C50o_stroke_treatment       92.76\n",
      "C50m_stroke_in_hospital     92.49\n",
      "Read_matchsentence          78.56\n",
      "Readingsyllables1           78.45\n",
      "Readwords1                  77.64\n",
      "Readletters1                77.37\n",
      "K45                         77.31\n",
      "ST_E_1_figurerectruepos     76.28\n",
      "ST_E_1_figurerectrueneg     76.28\n",
      "ST_E_1_figurerecfalsepos    76.28\n",
      "ST_E_1_figurerecfalseneg    76.28\n",
      "figurerecognitionSUM        76.28\n",
      "clockcopy                   75.14\n",
      "B13f_widower_years          74.48\n",
      "C31_age_stop_smoking        71.82\n",
      "I11d                        67.79\n",
      "DENTAL_PLATE_FOOD           67.36\n",
      "hAPAQ20                     67.14\n",
      "DENTAL_PLATE                65.94\n",
      "hAPAQ19                     65.89\n",
      "F32                         64.53\n",
      "K44                         64.20\n",
      "K43                         64.15\n",
      "K42                         64.15\n",
      "I12                         61.86\n",
      "I4                          61.75\n",
      "D9a_max_sibling_death_age   61.70\n",
      "D9a_min_sibling_death_age   61.70\n",
      "C30_age_start_smoking       60.77\n",
      "D9f_max_sibling_alive_age   55.93\n",
      "D9f_min_sibling_alive_age   55.93\n",
      "MonthsBerr                  54.46\n",
      "MonthsRatio                 54.35\n",
      "MonthsBsec                  54.35\n",
      "MonthsAerr                  51.25\n",
      "MonthsAsec                  51.25\n",
      "clockA1st                   48.59\n",
      "A30_insurance               46.14\n",
      "dtype: float64\n"
     ]
    }
   ],
   "source": [
    "#see percentage of nulls per column, making a series\n",
    "nan_perc = data.isna().mean()*100 \n",
    "nan_perc.sort_values(ascending=False,inplace=True)\n",
    "print(nan_perc[:40])"
   ]
  },
  {
   "cell_type": "code",
   "execution_count": 300,
   "metadata": {},
   "outputs": [],
   "source": [
    "# Only drop columns which have at least 40% non-NaNs !!! nan~60%\n",
    "data=(data.dropna(thresh=int(data.shape[0] * .4), axis=1))"
   ]
  },
  {
   "cell_type": "code",
   "execution_count": 301,
   "metadata": {},
   "outputs": [
    {
     "data": {
      "text/plain": [
       "(1838, 716)"
      ]
     },
     "execution_count": 301,
     "metadata": {},
     "output_type": "execute_result"
    }
   ],
   "source": [
    "data.shape"
   ]
  },
  {
   "cell_type": "code",
   "execution_count": 302,
   "metadata": {},
   "outputs": [
    {
     "data": {
      "text/plain": [
       "['B13f_widower_years',\n",
       " 'C30_age_start_smoking',\n",
       " 'C31_age_stop_smoking',\n",
       " 'C50k_stroke_recovery',\n",
       " 'C50l_stroke_diplopia',\n",
       " 'C50m_stroke_in_hospital',\n",
       " 'C50o_stroke_treatment',\n",
       " 'clockcopy',\n",
       " 'D9a_max_sibling_death_age',\n",
       " 'D9a_min_sibling_death_age',\n",
       " 'DENTAL_PLATE',\n",
       " 'DENTAL_PLATE_FOOD',\n",
       " 'F32',\n",
       " 'figurerecognitionSUM',\n",
       " 'hAPAQ19',\n",
       " 'hAPAQ20',\n",
       " 'I11d',\n",
       " 'I12',\n",
       " 'I4',\n",
       " 'K42',\n",
       " 'K43',\n",
       " 'K44',\n",
       " 'K45',\n",
       " 'Read_matchsentence',\n",
       " 'Readingsyllables1',\n",
       " 'Readletters1',\n",
       " 'Readwords1',\n",
       " 'ST_E_1_figurerecfalseneg',\n",
       " 'ST_E_1_figurerecfalsepos',\n",
       " 'ST_E_1_figurerectrueneg',\n",
       " 'ST_E_1_figurerectruepos']"
      ]
     },
     "execution_count": 302,
     "metadata": {},
     "output_type": "execute_result"
    }
   ],
   "source": [
    "after= data.columns.tolist()\n",
    "diff = list(set(befor).difference(after))\n",
    "sorted(diff, key=str.lower)"
   ]
  },
  {
   "cell_type": "code",
   "execution_count": 303,
   "metadata": {},
   "outputs": [],
   "source": [
    "#drop my lists με if, αν δεν υπάρχουν οσες εχουν αφαιρεθει ηδη\n",
    "data.drop(list(drop_list),errors = 'ignore',axis=1,inplace=True)\n",
    "data.drop(list(zerovar_list),errors = 'ignore',axis=1,inplace=True)\n",
    "data.drop(list(gs_list),errors = 'ignore',axis=1,inplace=True)"
   ]
  },
  {
   "cell_type": "code",
   "execution_count": 304,
   "metadata": {},
   "outputs": [
    {
     "data": {
      "text/plain": [
       "(1838, 668)"
      ]
     },
     "execution_count": 304,
     "metadata": {},
     "output_type": "execute_result"
    }
   ],
   "source": [
    "data.shape"
   ]
  },
  {
   "cell_type": "code",
   "execution_count": 305,
   "metadata": {},
   "outputs": [
    {
     "name": "stdout",
     "output_type": "stream",
     "text": [
      "Number of null values in dataset:  97121\n",
      "Percentage:  7.910267604073681\n"
     ]
    }
   ],
   "source": [
    "print(\"Number of null values in dataset: \",data.isnull().values.sum()) #αριθμος\n",
    "print(\"Percentage: \",(data.isnull().sum().sum()/data.size)*100) #ποσοστο"
   ]
  },
  {
   "cell_type": "code",
   "execution_count": 306,
   "metadata": {},
   "outputs": [],
   "source": [
    "data.to_csv(r'data2_droplists.csv',index=False, float_format='%.2f')#point precision in csv"
   ]
  },
  {
   "cell_type": "code",
   "execution_count": null,
   "metadata": {},
   "outputs": [],
   "source": []
  }
 ],
 "metadata": {
  "kernelspec": {
   "display_name": "Python 3 (ipykernel)",
   "language": "python",
   "name": "python3"
  },
  "language_info": {
   "codemirror_mode": {
    "name": "ipython",
    "version": 3
   },
   "file_extension": ".py",
   "mimetype": "text/x-python",
   "name": "python",
   "nbconvert_exporter": "python",
   "pygments_lexer": "ipython3",
   "version": "3.7.11"
  }
 },
 "nbformat": 4,
 "nbformat_minor": 4
}
