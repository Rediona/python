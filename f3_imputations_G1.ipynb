{
 "cells": [
  {
   "cell_type": "markdown",
   "id": "92f5a3bf",
   "metadata": {},
   "source": [
    "Συμπλήρωση ελλιπών τιμών με τρείς διαφορετικές μεοδολογίες, Knn, Iterative imputation, multiple imputation miceforest."
   ]
  },
  {
   "cell_type": "code",
   "execution_count": 1,
   "id": "46b2c6b6",
   "metadata": {},
   "outputs": [],
   "source": [
    "import numpy as np\n",
    "import pandas as pd\n",
    "import matplotlib.pyplot as plt\n",
    "import seaborn as sns\n",
    "%matplotlib inline\n",
    "sns.set_style('darkgrid')\n",
    "pd.options.display.float_format = '{:,.3f}'.format"
   ]
  },
  {
   "cell_type": "code",
   "execution_count": 2,
   "id": "d60edbef",
   "metadata": {},
   "outputs": [],
   "source": [
    "from sklearn.preprocessing import MinMaxScaler"
   ]
  },
  {
   "cell_type": "code",
   "execution_count": 3,
   "id": "4458768a",
   "metadata": {},
   "outputs": [],
   "source": [
    "from numpy import isnan"
   ]
  },
  {
   "cell_type": "code",
   "execution_count": 4,
   "id": "f826eb6f",
   "metadata": {},
   "outputs": [],
   "source": [
    "#data WITHOUT near-zero value columns\n",
    "data = pd.read_csv('data2_droplists.csv')"
   ]
  },
  {
   "cell_type": "code",
   "execution_count": 5,
   "id": "47356d18",
   "metadata": {},
   "outputs": [
    {
     "data": {
      "text/plain": [
       "(1838, 668)"
      ]
     },
     "execution_count": 5,
     "metadata": {},
     "output_type": "execute_result"
    }
   ],
   "source": [
    "data.shape"
   ]
  },
  {
   "cell_type": "code",
   "execution_count": 6,
   "id": "845e79b0",
   "metadata": {},
   "outputs": [],
   "source": [
    "#make sure dataset has only numbers\n",
    "data = data.apply(pd.to_numeric)"
   ]
  },
  {
   "cell_type": "code",
   "execution_count": 8,
   "id": "2e81019c",
   "metadata": {},
   "outputs": [
    {
     "name": "stdout",
     "output_type": "stream",
     "text": [
      "Number of null values in dataset:  97121\n",
      "Percentage:  7.910267604073681\n"
     ]
    }
   ],
   "source": [
    "print(\"Number of null values in dataset: \",data.isnull().values.sum())\n",
    "print(\"Percentage: \",(data.isnull().sum().sum()/data.size)*100) #ποσοστο"
   ]
  },
  {
   "cell_type": "code",
   "execution_count": 9,
   "id": "0390baa8",
   "metadata": {},
   "outputs": [
    {
     "data": {
      "text/plain": [
       "0.000    1514\n",
       "1.000     240\n",
       "2.000      59\n",
       "3.000      14\n",
       "4.000      11\n",
       "Name: G1, dtype: int64"
      ]
     },
     "execution_count": 9,
     "metadata": {},
     "output_type": "execute_result"
    }
   ],
   "source": [
    "data['G1'].value_counts()"
   ]
  },
  {
   "cell_type": "code",
   "execution_count": 10,
   "id": "2c84aae0",
   "metadata": {},
   "outputs": [
    {
     "data": {
      "text/plain": [
       "0"
      ]
     },
     "execution_count": 10,
     "metadata": {},
     "output_type": "execute_result"
    }
   ],
   "source": [
    "#data['G1']=data['G1'].fillna(0,inplace=True)\n",
    "data['G1'].isnull().values.sum()"
   ]
  },
  {
   "cell_type": "markdown",
   "id": "338b14c5",
   "metadata": {},
   "source": [
    "### scale, y = G1 "
   ]
  },
  {
   "cell_type": "code",
   "execution_count": 11,
   "id": "8d9db7c2",
   "metadata": {},
   "outputs": [
    {
     "name": "stdout",
     "output_type": "stream",
     "text": [
      "(1838, 667) (1838,)\n"
     ]
    }
   ],
   "source": [
    "#load data and split to dependent and independent variables\n",
    "X = data.loc[:, data.columns != 'G1'].values #select all but the desired one for y\n",
    "y = data['G1'].values\n",
    "\n",
    "#X and y are numpy ndarray type variables\n",
    "print(X.shape,y.shape)\n",
    "X = np.array(X)\n",
    "y = np.array(y)"
   ]
  },
  {
   "cell_type": "code",
   "execution_count": 12,
   "id": "468617a4",
   "metadata": {},
   "outputs": [],
   "source": [
    "# MinMaxScaler() normalizes, range on the training set, default=(0, 1)\n",
    "scaler = MinMaxScaler()\n",
    "X = scaler.fit_transform(X)"
   ]
  },
  {
   "cell_type": "markdown",
   "id": "d22741ee",
   "metadata": {},
   "source": [
    "#### kNN"
   ]
  },
  {
   "cell_type": "code",
   "execution_count": 13,
   "id": "aca8d986",
   "metadata": {},
   "outputs": [],
   "source": [
    "from sklearn.impute import KNNImputer\n",
    "# define imputer\n",
    "knn_imputer = KNNImputer(n_neighbors=5, weights='uniform', metric='nan_euclidean')"
   ]
  },
  {
   "cell_type": "code",
   "execution_count": 14,
   "id": "30b7c323",
   "metadata": {},
   "outputs": [
    {
     "data": {
      "text/plain": [
       "KNNImputer()"
      ]
     },
     "execution_count": 14,
     "metadata": {},
     "output_type": "execute_result"
    }
   ],
   "source": [
    "# fit on the dataset\n",
    "knn_imputer.fit(X)"
   ]
  },
  {
   "cell_type": "code",
   "execution_count": 15,
   "id": "d0e7733e",
   "metadata": {},
   "outputs": [],
   "source": [
    "# transform the dataset\n",
    "X_knn= knn_imputer.transform(X)"
   ]
  },
  {
   "cell_type": "code",
   "execution_count": 16,
   "id": "da042128",
   "metadata": {},
   "outputs": [
    {
     "name": "stdout",
     "output_type": "stream",
     "text": [
      "Missing: 0\n"
     ]
    }
   ],
   "source": [
    "print('Missing: %d' % sum(isnan(X_knn).flatten()))"
   ]
  },
  {
   "cell_type": "markdown",
   "id": "bea29590",
   "metadata": {},
   "source": [
    "#### Iterative Imputer"
   ]
  },
  {
   "cell_type": "code",
   "execution_count": 17,
   "id": "458e681c",
   "metadata": {},
   "outputs": [],
   "source": [
    "# define imputer\n",
    "from sklearn.experimental import enable_iterative_imputer\n",
    "from sklearn.impute import IterativeImputer\n",
    "\n",
    "iter_imputer =IterativeImputer(max_iter=5,n_nearest_features=200,initial_strategy='most_frequent',imputation_order='ascending', verbose=1)"
   ]
  },
  {
   "cell_type": "code",
   "execution_count": 18,
   "id": "ac337207",
   "metadata": {
    "scrolled": true
   },
   "outputs": [
    {
     "name": "stdout",
     "output_type": "stream",
     "text": [
      "[IterativeImputer] Completing matrix with shape (1838, 667)\n",
      "[IterativeImputer] Change: 40.57114643932917, scaled tolerance: 0.0010000000000000002 \n",
      "[IterativeImputer] Change: 32.23506094078855, scaled tolerance: 0.0010000000000000002 \n",
      "[IterativeImputer] Change: 23.905498432135644, scaled tolerance: 0.0010000000000000002 \n",
      "[IterativeImputer] Change: 32.687954433487185, scaled tolerance: 0.0010000000000000002 \n",
      "[IterativeImputer] Change: 32.25789698240602, scaled tolerance: 0.0010000000000000002 \n"
     ]
    },
    {
     "name": "stderr",
     "output_type": "stream",
     "text": [
      "C:\\Users\\redi\\Anaconda3\\envs\\tf\\lib\\site-packages\\sklearn\\impute\\_iterative.py:701: ConvergenceWarning: [IterativeImputer] Early stopping criterion not reached.\n",
      "  ConvergenceWarning,\n"
     ]
    },
    {
     "data": {
      "text/plain": [
       "IterativeImputer(initial_strategy='most_frequent', max_iter=5,\n",
       "                 n_nearest_features=200, verbose=1)"
      ]
     },
     "execution_count": 18,
     "metadata": {},
     "output_type": "execute_result"
    }
   ],
   "source": [
    "# fit on the dataset\n",
    "iter_imputer.fit(X)"
   ]
  },
  {
   "cell_type": "code",
   "execution_count": 19,
   "id": "89bf2272",
   "metadata": {},
   "outputs": [
    {
     "name": "stdout",
     "output_type": "stream",
     "text": [
      "[IterativeImputer] Completing matrix with shape (1838, 667)\n"
     ]
    }
   ],
   "source": [
    "# transform the dataset\n",
    "X_iter= iter_imputer.transform(X)"
   ]
  },
  {
   "cell_type": "code",
   "execution_count": 20,
   "id": "3f2149b7",
   "metadata": {},
   "outputs": [
    {
     "name": "stdout",
     "output_type": "stream",
     "text": [
      "Missing: 0\n"
     ]
    }
   ],
   "source": [
    "print('Missing: %d' % sum(isnan(X_iter).flatten()))"
   ]
  },
  {
   "cell_type": "code",
   "execution_count": 21,
   "id": "f8729343",
   "metadata": {},
   "outputs": [],
   "source": [
    "from numpy import asarray\n",
    "from numpy import save\n",
    "\n",
    "#save different X\n",
    "save('X_G1knn.npy', X_knn)\n",
    "save('X_G1iter.npy', X_iter)\n",
    "#save y for G1\n",
    "save('y_G1.npy', y)"
   ]
  },
  {
   "cell_type": "markdown",
   "id": "a04f2a3f",
   "metadata": {},
   "source": [
    "#### Multiple impution - miceforest"
   ]
  },
  {
   "cell_type": "code",
   "execution_count": 214,
   "id": "5df92e4d",
   "metadata": {},
   "outputs": [],
   "source": [
    "# define imputer\n",
    "import miceforest as mf\n",
    "\n",
    "# Create kernel\n",
    "kds = mf.ImputationKernel(X, datasets=4, mean_match_candidates=5, data_subset=5, save_all_iterations=False,save_models=0, copy_data=False)\n"
   ]
  },
  {
   "cell_type": "code",
   "execution_count": 215,
   "id": "dbdc24a1",
   "metadata": {},
   "outputs": [],
   "source": [
    "kds.mice(10)"
   ]
  },
  {
   "cell_type": "code",
   "execution_count": 216,
   "id": "664db835",
   "metadata": {},
   "outputs": [
    {
     "name": "stdout",
     "output_type": "stream",
     "text": [
      "              Class: ImputationKernel\n",
      "           Datasets: 4\n",
      "         Iterations: 10\n",
      "  Imputed Variables: 626\n",
      "save_all_iterations: False\n"
     ]
    }
   ],
   "source": [
    "print(kds)"
   ]
  },
  {
   "cell_type": "code",
   "execution_count": 217,
   "id": "36e7fc56",
   "metadata": {},
   "outputs": [],
   "source": [
    "X_mice = kds.complete_data(dataset=0, inplace=False)"
   ]
  },
  {
   "cell_type": "code",
   "execution_count": 218,
   "id": "8101b1b6",
   "metadata": {},
   "outputs": [
    {
     "name": "stdout",
     "output_type": "stream",
     "text": [
      "Missing: 0\n"
     ]
    }
   ],
   "source": [
    "print('Missing: %d' % sum(isnan(X_mice).flatten()))"
   ]
  },
  {
   "cell_type": "code",
   "execution_count": null,
   "id": "6190fd77",
   "metadata": {},
   "outputs": [],
   "source": [
    "save('X_G1mice10.npy', X_mice)"
   ]
  },
  {
   "cell_type": "code",
   "execution_count": null,
   "id": "849aca09",
   "metadata": {},
   "outputs": [],
   "source": []
  }
 ],
 "metadata": {
  "kernelspec": {
   "display_name": "Python 3 (ipykernel)",
   "language": "python",
   "name": "python3"
  },
  "language_info": {
   "codemirror_mode": {
    "name": "ipython",
    "version": 3
   },
   "file_extension": ".py",
   "mimetype": "text/x-python",
   "name": "python",
   "nbconvert_exporter": "python",
   "pygments_lexer": "ipython3",
   "version": "3.7.11"
  }
 },
 "nbformat": 4,
 "nbformat_minor": 5
}
