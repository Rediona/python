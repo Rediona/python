{
 "cells": [
  {
   "cell_type": "code",
   "execution_count": 1,
   "id": "cf9a36f0",
   "metadata": {},
   "outputs": [],
   "source": [
    "import numpy as np\n",
    "import pandas as pd\n",
    "import matplotlib.pyplot as plt\n",
    "import seaborn as sns\n",
    "%matplotlib inline\n",
    "sns.set_style('darkgrid')\n",
    "pd.options.display.float_format = '{:,.3f}'.format"
   ]
  },
  {
   "cell_type": "code",
   "execution_count": 2,
   "id": "9dd56cfd",
   "metadata": {},
   "outputs": [],
   "source": [
    "from sklearn.preprocessing import MinMaxScaler"
   ]
  },
  {
   "cell_type": "code",
   "execution_count": 3,
   "id": "45fec2ea",
   "metadata": {},
   "outputs": [],
   "source": [
    "from numpy import isnan"
   ]
  },
  {
   "cell_type": "code",
   "execution_count": 4,
   "id": "e88c7872",
   "metadata": {},
   "outputs": [],
   "source": [
    "data = pd.read_csv('data2_droplists.csv')"
   ]
  },
  {
   "cell_type": "code",
   "execution_count": 5,
   "id": "51952a68",
   "metadata": {},
   "outputs": [
    {
     "data": {
      "text/plain": [
       "(1838, 668)"
      ]
     },
     "execution_count": 5,
     "metadata": {},
     "output_type": "execute_result"
    }
   ],
   "source": [
    "data.shape"
   ]
  },
  {
   "cell_type": "code",
   "execution_count": 6,
   "id": "730cab90",
   "metadata": {},
   "outputs": [],
   "source": [
    "#make sure dataset has only numbers\n",
    "data = data.apply(pd.to_numeric)"
   ]
  },
  {
   "cell_type": "code",
   "execution_count": 8,
   "id": "65f0d279",
   "metadata": {},
   "outputs": [
    {
     "name": "stdout",
     "output_type": "stream",
     "text": [
      "Number of null values in dataset:  97121\n",
      "Percentage:  7.910267604073681\n"
     ]
    }
   ],
   "source": [
    "print(\"Number of null values in dataset: \",data.isnull().values.sum())\n",
    "print(\"Percentage: \",(data.isnull().sum().sum()/data.size)*100) #ποσοστο"
   ]
  },
  {
   "cell_type": "code",
   "execution_count": 9,
   "id": "cd82e864",
   "metadata": {},
   "outputs": [
    {
     "data": {
      "text/plain": [
       "0.000    1543\n",
       "1.000     217\n",
       "2.000      78\n",
       "Name: G21, dtype: int64"
      ]
     },
     "execution_count": 9,
     "metadata": {},
     "output_type": "execute_result"
    }
   ],
   "source": [
    "data['G21'].value_counts()"
   ]
  },
  {
   "cell_type": "code",
   "execution_count": 10,
   "id": "f7c942c4",
   "metadata": {},
   "outputs": [
    {
     "data": {
      "text/plain": [
       "0"
      ]
     },
     "execution_count": 10,
     "metadata": {},
     "output_type": "execute_result"
    }
   ],
   "source": [
    "data['G21'].isnull().values.sum()"
   ]
  },
  {
   "cell_type": "markdown",
   "id": "04c59dbb",
   "metadata": {},
   "source": [
    "### scale, y = G21 "
   ]
  },
  {
   "cell_type": "code",
   "execution_count": 11,
   "id": "89851a47",
   "metadata": {},
   "outputs": [
    {
     "name": "stdout",
     "output_type": "stream",
     "text": [
      "(1838, 667) (1838,)\n"
     ]
    }
   ],
   "source": [
    "#load data and split to dependent and independent variables\n",
    "X = data.loc[:, data.columns != 'G21'].values #select all but the desired one for y\n",
    "y = data['G21'].values\n",
    "\n",
    "#X and y are numpy ndarray type variables\n",
    "print(X.shape,y.shape)\n",
    "X = np.array(X)\n",
    "y = np.array(y)"
   ]
  },
  {
   "cell_type": "code",
   "execution_count": 12,
   "id": "c02beb56",
   "metadata": {},
   "outputs": [],
   "source": [
    "#normalize, range on the training set, default=(0, 1)\n",
    "scaler = MinMaxScaler()\n",
    "X = scaler.fit_transform(X)"
   ]
  },
  {
   "cell_type": "markdown",
   "id": "086a5cee",
   "metadata": {},
   "source": [
    "#### kNN"
   ]
  },
  {
   "cell_type": "code",
   "execution_count": 13,
   "id": "e4224d9c",
   "metadata": {},
   "outputs": [],
   "source": [
    "#scaling data is important when performing KNN imputation\n",
    "from sklearn.impute import KNNImputer\n",
    "# define imputer\n",
    "knn_imputer = KNNImputer(n_neighbors=5, weights='uniform', metric='nan_euclidean')"
   ]
  },
  {
   "cell_type": "code",
   "execution_count": 14,
   "id": "54efca59",
   "metadata": {},
   "outputs": [
    {
     "data": {
      "text/plain": [
       "KNNImputer()"
      ]
     },
     "execution_count": 14,
     "metadata": {},
     "output_type": "execute_result"
    }
   ],
   "source": [
    "# fit on the dataset\n",
    "knn_imputer.fit(X)"
   ]
  },
  {
   "cell_type": "code",
   "execution_count": 15,
   "id": "a007824e",
   "metadata": {},
   "outputs": [],
   "source": [
    "# transform the dataset\n",
    "X_knn= knn_imputer.transform(X)"
   ]
  },
  {
   "cell_type": "code",
   "execution_count": 16,
   "id": "7b7cd0c9",
   "metadata": {},
   "outputs": [
    {
     "name": "stdout",
     "output_type": "stream",
     "text": [
      "Missing: 0\n"
     ]
    }
   ],
   "source": [
    "print('Missing: %d' % sum(isnan(X_knn).flatten()))"
   ]
  },
  {
   "cell_type": "markdown",
   "id": "8a240e84",
   "metadata": {},
   "source": [
    "#### Iterative Imputer"
   ]
  },
  {
   "cell_type": "code",
   "execution_count": 17,
   "id": "26df5273",
   "metadata": {},
   "outputs": [],
   "source": [
    "#scaling data not mentioned, probably after\n",
    "# define imputer\n",
    "from sklearn.experimental import enable_iterative_imputer\n",
    "from sklearn.impute import IterativeImputer\n",
    "\n",
    "iter_imputer =IterativeImputer(max_iter=5,n_nearest_features=200,initial_strategy='most_frequent',imputation_order='ascending', verbose=1)"
   ]
  },
  {
   "cell_type": "code",
   "execution_count": 18,
   "id": "5a21975b",
   "metadata": {
    "scrolled": false
   },
   "outputs": [
    {
     "name": "stdout",
     "output_type": "stream",
     "text": [
      "[IterativeImputer] Completing matrix with shape (1838, 667)\n",
      "[IterativeImputer] Change: 40.794699092914655, scaled tolerance: 0.0010000000000000002 \n",
      "[IterativeImputer] Change: 28.673757764970244, scaled tolerance: 0.0010000000000000002 \n",
      "[IterativeImputer] Change: 25.67881069213383, scaled tolerance: 0.0010000000000000002 \n",
      "[IterativeImputer] Change: 39.75917938649334, scaled tolerance: 0.0010000000000000002 \n",
      "[IterativeImputer] Change: 44.17073123174113, scaled tolerance: 0.0010000000000000002 \n"
     ]
    },
    {
     "name": "stderr",
     "output_type": "stream",
     "text": [
      "C:\\Users\\redi\\Anaconda3\\envs\\tf\\lib\\site-packages\\sklearn\\impute\\_iterative.py:701: ConvergenceWarning: [IterativeImputer] Early stopping criterion not reached.\n",
      "  ConvergenceWarning,\n"
     ]
    },
    {
     "data": {
      "text/plain": [
       "IterativeImputer(initial_strategy='most_frequent', max_iter=5,\n",
       "                 n_nearest_features=200, verbose=1)"
      ]
     },
     "execution_count": 18,
     "metadata": {},
     "output_type": "execute_result"
    }
   ],
   "source": [
    "# fit on the dataset\n",
    "iter_imputer.fit(X)"
   ]
  },
  {
   "cell_type": "code",
   "execution_count": 19,
   "id": "b6658661",
   "metadata": {},
   "outputs": [
    {
     "name": "stdout",
     "output_type": "stream",
     "text": [
      "[IterativeImputer] Completing matrix with shape (1838, 667)\n"
     ]
    }
   ],
   "source": [
    "# transform the dataset\n",
    "X_iter= iter_imputer.transform(X)"
   ]
  },
  {
   "cell_type": "code",
   "execution_count": 20,
   "id": "76a7e2be",
   "metadata": {},
   "outputs": [
    {
     "name": "stdout",
     "output_type": "stream",
     "text": [
      "Missing: 0\n"
     ]
    }
   ],
   "source": [
    "print('Missing: %d' % sum(isnan(X_iter).flatten()))"
   ]
  },
  {
   "cell_type": "code",
   "execution_count": 22,
   "id": "84953db7",
   "metadata": {},
   "outputs": [],
   "source": [
    "from numpy import asarray\n",
    "from numpy import save\n",
    "\n",
    "#save different X\n",
    "save('X_G21knn.npy', X_knn)\n",
    "save('X_G21iter.npy', X_iter)\n",
    "\n",
    "#save y for G1\n",
    "save('y_G21.npy', y)"
   ]
  },
  {
   "cell_type": "markdown",
   "id": "8f6557d8",
   "metadata": {},
   "source": [
    "#### Multiple impution - miceforest"
   ]
  },
  {
   "cell_type": "code",
   "execution_count": 21,
   "id": "23c47a1e",
   "metadata": {},
   "outputs": [],
   "source": [
    "#scaling data not mentioned, probably after\n",
    "# define imputer\n",
    "import miceforest as mf\n",
    "\n",
    "# Create kernel\n",
    "kds = mf.ImputationKernel(X, datasets=4, mean_match_candidates=5, data_subset=5, save_all_iterations=False,save_models=0, copy_data=False)\n"
   ]
  },
  {
   "cell_type": "code",
   "execution_count": 23,
   "id": "bdaa3de5",
   "metadata": {},
   "outputs": [],
   "source": [
    "kds.mice(10)"
   ]
  },
  {
   "cell_type": "code",
   "execution_count": 216,
   "id": "f355f5a6",
   "metadata": {},
   "outputs": [
    {
     "name": "stdout",
     "output_type": "stream",
     "text": [
      "              Class: ImputationKernel\n",
      "           Datasets: 4\n",
      "         Iterations: 10\n",
      "  Imputed Variables: 626\n",
      "save_all_iterations: False\n"
     ]
    }
   ],
   "source": [
    "print(kds)"
   ]
  },
  {
   "cell_type": "code",
   "execution_count": 24,
   "id": "b9bd2225",
   "metadata": {},
   "outputs": [],
   "source": [
    "X_mice = kds.complete_data(dataset=0, inplace=False)"
   ]
  },
  {
   "cell_type": "code",
   "execution_count": 25,
   "id": "e5ac72ed",
   "metadata": {},
   "outputs": [
    {
     "name": "stdout",
     "output_type": "stream",
     "text": [
      "Missing: 0\n"
     ]
    }
   ],
   "source": [
    "print('Missing: %d' % sum(isnan(X_mice).flatten()))"
   ]
  },
  {
   "cell_type": "code",
   "execution_count": 26,
   "id": "20b1ad3b",
   "metadata": {},
   "outputs": [],
   "source": [
    "save('X_G21mice10.npy', X_mice)"
   ]
  },
  {
   "cell_type": "code",
   "execution_count": null,
   "id": "ec5012f4",
   "metadata": {},
   "outputs": [],
   "source": []
  }
 ],
 "metadata": {
  "kernelspec": {
   "display_name": "Python 3 (ipykernel)",
   "language": "python",
   "name": "python3"
  },
  "language_info": {
   "codemirror_mode": {
    "name": "ipython",
    "version": 3
   },
   "file_extension": ".py",
   "mimetype": "text/x-python",
   "name": "python",
   "nbconvert_exporter": "python",
   "pygments_lexer": "ipython3",
   "version": "3.7.11"
  }
 },
 "nbformat": 4,
 "nbformat_minor": 5
}
