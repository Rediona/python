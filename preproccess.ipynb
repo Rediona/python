{
 "cells": [
  {
   "cell_type": "markdown",
   "metadata": {},
   "source": [
    "## Preprocessing"
   ]
  },
  {
   "cell_type": "code",
   "execution_count": 1,
   "metadata": {},
   "outputs": [],
   "source": [
    "import numpy as np\n",
    "import pandas as pd"
   ]
  },
  {
   "cell_type": "code",
   "execution_count": 2,
   "metadata": {},
   "outputs": [],
   "source": [
    "import matplotlib.pyplot as plt\n",
    "import seaborn as sns"
   ]
  },
  {
   "cell_type": "code",
   "execution_count": 3,
   "metadata": {},
   "outputs": [],
   "source": [
    "%matplotlib inline"
   ]
  },
  {
   "cell_type": "code",
   "execution_count": 4,
   "metadata": {},
   "outputs": [],
   "source": [
    "sns.set_style('darkgrid')"
   ]
  },
  {
   "cell_type": "code",
   "execution_count": 5,
   "metadata": {},
   "outputs": [],
   "source": [
    "pd.options.display.float_format = '{:,.3f}'.format "
   ]
  },
  {
   "cell_type": "code",
   "execution_count": 6,
   "metadata": {},
   "outputs": [],
   "source": [
    "#loading unprocessed dataset\n",
    "data = pd.read_csv('data.csv')"
   ]
  },
  {
   "cell_type": "code",
   "execution_count": 7,
   "metadata": {},
   "outputs": [
    {
     "data": {
      "text/plain": [
       "(1848, 749)"
      ]
     },
     "execution_count": 7,
     "metadata": {},
     "output_type": "execute_result"
    }
   ],
   "source": [
    "data.shape"
   ]
  },
  {
   "cell_type": "code",
   "execution_count": 8,
   "metadata": {},
   "outputs": [
    {
     "data": {
      "text/html": [
       "<div>\n",
       "<style scoped>\n",
       "    .dataframe tbody tr th:only-of-type {\n",
       "        vertical-align: middle;\n",
       "    }\n",
       "\n",
       "    .dataframe tbody tr th {\n",
       "        vertical-align: top;\n",
       "    }\n",
       "\n",
       "    .dataframe thead th {\n",
       "        text-align: right;\n",
       "    }\n",
       "</style>\n",
       "<table border=\"1\" class=\"dataframe\">\n",
       "  <thead>\n",
       "    <tr style=\"text-align: right;\">\n",
       "      <th></th>\n",
       "      <th>A0_BloodTaken</th>\n",
       "      <th>A1a_City</th>\n",
       "      <th>A1b_random_sample</th>\n",
       "      <th>A10_age</th>\n",
       "      <th>A11_sex</th>\n",
       "      <th>A30_insurance</th>\n",
       "      <th>A16_witness_self</th>\n",
       "      <th>B1_greek_main_lang</th>\n",
       "      <th>B2_main_occupation</th>\n",
       "      <th>B6_father_occup</th>\n",
       "      <th>...</th>\n",
       "      <th>TMTratio</th>\n",
       "      <th>vfsem1stobj</th>\n",
       "      <th>vfsemobjrelated</th>\n",
       "      <th>vfsemobjcluste</th>\n",
       "      <th>vfsemobjswich</th>\n",
       "      <th>vfsemobjerr</th>\n",
       "      <th>vfsemobjpererr</th>\n",
       "      <th>vfphon1stalphobj</th>\n",
       "      <th>vfpharelated</th>\n",
       "      <th>DETERMINE_TOTAL</th>\n",
       "    </tr>\n",
       "  </thead>\n",
       "  <tbody>\n",
       "    <tr>\n",
       "      <th>0</th>\n",
       "      <td>0.000</td>\n",
       "      <td>2</td>\n",
       "      <td>1.000</td>\n",
       "      <td>77.000</td>\n",
       "      <td>2.000</td>\n",
       "      <td>2.000</td>\n",
       "      <td>2.000</td>\n",
       "      <td>1.000</td>\n",
       "      <td>3.000</td>\n",
       "      <td>2.000</td>\n",
       "      <td>...</td>\n",
       "      <td>2.792</td>\n",
       "      <td>2.000</td>\n",
       "      <td>0.000</td>\n",
       "      <td>0.000</td>\n",
       "      <td>2.000</td>\n",
       "      <td>1.000</td>\n",
       "      <td>0.000</td>\n",
       "      <td>2.000</td>\n",
       "      <td>0.000</td>\n",
       "      <td>1</td>\n",
       "    </tr>\n",
       "    <tr>\n",
       "      <th>1</th>\n",
       "      <td>0.000</td>\n",
       "      <td>1</td>\n",
       "      <td>1.000</td>\n",
       "      <td>66.000</td>\n",
       "      <td>2.000</td>\n",
       "      <td>2.000</td>\n",
       "      <td>1.000</td>\n",
       "      <td>1.000</td>\n",
       "      <td>8.000</td>\n",
       "      <td>9.000</td>\n",
       "      <td>...</td>\n",
       "      <td>2.050</td>\n",
       "      <td>22.000</td>\n",
       "      <td>11.000</td>\n",
       "      <td>4.000</td>\n",
       "      <td>15.000</td>\n",
       "      <td>0.000</td>\n",
       "      <td>0.000</td>\n",
       "      <td>8.000</td>\n",
       "      <td>6.000</td>\n",
       "      <td>0</td>\n",
       "    </tr>\n",
       "  </tbody>\n",
       "</table>\n",
       "<p>2 rows × 749 columns</p>\n",
       "</div>"
      ],
      "text/plain": [
       "   A0_BloodTaken  A1a_City  A1b_random_sample  A10_age  A11_sex  \\\n",
       "0          0.000         2              1.000   77.000    2.000   \n",
       "1          0.000         1              1.000   66.000    2.000   \n",
       "\n",
       "   A30_insurance  A16_witness_self  B1_greek_main_lang  B2_main_occupation  \\\n",
       "0          2.000             2.000               1.000               3.000   \n",
       "1          2.000             1.000               1.000               8.000   \n",
       "\n",
       "   B6_father_occup  ...  TMTratio  vfsem1stobj  vfsemobjrelated  \\\n",
       "0            2.000  ...     2.792        2.000            0.000   \n",
       "1            9.000  ...     2.050       22.000           11.000   \n",
       "\n",
       "   vfsemobjcluste  vfsemobjswich  vfsemobjerr  vfsemobjpererr  \\\n",
       "0           0.000          2.000        1.000           0.000   \n",
       "1           4.000         15.000        0.000           0.000   \n",
       "\n",
       "   vfphon1stalphobj  vfpharelated  DETERMINE_TOTAL  \n",
       "0             2.000         0.000                1  \n",
       "1             8.000         6.000                0  \n",
       "\n",
       "[2 rows x 749 columns]"
      ]
     },
     "execution_count": 8,
     "metadata": {},
     "output_type": "execute_result"
    }
   ],
   "source": [
    "data.head(2)"
   ]
  },
  {
   "cell_type": "markdown",
   "metadata": {},
   "source": [
    "#### ΜΕΤΑΤΡΟΠΕΣ"
   ]
  },
  {
   "cell_type": "code",
   "execution_count": 9,
   "metadata": {},
   "outputs": [
    {
     "data": {
      "text/plain": [
       "0.000    1453\n",
       "3.000     114\n",
       "1.000     111\n",
       "2.000      92\n",
       "4.000      48\n",
       "5.000      22\n",
       "0.519       5\n",
       "6.000       3\n",
       "Name: F24, dtype: int64"
      ]
     },
     "execution_count": 9,
     "metadata": {},
     "output_type": "execute_result"
    }
   ],
   "source": [
    "#στη στηλη αυτη ειναι τα m που μπορει να περπατησει χωρις ξεκουραση, αλλα ειναι αντιστροφα.Θελει αποο 0->6 να ναι αυξουσα για να\n",
    "#καταλαβει το μοντελο την ιεραρχια, ενω εδω ειναι φθινουσα, δλδ το 6 ειναι το 1m, και το 0 ειναι >1000m συνφωνα με το maelstrom\n",
    "#Αρα αντικαθιστω.(αν και φαινεται το >1000m να ναι πιο πολλα λογω ηλικιων, αλλα ταιριαζει απτο dataset στα kg και τη περ.μεσης)\n",
    "data['F24'].value_counts()"
   ]
  },
  {
   "cell_type": "code",
   "execution_count": 10,
   "metadata": {},
   "outputs": [
    {
     "data": {
      "text/plain": [
       "0      0.000\n",
       "1      0.000\n",
       "2      0.000\n",
       "3      0.000\n",
       "4      0.000\n",
       "        ... \n",
       "1843   0.000\n",
       "1844   0.000\n",
       "1845   0.000\n",
       "1846   0.000\n",
       "1847   0.000\n",
       "Name: F24, Length: 1848, dtype: float64"
      ]
     },
     "execution_count": 10,
     "metadata": {},
     "output_type": "execute_result"
    }
   ],
   "source": [
    "data['F24']"
   ]
  },
  {
   "cell_type": "code",
   "execution_count": 11,
   "metadata": {},
   "outputs": [],
   "source": [
    "#για να αποφυγω να μου μετατρεψει λαθος το κανω σε δυο βηματα\n",
    "data['F24'] = data['F24'].replace([0,1,2,3,4,5,6],[7,8,9,10,11,12,13])"
   ]
  },
  {
   "cell_type": "code",
   "execution_count": 12,
   "metadata": {},
   "outputs": [
    {
     "data": {
      "text/plain": [
       "6.000    1453\n",
       "3.000     114\n",
       "5.000     111\n",
       "4.000      92\n",
       "2.000      48\n",
       "1.000      22\n",
       "0.519       5\n",
       "0.000       3\n",
       "Name: F24, dtype: int64"
      ]
     },
     "execution_count": 12,
     "metadata": {},
     "output_type": "execute_result"
    }
   ],
   "source": [
    "data['F24'] = data['F24'].replace([7,8,9,10,11,12,13],[6,5,4,3,2,1,0])\n",
    "data['F24'].value_counts()"
   ]
  },
  {
   "cell_type": "markdown",
   "metadata": {},
   "source": [
    "#### μεταροπη των στηλων F29-F33 για να ταιριαζουν με το F26 που ειναι για απωλεια μνημης"
   ]
  },
  {
   "cell_type": "code",
   "execution_count": 13,
   "metadata": {},
   "outputs": [
    {
     "data": {
      "text/plain": [
       "0.097    1154\n",
       "0.000     627\n",
       "1.000      67\n",
       "Name: F29, dtype: int64"
      ]
     },
     "execution_count": 13,
     "metadata": {},
     "output_type": "execute_result"
    }
   ],
   "source": [
    "data['F29'].value_counts()"
   ]
  },
  {
   "cell_type": "code",
   "execution_count": 14,
   "metadata": {},
   "outputs": [],
   "source": [
    "#θελει πρωτα μετατροπη σε nan γτ αν τα κανω 0, μετα θα τα αλλαξει το replace\n",
    "data['F29']= np.where(np.isclose(data['F29'].values, data['F29'].mean()), np.nan, data['F29'].values)\n",
    "data['F30']= np.where(np.isclose(data['F30'].values, data['F30'].mean()), np.nan, data['F30'].values)\n",
    "data['F31']= np.where(np.isclose(data['F31'].values, data['F31'].mean()), np.nan, data['F31'].values)\n",
    "data['F33']= np.where(np.isclose(data['F33'].values, data['F33'].mean()), np.nan, data['F33'].values)"
   ]
  },
  {
   "cell_type": "code",
   "execution_count": 15,
   "metadata": {},
   "outputs": [],
   "source": [
    "#αλλαζω F2->F33 για να ταιριαζουν με το F26 και να υπαρχει ιεραρχεια. Η F32 γινεται drop και μπαινει ως τιμη 0 στο F33\n",
    "#τα δοκιμασα και δεν χρειαζεται να τα κανω σε 2 βηματα, ο αλγοριθμος τα σπαει!\n",
    "data['F29'] = data['F29'].replace([1,0],[2,1])\n",
    "data['F30'] = data['F30'].replace([0,1,2],[1,2,3])\n",
    "data['F31'] = data['F31'].replace(0,2)\n",
    "data['F33'] = data['F33'].replace([0,1,2,3,4],[1,2,3,4,5])\n"
   ]
  },
  {
   "cell_type": "code",
   "execution_count": 16,
   "metadata": {},
   "outputs": [],
   "source": [
    "data['F29'] = data['F29'].replace(np.nan,0)\n",
    "data['F30'] = data['F30'].replace(np.nan,0)\n",
    "data['F31'] = data['F31'].replace(np.nan,0)\n",
    "data['F33'] = data['F33'].replace(np.nan,0)"
   ]
  },
  {
   "cell_type": "code",
   "execution_count": 17,
   "metadata": {},
   "outputs": [
    {
     "data": {
      "text/plain": [
       "0.000    1154\n",
       "1.000     627\n",
       "2.000      67\n",
       "Name: F29, dtype: int64"
      ]
     },
     "execution_count": 17,
     "metadata": {},
     "output_type": "execute_result"
    }
   ],
   "source": [
    "data['F29'].value_counts()"
   ]
  },
  {
   "cell_type": "code",
   "execution_count": 18,
   "metadata": {},
   "outputs": [],
   "source": [
    "#μετατροπη στηλης προβλεψης\n",
    "data['G1']= np.where(np.isclose(data['G1'].values, data['G1'].mean()), np.nan, data['G1'].values)\n",
    "data['G1'] = data['G1'].replace([0,0.5,1,2,3,4,5],[0,1,2,3,4,5,6])                                "
   ]
  },
  {
   "cell_type": "markdown",
   "metadata": {},
   "source": [
    "#### μετατροπη των στηλων βαρος, υψοσ, περιφερεια μεσης σε επιτρεπτες τιμες(εχω ελεγξει απ'το excel ποιες ειναι). Πρωτα ομως μετατρεπω το mean σε nan για να μη τα χασω μετα ως τιμες που λειπουν(γτ το mean θα αλλαξει ως αριθμος μετα τις αλλαγες)"
   ]
  },
  {
   "cell_type": "code",
   "execution_count": 19,
   "metadata": {},
   "outputs": [
    {
     "data": {
      "text/plain": [
       "0"
      ]
     },
     "execution_count": 19,
     "metadata": {},
     "output_type": "execute_result"
    }
   ],
   "source": [
    "data['HEIGHT'].isnull().values.sum()"
   ]
  },
  {
   "cell_type": "code",
   "execution_count": 20,
   "metadata": {},
   "outputs": [],
   "source": [
    "#mean σε nan\n",
    "data['HEIGHT']= np.where(np.isclose(data['HEIGHT'].values, data['HEIGHT'].mean()), np.nan, data['HEIGHT'].values)\n",
    "data['WEIGHT']= np.where(np.isclose(data['WEIGHT'].values, data['WEIGHT'].mean()), np.nan, data['WEIGHT'].values)\n",
    "data['WAISTCIRCUMFERENCE']= np.where(np.isclose(data['WAISTCIRCUMFERENCE'].values, data['WAISTCIRCUMFERENCE'].mean()),\n",
    "                                     np.nan, data['WAISTCIRCUMFERENCE'].values)"
   ]
  },
  {
   "cell_type": "code",
   "execution_count": 21,
   "metadata": {},
   "outputs": [],
   "source": [
    "data['HEIGHT']= np.where(data['HEIGHT']<105, np.nan, data['HEIGHT'].values)\n",
    "data['WEIGHT']= np.where(data['WEIGHT']<42, np.nan, data['WEIGHT'].values)\n",
    "data['WAISTCIRCUMFERENCE']= np.where(data['WAISTCIRCUMFERENCE']>160, np.nan, data['WAISTCIRCUMFERENCE'].values)\n",
    "data['WAISTCIRCUMFERENCE']= np.where(data['WAISTCIRCUMFERENCE']<53, np.nan, data['WAISTCIRCUMFERENCE'].values)"
   ]
  },
  {
   "cell_type": "markdown",
   "metadata": {},
   "source": [
    "#### ελεγχω οτι η στηλη ωρες υπνου/μερα,ειναι σε επιτρεπτες τιμες >1h & <24h"
   ]
  },
  {
   "cell_type": "code",
   "execution_count": 22,
   "metadata": {},
   "outputs": [
    {
     "data": {
      "text/plain": [
       "0"
      ]
     },
     "execution_count": 22,
     "metadata": {},
     "output_type": "execute_result"
    }
   ],
   "source": [
    "data['hAPAQ10'].isnull().values.sum()"
   ]
  },
  {
   "cell_type": "code",
   "execution_count": 23,
   "metadata": {},
   "outputs": [],
   "source": [
    "data['hAPAQ10']= np.where(np.isclose(data['hAPAQ10'].values, data['hAPAQ10'].mean()), np.nan, data['hAPAQ10'].values)\n",
    "data['hAPAQ10']= np.where(data['hAPAQ10']<2, np.nan, data['hAPAQ10'].values)\n",
    "data['hAPAQ10']= np.where(data['hAPAQ10']>24, np.nan, data['hAPAQ10'].values) "
   ]
  },
  {
   "cell_type": "markdown",
   "metadata": {},
   "source": [
    "#### ΜΕΤΑΤΡΟΠΗ DETERMINE"
   ]
  },
  {
   "cell_type": "markdown",
   "metadata": {},
   "source": [
    "#### Οι στηλες με τις ερωτησεις του DETERMINE δεν εχουν την βαθμολογια που οριζεται στα αρθρα αλλα δυαδικη τιμη 0, 1 για οχι, ναι. Μετατρεπω αρχικα, σε καθε στηλη το 1 στο σκορ που της αντιστοιχει (αφου πρωτα εχω κανει nan τα mean). Στο τελος, αφου εχω δει και πως θα καλληφθουν τα nan σ' ολο το dataser, φτιαχνω στηλη που θα αντιστοιχει στο τελικο σκορ ως αθροισμα των επι μερους στηλων. (Δε ξερω τι γινεται στα nan που ειναι σε καποιες στηλες, αν απλα δεν προσμετρωνται )"
   ]
  },
  {
   "cell_type": "code",
   "execution_count": 24,
   "metadata": {},
   "outputs": [],
   "source": [
    "#mean to nan\n",
    "data['DETERMINE1']= np.where(np.isclose(data['DETERMINE1'].values, data['DETERMINE1'].mean()), np.nan, data['DETERMINE1'].values)\n",
    "data['DETERMINE3']= np.where(np.isclose(data['DETERMINE3'].values, data['DETERMINE3'].mean()), np.nan, data['DETERMINE3'].values)\n",
    "data['DETERMINE4']= np.where(np.isclose(data['DETERMINE4'].values, data['DETERMINE4'].mean()), np.nan, data['DETERMINE4'].values)\n",
    "data['DETERMINE5']= np.where(np.isclose(data['DETERMINE5'].values, data['DETERMINE5'].mean()), np.nan, data['DETERMINE5'].values)\n",
    "data['DETERMINE6']= np.where(np.isclose(data['DETERMINE6'].values, data['DETERMINE6'].mean()), np.nan, data['DETERMINE6'].values)\n",
    "data['DETERMINE7']= np.where(np.isclose(data['DETERMINE7'].values, data['DETERMINE7'].mean()), np.nan, data['DETERMINE7'].values)\n",
    "data['DETERMINE8']= np.where(np.isclose(data['DETERMINE8'].values, data['DETERMINE8'].mean()), np.nan, data['DETERMINE8'].values)\n",
    "data['DETERMINE9']= np.where(np.isclose(data['DETERMINE9'].values, data['DETERMINE9'].mean()), np.nan, data['DETERMINE9'].values)\n",
    "data['DETERMINE10']= (np.where(np.isclose(data['DETERMINE10'].values, data['DETERMINE10'].mean()), np.nan, \n",
    "                               data['DETERMINE10'].values))"
   ]
  },
  {
   "cell_type": "code",
   "execution_count": 25,
   "metadata": {},
   "outputs": [],
   "source": [
    "#αντικατασταση σκορ καθε στηλης μ' αυτο του αρθρου\n",
    "data['DETERMINE1'] = data['DETERMINE1'].replace(1,2)\n",
    "data['DETERMINE2'] = data['DETERMINE2'].replace(1,3)\n",
    "data['DETERMINE3'] = data['DETERMINE3'].replace(1,2)\n",
    "data['DETERMINE4'] = data['DETERMINE4'].replace(1,2)\n",
    "data['DETERMINE5'] = data['DETERMINE5'].replace(1,2)\n",
    "data['DETERMINE6'] = data['DETERMINE6'].replace(1,4)\n",
    "data['DETERMINE9'] = data['DETERMINE9'].replace(1,2)"
   ]
  },
  {
   "cell_type": "code",
   "execution_count": 26,
   "metadata": {},
   "outputs": [],
   "source": [
    "#νεα στηλη για ολικο σκορ του DETERMINE\n",
    "data['determine_sum'] = (data['DETERMINE1']+data['DETERMINE2']+data['DETERMINE3']+data['DETERMINE4']+\n",
    "                         data['DETERMINE5']+data['DETERMINE6']+data['DETERMINE7']+data['DETERMINE8']+\n",
    "                         data['DETERMINE9']+data['DETERMINE10'])"
   ]
  },
  {
   "cell_type": "code",
   "execution_count": 27,
   "metadata": {},
   "outputs": [
    {
     "data": {
      "text/plain": [
       "0         nan\n",
       "1      20.571\n",
       "2      34.964\n",
       "3         nan\n",
       "4      34.850\n",
       "        ...  \n",
       "1843   27.055\n",
       "1844   34.291\n",
       "1845   29.408\n",
       "1846      nan\n",
       "1847   25.156\n",
       "Name: calculate_bmi, Length: 1848, dtype: float64"
      ]
     },
     "execution_count": 27,
     "metadata": {},
     "output_type": "execute_result"
    }
   ],
   "source": [
    "#Νεα στηλη για το ΒΜΙ αφου εχουν γινει ολες οι αλλαγες στο dataset\n",
    "data['calculate_bmi'] = (data['WEIGHT']/((data['HEIGHT']/100)**2))# /100 γιατι το υψος ειναι σε cm\n",
    "data['calculate_bmi'].apply(lambda x: float(x)) #απαραιτητο "
   ]
  },
  {
   "cell_type": "markdown",
   "metadata": {},
   "source": [
    "### μετατροπες με κωδικους που εχω βαλει στο excel"
   ]
  },
  {
   "cell_type": "code",
   "execution_count": 28,
   "metadata": {
    "scrolled": true
   },
   "outputs": [
    {
     "name": "stdout",
     "output_type": "stream",
     "text": [
      "(3, 749)\n"
     ]
    },
    {
     "data": {
      "text/html": [
       "<div>\n",
       "<style scoped>\n",
       "    .dataframe tbody tr th:only-of-type {\n",
       "        vertical-align: middle;\n",
       "    }\n",
       "\n",
       "    .dataframe tbody tr th {\n",
       "        vertical-align: top;\n",
       "    }\n",
       "\n",
       "    .dataframe thead th {\n",
       "        text-align: right;\n",
       "    }\n",
       "</style>\n",
       "<table border=\"1\" class=\"dataframe\">\n",
       "  <thead>\n",
       "    <tr style=\"text-align: right;\">\n",
       "      <th></th>\n",
       "      <th>A0_BloodTaken</th>\n",
       "      <th>A1a_City</th>\n",
       "      <th>A1b_random_sample</th>\n",
       "      <th>A10_age</th>\n",
       "      <th>A11_sex</th>\n",
       "      <th>A30_insurance</th>\n",
       "      <th>A16_witness_self</th>\n",
       "      <th>B1_greek_main_lang</th>\n",
       "      <th>B2_main_occupation</th>\n",
       "      <th>B6_father_occup</th>\n",
       "      <th>...</th>\n",
       "      <th>TMTratio</th>\n",
       "      <th>vfsem1stobj</th>\n",
       "      <th>vfsemobjrelated</th>\n",
       "      <th>vfsemobjcluste</th>\n",
       "      <th>vfsemobjswich</th>\n",
       "      <th>vfsemobjerr</th>\n",
       "      <th>vfsemobjpererr</th>\n",
       "      <th>vfphon1stalphobj</th>\n",
       "      <th>vfpharelated</th>\n",
       "      <th>DETERMINE_TOTAL</th>\n",
       "    </tr>\n",
       "  </thead>\n",
       "  <tbody>\n",
       "    <tr>\n",
       "      <th>0</th>\n",
       "      <td>drop</td>\n",
       "      <td>drop</td>\n",
       "      <td>drop</td>\n",
       "      <td>NaN</td>\n",
       "      <td>ohe</td>\n",
       "      <td>ohe</td>\n",
       "      <td>zerovar</td>\n",
       "      <td>zerovar</td>\n",
       "      <td>ohe</td>\n",
       "      <td>ohe</td>\n",
       "      <td>...</td>\n",
       "      <td>NaN</td>\n",
       "      <td>NaN</td>\n",
       "      <td>NaN</td>\n",
       "      <td>NaN</td>\n",
       "      <td>NaN</td>\n",
       "      <td>NaN</td>\n",
       "      <td>NaN</td>\n",
       "      <td>NaN</td>\n",
       "      <td>NaN</td>\n",
       "      <td>drop</td>\n",
       "    </tr>\n",
       "    <tr>\n",
       "      <th>1</th>\n",
       "      <td>Blood sample</td>\n",
       "      <td>City of examination</td>\n",
       "      <td>Random sample</td>\n",
       "      <td>Age</td>\n",
       "      <td>Gender</td>\n",
       "      <td>Insurance</td>\n",
       "      <td>Person providing the information</td>\n",
       "      <td>Participant's spoken language</td>\n",
       "      <td>Occupation when working</td>\n",
       "      <td>Father's occupation</td>\n",
       "      <td>...</td>\n",
       "      <td>TMT ratio (B: Α)</td>\n",
       "      <td>Semantic objects</td>\n",
       "      <td>Semantic objects related words</td>\n",
       "      <td>Semantic objects cluster</td>\n",
       "      <td>Semantic objects switches</td>\n",
       "      <td>Semantic objects error</td>\n",
       "      <td>Semantic objects perseverations</td>\n",
       "      <td>Phonological letter \"a\"</td>\n",
       "      <td>Phonological letter \"a\" related</td>\n",
       "      <td>NaN</td>\n",
       "    </tr>\n",
       "    <tr>\n",
       "      <th>2</th>\n",
       "      <td>NaN</td>\n",
       "      <td>1=larisa 2=marous</td>\n",
       "      <td>NaN</td>\n",
       "      <td>NaN</td>\n",
       "      <td>1=male 2=female</td>\n",
       "      <td>NaN</td>\n",
       "      <td>NaN</td>\n",
       "      <td>NaN</td>\n",
       "      <td>NaN</td>\n",
       "      <td>NaN</td>\n",
       "      <td>...</td>\n",
       "      <td>NaN</td>\n",
       "      <td>NaN</td>\n",
       "      <td>NaN</td>\n",
       "      <td>NaN</td>\n",
       "      <td>NaN</td>\n",
       "      <td>NaN</td>\n",
       "      <td>NaN</td>\n",
       "      <td>NaN</td>\n",
       "      <td>NaN</td>\n",
       "      <td>NaN</td>\n",
       "    </tr>\n",
       "  </tbody>\n",
       "</table>\n",
       "<p>3 rows × 749 columns</p>\n",
       "</div>"
      ],
      "text/plain": [
       "  A0_BloodTaken              A1a_City A1b_random_sample A10_age  \\\n",
       "0          drop                  drop              drop     NaN   \n",
       "1  Blood sample  City of examination      Random sample     Age   \n",
       "2           NaN     1=larisa 2=marous               NaN     NaN   \n",
       "\n",
       "           A11_sex A30_insurance                  A16_witness_self  \\\n",
       "0              ohe           ohe                           zerovar   \n",
       "1           Gender     Insurance  Person providing the information   \n",
       "2  1=male 2=female           NaN                               NaN   \n",
       "\n",
       "              B1_greek_main_lang       B2_main_occupation  \\\n",
       "0                        zerovar                      ohe   \n",
       "1  Participant's spoken language  Occupation when working   \n",
       "2                            NaN                      NaN   \n",
       "\n",
       "       B6_father_occup  ...          TMTratio       vfsem1stobj  \\\n",
       "0                  ohe  ...               NaN               NaN   \n",
       "1  Father's occupation  ...  TMT ratio (B: Α)  Semantic objects   \n",
       "2                  NaN  ...               NaN               NaN   \n",
       "\n",
       "                  vfsemobjrelated            vfsemobjcluste  \\\n",
       "0                             NaN                       NaN   \n",
       "1  Semantic objects related words  Semantic objects cluster   \n",
       "2                             NaN                       NaN   \n",
       "\n",
       "               vfsemobjswich             vfsemobjerr  \\\n",
       "0                        NaN                     NaN   \n",
       "1  Semantic objects switches  Semantic objects error   \n",
       "2                        NaN                     NaN   \n",
       "\n",
       "                    vfsemobjpererr         vfphon1stalphobj  \\\n",
       "0                              NaN                      NaN   \n",
       "1  Semantic objects perseverations  Phonological letter \"a\"   \n",
       "2                              NaN                      NaN   \n",
       "\n",
       "                      vfpharelated DETERMINE_TOTAL  \n",
       "0                              NaN            drop  \n",
       "1  Phonological letter \"a\" related             NaN  \n",
       "2                              NaN             NaN  \n",
       "\n",
       "[3 rows x 749 columns]"
      ]
     },
     "execution_count": 28,
     "metadata": {},
     "output_type": "execute_result"
    }
   ],
   "source": [
    "# Για να μπορεσω να διαβασω το excel που εχω φτιαξει με τα ονοματα και τη κωδικοποιηση απτο τι θα κανω τις στηλες\n",
    "#Εχω επισης αλλαξει στα region settings του pc το \" ,\" γτ ηταν ΄\"΄΄;\"\n",
    "\n",
    "#encoding = \"ISO-8859-7\"  για ελληνικα γτ το utf-8 δεν δουλευει\"\n",
    "process_codes = pd.read_excel('data_xl.xlsx',sheet_name='clmn_names',encoding = \"ISO-8859-7\")\n",
    "print(process_codes.shape)\n",
    "process_codes.head()"
   ]
  },
  {
   "cell_type": "code",
   "execution_count": 29,
   "metadata": {},
   "outputs": [],
   "source": [
    "#process_codes.drop(axis=0,index=2,inplace=True) # αφαιρω γραμμες με σχολια μου"
   ]
  },
  {
   "cell_type": "code",
   "execution_count": 30,
   "metadata": {},
   "outputs": [],
   "source": [
    "#ενωνω τα δυο df για να εχω τις γραμμες με την εξηγηση και το κωδικο μορφοποιησης\n",
    "#data = pd.concat([process_codes,data],ignore_index=True)"
   ]
  },
  {
   "cell_type": "markdown",
   "metadata": {},
   "source": [
    "#### αποθηκευω σε λιστες για μετα, τα ονοματα των στηλων που εχω αποφασισει manually να κανω drop, mean to zero, near-zero variance, gender specific (και one hot encoding, ισως χρειαστει)"
   ]
  },
  {
   "cell_type": "code",
   "execution_count": 31,
   "metadata": {},
   "outputs": [
    {
     "name": "stdout",
     "output_type": "stream",
     "text": [
      "['A0_BloodTaken', 'A1a_City', 'A1b_random_sample', 'B13a_married', 'B13k_kids_abroad', 'B13l_kids_in_distance', 'B14b_residence_rent', 'B14d_residence_rooms', 'B17_summer_holidays', 'B17b_holidays_location', 'B17c_holidays_abroad', 'C15b_LOC_duration', 'C26c_mensturation_duration', 'C30_age_start_smoking', 'C31_age_stop_smoking', 'C45_social_drinker_self', 'C46_social_drinker_others', 'C50m_stroke_in_hospital', 'D1_father_alive', 'D4_mother_alive', 'D5b_siblings_has_history', 'D29_num_children', 'D29b_children_has_history', 'F17', 'F19', 'F32', 'L46', 'L47', 'L48', 'I12', 'BMI', 'BMI_calcul', 'hAPAQ7', 'hAPAQ17b', 'hAPAQ19', 'Readletters1', 'Readwords1', 'Readingsyllables1', 'Read_matchsentence', 'clockcopy', 'DETERMINE_TOTAL'] 41\n"
     ]
    }
   ],
   "source": [
    "#αποθηκευω σε λιστα τις στηλες που θελω να κανω drop\n",
    "drop_list = list(process_codes.columns[(process_codes=='drop').iloc[0]])\n",
    "print(drop_list,len(drop_list))\n",
    "\n",
    "#ERROR\n",
    "#If code or library is using the in or == operators to compare python string to numpy ndarrays, they aren't compatible, \n",
    "#so when you try it, it returns a scalar, but only for now. The Warning indicates that in the future this behavior might change\n",
    "#if python/numpy decide to do adopt Numpy style"
   ]
  },
  {
   "cell_type": "code",
   "execution_count": 32,
   "metadata": {},
   "outputs": [
    {
     "name": "stdout",
     "output_type": "stream",
     "text": [
      "['B13f_widower_years', 'B13m_num_kids_away', 'B17a_holidays_days', 'C29_cigars_daily', 'C32_years_smoker', 'C50i_stroke_sudden', 'C50j_stroke_duration', 'C50k_stroke_recovery', 'C50n_stroke_hospital_duration', 'C50o_stroke_treatment', 'D2b_father_died_at_age_of', 'D4b_mother_died_at_age_of'] 12\n"
     ]
    }
   ],
   "source": [
    "#αποθηκευω σε λιστα τις στηλες οπου το mean πρεπει να γινει 0\n",
    "tozero_list = list(process_codes.columns[(process_codes=='tozero').iloc[0]])\n",
    "print(tozero_list,len(tozero_list))"
   ]
  },
  {
   "cell_type": "code",
   "execution_count": 33,
   "metadata": {},
   "outputs": [
    {
     "name": "stdout",
     "output_type": "stream",
     "text": [
      "['A16_witness_self', 'B1_greek_main_lang', 'C14_doping', 'C22_normal_pressure_hydrocephalus', 'C47_drink_alone', 'C48_drink_morning', 'D3b_parent_history_other', 'D6b_mother_history_other', 'D5d_siblings_history_b', 'D5e_siblings_history_c', 'J24a', 'J24b', 'J24c', 'J25', 'J32', 'J32d', 'J32e', 'J32f', 'J32g', 'J32i', 'J32j', 'J33', 'J33d', 'J33e', 'J33f', 'J34', 'J34d', 'J34e', 'J34f', 'J34h', 'J34i', 'J34j', 'J35', 'J35d', 'J35e', 'J35f', 'J35g', 'J35h', 'J35i', 'J35j', 'J36', 'J36d', 'J36e', 'J36f', 'J36g', 'J36h', 'J36i', 'J37', 'J37d', 'J37e', 'J37f', 'J37g', 'J37h', 'J37i', 'J38', 'J38d', 'J38e', 'J38f', 'J38g', 'J38h', 'J38i', 'J38j', 'J39', 'J39d', 'J39e', 'J39h', 'J39i', 'J40', 'J40d', 'J40f', 'J40g', 'J40h', 'J41', 'J41d', 'J41e', 'J41f', 'J41g', 'J41h', 'J41i', 'J42', 'J42d', 'J42e', 'J42f', 'J42g', 'J42i', 'J42j', 'J43', 'J42d_A', 'J42e_A', 'J42f_A', 'J42g_A', 'J42h_A', 'J42i_A', 'K1', 'K2', 'K4', 'K10', 'K13', 'K42', 'K43', 'K44', 'K45', 'I1a', 'I1b', 'I4', 'I4a', 'I4b', 'I4c', 'I5a', 'I11d', 'I12a'] 111\n"
     ]
    }
   ],
   "source": [
    "#αποθηκευω σε λιστα τις στηλες near-zero variance\n",
    "zerovar_list = list(process_codes.columns[(process_codes=='zerovar').iloc[0]])\n",
    "print(zerovar_list,len(zerovar_list))"
   ]
  },
  {
   "cell_type": "code",
   "execution_count": 34,
   "metadata": {},
   "outputs": [
    {
     "name": "stdout",
     "output_type": "stream",
     "text": [
      "['C26a_mensturation_start', 'C26b_mensturation_stop', 'C26d_mensturation_normal', 'C26e_pregnancies', 'C26g_abortions', 'C26h_abortions_provoked'] 6\n"
     ]
    }
   ],
   "source": [
    "#αποθηκευω σε λιστα τις στηλες που ειναι ειδικες για το φυλλο gs=gender specific\n",
    "gs_list = list(process_codes.columns[(process_codes=='gs').iloc[0]])\n",
    "print(gs_list,len(gs_list))"
   ]
  },
  {
   "cell_type": "code",
   "execution_count": 35,
   "metadata": {},
   "outputs": [
    {
     "name": "stdout",
     "output_type": "stream",
     "text": [
      "['A11_sex', 'A30_insurance', 'B2_main_occupation', 'B6_father_occup', 'B7_mother_occup', 'D3a_parent_history', 'hAPAQ21'] 7\n"
     ]
    }
   ],
   "source": [
    "#αποθηκευω σε λιστα τις στηλες για one hot encoding\n",
    "ohe_list = list(process_codes.columns[(process_codes=='ohe').iloc[0]])\n",
    "print(ohe_list,len(ohe_list))"
   ]
  },
  {
   "cell_type": "markdown",
   "metadata": {},
   "source": [
    "#### Αφαιρω τις στηλες συμφωνα με τους κωδικους που εχω βαλει "
   ]
  },
  {
   "cell_type": "code",
   "execution_count": 36,
   "metadata": {},
   "outputs": [],
   "source": [
    "data.drop(drop_list,axis=1,inplace=True)\n",
    "#data.drop(zerovar_list,axis=1,inplace=True)\n",
    "data.drop(gs_list,axis=1,inplace=True)"
   ]
  },
  {
   "cell_type": "code",
   "execution_count": 37,
   "metadata": {},
   "outputs": [
    {
     "data": {
      "text/plain": [
       "(1848, 704)"
      ]
     },
     "execution_count": 37,
     "metadata": {},
     "output_type": "execute_result"
    }
   ],
   "source": [
    "data.shape"
   ]
  },
  {
   "cell_type": "markdown",
   "metadata": {},
   "source": [
    "#### Mean Το Zero στις αντιστοιχες στηλες.(Καποιες σειρες που  κανονικα εχουν τιμες που λειπουν και θα επρεπε να γινουν nan, θa γινουν τωρα, λανθασμενα 0, αλλα αυτο δε μπορει να αποφευχθει με αλλο τροπο)"
   ]
  },
  {
   "cell_type": "code",
   "execution_count": 38,
   "metadata": {},
   "outputs": [],
   "source": [
    "for i in tozero_list:\n",
    "    data[i]=np.where(np.isclose(data[i].values, data[i].mean()), 0, data[i].values)"
   ]
  },
  {
   "cell_type": "code",
   "execution_count": 39,
   "metadata": {},
   "outputs": [
    {
     "data": {
      "text/plain": [
       "0.000    1725\n",
       "1.000     123\n",
       "Name: C50i_stroke_sudden, dtype: int64"
      ]
     },
     "execution_count": 39,
     "metadata": {},
     "output_type": "execute_result"
    }
   ],
   "source": [
    "#βλεπω πως πετυχε\n",
    "data['C50i_stroke_sudden'].value_counts()"
   ]
  },
  {
   "cell_type": "code",
   "execution_count": 40,
   "metadata": {},
   "outputs": [
    {
     "data": {
      "text/plain": [
       "(1848, 704)"
      ]
     },
     "execution_count": 40,
     "metadata": {},
     "output_type": "execute_result"
    }
   ],
   "source": [
    "data.shape"
   ]
  },
  {
   "cell_type": "markdown",
   "metadata": {},
   "source": [
    "#### One hot encoding πρεπει να γινει στο training data απ οτι ειδα, αρα στο τελοσ ολων των διεργασιων του preprocessing,   ειτε με Keras ειτε sklearn https://machinelearningmastery.com/how-to-one-hot-encode-sequence-data-in-python/"
   ]
  },
  {
   "cell_type": "code",
   "execution_count": 41,
   "metadata": {},
   "outputs": [],
   "source": [
    "#from sklearn.compose import ColumnTransformer\n",
    "#from sklearn.preprocessing import OneHotEncoder\n",
    "\n",
    "#ct = ColumnTransformer(transformers=[('encoder',OneHotEncoder(),['A11_sex'])], remainder='passthrough')\n",
    "\n",
    "#ohe_data = np.array(ct.fit_transform(data))\n",
    "#εδω αναγκαζουμε να μας επιστρεψει np array το οποιο ειναι κι αυτο που ζητανε τα μοντελα μας, γτ κανονικα επιστρεφει ndarray.\n",
    "#Αρα προσοχη τι οριζουμε ως τελικο που θα μας επιστρεψει για να μη χασουμε το dataframe. Επισης, δε δεχεται τη λιστα απο τα \n",
    "#ονοματα των στηλων ως παραμετρο στο transformers, αρα πρεπει καπως αλλιως να οριστουν αυτα"
   ]
  },
  {
   "cell_type": "code",
   "execution_count": null,
   "metadata": {},
   "outputs": [],
   "source": []
  },
  {
   "cell_type": "markdown",
   "metadata": {},
   "source": [
    "## Handle nans"
   ]
  },
  {
   "cell_type": "code",
   "execution_count": 42,
   "metadata": {},
   "outputs": [
    {
     "name": "stdout",
     "output_type": "stream",
     "text": [
      "Number of null values in dataset:  1848\n",
      "Percentage:  0.14204545454545456\n"
     ]
    },
    {
     "data": {
      "text/plain": [
       "<matplotlib.axes._subplots.AxesSubplot at 0x1503d0fbf08>"
      ]
     },
     "execution_count": 42,
     "metadata": {},
     "output_type": "execute_result"
    },
    {
     "data": {
      "image/png": "[encoded data removed]",
      "text/plain": [
       "<Figure size 1152x432 with 1 Axes>"
      ]
     },
     "metadata": {},
     "output_type": "display_data"
    }
   ],
   "source": [
    "#βλεπω το ποσοστο των null αμεσως μετα τις μετατροπες, ενω δεν εχω αλλαξει τα mean\n",
    "\n",
    "print(\"Number of null values in dataset: \",data.isnull().values.sum()) #αριθμος\n",
    "print(\"Percentage: \",(data.isnull().sum().sum()/data.size)*100) #ποσοστο\n",
    "\n",
    "plt.figure(figsize=(16,6))\n",
    "sns.heatmap(data.isnull(),yticklabels=False,cbar=False,cmap='cividis')"
   ]
  },
  {
   "cell_type": "code",
   "execution_count": 43,
   "metadata": {},
   "outputs": [
    {
     "name": "stdout",
     "output_type": "stream",
     "text": [
      "Number of null values in dataset:  76205\n",
      "Percentage:  5.8574533894136165\n"
     ]
    },
    {
     "data": {
      "text/plain": [
       "<matplotlib.axes._subplots.AxesSubplot at 0x1503d162108>"
      ]
     },
     "execution_count": 43,
     "metadata": {},
     "output_type": "execute_result"
    },
    {
     "data": {
      "image/png": "[encoded data removed]",
      "text/plain": [
       "<Figure size 1152x432 with 1 Axes>"
      ]
     },
     "metadata": {},
     "output_type": "display_data"
    }
   ],
   "source": [
    "#μετατρεπω τα mean σε null \n",
    "for column in data:\n",
    "        data[column] = np.where(np.isclose(data[column].values, data[column].mean()), np.nan, data[column].values)\n",
    "        \n",
    "print(\"Number of null values in dataset: \",data.isnull().values.sum()) #αριθμος\n",
    "print(\"Percentage: \",(data.isnull().sum().sum()/data.size)*100) #ποσοστο\n",
    "\n",
    "plt.figure(figsize=(16,6))\n",
    "sns.heatmap(data.isnull(),yticklabels=False,cbar=False,cmap='cividis')"
   ]
  },
  {
   "cell_type": "code",
   "execution_count": 44,
   "metadata": {},
   "outputs": [
    {
     "name": "stdout",
     "output_type": "stream",
     "text": [
      "C50l_stroke_diplopia         1719\n",
      "K45                          1426\n",
      "figurerecognitionSUM         1408\n",
      "ST_E_1_figurerecfalsepos     1408\n",
      "ST_E_1_figurerectruepos      1408\n",
      "ST_E_1_figurerectrueneg      1408\n",
      "ST_E_1_figurerecfalseneg     1408\n",
      "I11d                         1251\n",
      "DENTAL_PLATE_FOOD            1243\n",
      "hAPAQ20                      1239\n",
      "DENTAL_PLATE                 1219\n",
      "K44                          1185\n",
      "K43                          1184\n",
      "K42                          1184\n",
      "D9a_min_sibling_death_age    1143\n",
      "D9a_max_sibling_death_age    1143\n",
      "hAPAQ18                      1104\n",
      "D9f_min_sibling_alive_age    1035\n",
      "D9f_max_sibling_alive_age    1035\n",
      "MonthsBerr                   1003\n",
      "dtype: int64\n"
     ]
    }
   ],
   "source": [
    "#λιστα με τις στηλες με αριθμο null σε φθινουσα σειρα\n",
    "desc = data.isnull().sum(axis=0)\n",
    "desc.sort_values(ascending=False,inplace=True)\n",
    "print(desc[:20])"
   ]
  },
  {
   "cell_type": "code",
   "execution_count": 45,
   "metadata": {},
   "outputs": [],
   "source": [
    "#αποθηκευω το data στη df s αφου εχω αφαιρεσει τις στηλες με ~ 30% null που ειναι το rule of thumb(thresh == αριθμος μη null !!)\n",
    "s= pd.DataFrame(data.dropna(axis='columns',thresh=(len(data)*0.7)))"
   ]
  },
  {
   "cell_type": "code",
   "execution_count": 46,
   "metadata": {},
   "outputs": [],
   "source": [
    "#αποφευγω να αφαιρεσω γραμμες γτ θα χασω πολλες εγγραφες και γενικα δε συνισταται\n",
    "#s.dropna(axis='index',thresh=(len(s.columns)*0.98)).shape"
   ]
  },
  {
   "cell_type": "code",
   "execution_count": 47,
   "metadata": {
    "scrolled": true
   },
   "outputs": [
    {
     "name": "stdout",
     "output_type": "stream",
     "text": [
      "Number of null values in dataset:  23480\n",
      "Percentage:  1.9517093249812143\n",
      "Dataset shape :  (1848, 651)\n"
     ]
    },
    {
     "data": {
      "text/plain": [
       "<matplotlib.axes._subplots.AxesSubplot at 0x1503d138a48>"
      ]
     },
     "execution_count": 47,
     "metadata": {},
     "output_type": "execute_result"
    },
    {
     "data": {
      "image/png": "[encoded data removed]",
      "text/plain": [
       "<Figure size 1152x432 with 1 Axes>"
      ]
     },
     "metadata": {},
     "output_type": "display_data"
    }
   ],
   "source": [
    "#τελικο προϊον απο την αφαιρεση των null\n",
    "print(\"Number of null values in dataset: \",s.isnull().values.sum()) #αριθμος\n",
    "print(\"Percentage: \",(s.isnull().sum().sum()/s.size)*100) #ποσοστο\n",
    "print(\"Dataset shape : \",s.shape)\n",
    "\n",
    "plt.figure(figsize=(16,6))\n",
    "sns.heatmap(s.isnull(),yticklabels=False,cbar=False,cmap='magma')"
   ]
  },
  {
   "cell_type": "code",
   "execution_count": null,
   "metadata": {},
   "outputs": [],
   "source": [
    "#### τελικη μετατροπη στηλων προβλεψης (αφαιρεση nan)"
   ]
  },
  {
   "cell_type": "code",
   "execution_count": 48,
   "metadata": {},
   "outputs": [
    {
     "name": "stdout",
     "output_type": "stream",
     "text": [
      "3 10\n",
      "0 0\n"
     ]
    }
   ],
   "source": [
    "print(s['G1'].isnull().values.sum(),s['G21'].isnull().values.sum())\n",
    "s['G1'].fillna(0,inplace=True)\n",
    "s['G21'].fillna(0,inplace=True)\n",
    "print(s['G1'].isnull().values.sum(),s['G21'].isnull().values.sum())"
   ]
  },
  {
   "cell_type": "code",
   "execution_count": 55,
   "metadata": {},
   "outputs": [
    {
     "name": "stdout",
     "output_type": "stream",
     "text": [
      "Shape of dataset :  (1848, 651)\n"
     ]
    }
   ],
   "source": [
    "#αποθηκευω σε αρχειο csv, χωρις να ξαναφτιαχνω index\n",
    "s.to_csv(r'C:\\Users\\redi\\Desktop\\Βαρλαμης\\data\\data_prep.csv',index=False)\n",
    "print(\"Shape of dataset : \",s.shape)"
   ]
  },
  {
   "cell_type": "markdown",
   "metadata": {},
   "source": [
    "#### αφαιρω near zero variance και αποθηκευω ξεχωριστα"
   ]
  },
  {
   "cell_type": "code",
   "execution_count": 50,
   "metadata": {},
   "outputs": [
    {
     "name": "stdout",
     "output_type": "stream",
     "text": [
      "Shape of dataset :  (1848, 567)\n"
     ]
    }
   ],
   "source": [
    "b = pd.DataFrame(data.drop(zerovar_list,axis=1))\n",
    "b.dropna(axis='columns',thresh=(len(b)*0.7),inplace=True)\n",
    "print(\"Shape of dataset : \",b.shape)"
   ]
  },
  {
   "cell_type": "code",
   "execution_count": 51,
   "metadata": {},
   "outputs": [
    {
     "name": "stdout",
     "output_type": "stream",
     "text": [
      "3 10\n",
      "0 0\n"
     ]
    }
   ],
   "source": [
    "print(b['G1'].isnull().values.sum(),b['G21'].isnull().values.sum())\n",
    "b['G1'].fillna(0,inplace=True)\n",
    "b['G21'].fillna(0,inplace=True)\n",
    "print(b['G1'].isnull().values.sum(),b['G21'].isnull().values.sum())"
   ]
  },
  {
   "cell_type": "code",
   "execution_count": 54,
   "metadata": {},
   "outputs": [],
   "source": [
    "b.to_csv(r'C:\\Users\\redi\\Desktop\\Βαρλαμης\\data\\data_prep_no_zv.csv',index=False)"
   ]
  },
  {
   "cell_type": "code",
   "execution_count": null,
   "metadata": {},
   "outputs": [],
   "source": []
  }
 ],
 "metadata": {
  "kernelspec": {
   "display_name": "Python 3",
   "language": "python",
   "name": "python3"
  },
  "language_info": {
   "codemirror_mode": {
    "name": "ipython",
    "version": 3
   },
   "file_extension": ".py",
   "mimetype": "text/x-python",
   "name": "python",
   "nbconvert_exporter": "python",
   "pygments_lexer": "ipython3",
   "version": "3.7.3"
  }
 },
 "nbformat": 4,
 "nbformat_minor": 4
}
