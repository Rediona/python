{
 "cells": [
  {
   "cell_type": "markdown",
   "id": "7a0014d1",
   "metadata": {},
   "source": [
    "#### Build the best pipeline and best estimator  found for variable y=G1, on dataset with all variables and evaluate the performance metrics."
   ]
  },
  {
   "cell_type": "markdown",
   "id": "3d5eee7b",
   "metadata": {},
   "source": [
    "matplotlib, seaborn"
   ]
  },
  {
   "cell_type": "code",
   "execution_count": 1,
   "id": "2187655b",
   "metadata": {},
   "outputs": [],
   "source": [
    "from matplotlib import pyplot as plt\n",
    "import seaborn as sns\n",
    "\n",
    "%matplotlib inline\n",
    "\n",
    "sns.set_style('darkgrid')\n",
    "plt.rcParams['figure.dpi']=150 #resolution in dots per inch"
   ]
  },
  {
   "cell_type": "markdown",
   "id": "810a91ac",
   "metadata": {},
   "source": [
    "numpy, pandas"
   ]
  },
  {
   "cell_type": "code",
   "execution_count": 2,
   "id": "c15a6887",
   "metadata": {},
   "outputs": [],
   "source": [
    "import numpy as np\n",
    "import pandas as pd\n",
    "\n",
    "from numpy import asarray\n",
    "from numpy import save\n",
    "from numpy import load\n",
    "from numpy import isnan"
   ]
  },
  {
   "cell_type": "code",
   "execution_count": 3,
   "id": "27d8d780",
   "metadata": {},
   "outputs": [],
   "source": [
    "from sklearn.preprocessing import minmax_scale\n",
    "from sklearn.preprocessing import StandardScaler, MinMaxScaler \n",
    "# MinMaxScaler() normalizes, range on the training set, default=(0, 1)"
   ]
  },
  {
   "cell_type": "markdown",
   "id": "1a90728d",
   "metadata": {},
   "source": [
    "imputers"
   ]
  },
  {
   "cell_type": "code",
   "execution_count": 4,
   "id": "5782f1b7",
   "metadata": {},
   "outputs": [],
   "source": [
    "from sklearn.experimental import enable_iterative_imputer\n",
    "from sklearn.impute import IterativeImputer\n",
    "\n",
    "from sklearn.impute import KNNImputer\n",
    "\n",
    "import miceforest as mf #multiple imputer"
   ]
  },
  {
   "cell_type": "markdown",
   "id": "d5c7fc52",
   "metadata": {},
   "source": [
    "validation methods`"
   ]
  },
  {
   "cell_type": "code",
   "execution_count": 5,
   "id": "efa4c777",
   "metadata": {},
   "outputs": [],
   "source": [
    "from sklearn.model_selection import train_test_split \n",
    "from sklearn.model_selection import StratifiedKFold\n",
    "from sklearn.model_selection import cross_val_score\n",
    "from sklearn.model_selection import GridSearchCV"
   ]
  },
  {
   "cell_type": "markdown",
   "id": "2a483533",
   "metadata": {},
   "source": [
    "tensorflow"
   ]
  },
  {
   "cell_type": "code",
   "execution_count": 6,
   "id": "413139fd",
   "metadata": {},
   "outputs": [],
   "source": [
    "import tensorflow as tf\n",
    "from tensorflow.keras.models import Sequential\n",
    "from tensorflow.keras.layers import Dense, Dropout\n",
    "from tensorflow.keras.layers import BatchNormalization"
   ]
  },
  {
   "cell_type": "markdown",
   "id": "e23c091d",
   "metadata": {},
   "source": [
    "pipeline"
   ]
  },
  {
   "cell_type": "code",
   "execution_count": 7,
   "id": "286a40bb",
   "metadata": {},
   "outputs": [],
   "source": [
    "from sklearn.pipeline import make_pipeline, Pipeline\n",
    "from tensorflow.keras.wrappers.scikit_learn import KerasClassifier"
   ]
  },
  {
   "cell_type": "code",
   "execution_count": 8,
   "id": "0b72775d",
   "metadata": {},
   "outputs": [],
   "source": [
    "#script, function for confusion matrix\n",
    "%run -i show_confusion_matrix.py"
   ]
  },
  {
   "cell_type": "code",
   "execution_count": 9,
   "id": "d6d55dc7",
   "metadata": {},
   "outputs": [],
   "source": [
    "import time\n",
    "from sklearn.metrics import accuracy_score\n",
    "from sklearn.metrics import confusion_matrix\n",
    "from sklearn.metrics import classification_report\n",
    "#Cohen's kappa  because of class imbalance\n",
    "from sklearn.metrics import cohen_kappa_score"
   ]
  },
  {
   "cell_type": "code",
   "execution_count": 10,
   "id": "ce340598",
   "metadata": {},
   "outputs": [
    {
     "data": {
      "text/plain": [
       "(1838, 748)"
      ]
     },
     "execution_count": 10,
     "metadata": {},
     "output_type": "execute_result"
    }
   ],
   "source": [
    "#load data\n",
    "data = pd.read_csv('data_all_vars.csv')\n",
    "#make sure dataset has only numbers\n",
    "data = data.apply(pd.to_numeric)\n",
    "data.shape"
   ]
  },
  {
   "cell_type": "code",
   "execution_count": 11,
   "id": "7152c011",
   "metadata": {},
   "outputs": [
    {
     "name": "stdout",
     "output_type": "stream",
     "text": [
      "(1838, 747) (1838,)\n"
     ]
    }
   ],
   "source": [
    "#split to dependent and independent variables\n",
    "X = data.loc[:, data.columns != 'G1'].values #select all but the desired G1 for y { 0 :'None', 1 :'Questionable', 2 :'Mild', 3 :'Moderate', 4 :'Severe'}\n",
    "y = data['G1'].values\n",
    "\n",
    "print(X.shape,y.shape)"
   ]
  },
  {
   "cell_type": "code",
   "execution_count": 12,
   "id": "edd038f9",
   "metadata": {},
   "outputs": [],
   "source": [
    "#split data into train and test sets\n",
    "X_train, X_test, y_train, y_test = train_test_split(X, y, test_size=0.20, random_state=10, shuffle=True, stratify=y)\n"
   ]
  },
  {
   "cell_type": "code",
   "execution_count": 13,
   "id": "9ac825ee",
   "metadata": {},
   "outputs": [],
   "source": [
    "# determine the number of input features for NN input layer\n",
    "n_features = X.shape[1]"
   ]
  },
  {
   "cell_type": "code",
   "execution_count": 15,
   "id": "00a58f23",
   "metadata": {},
   "outputs": [],
   "source": [
    "#model definition of best parameters found\n",
    "def create_nn(activation = 'relu', \n",
    "              optimizer='adam', \n",
    "              init='he_normal', \n",
    "              layer1_units=32, \n",
    "              hidden_layers=1, \n",
    "              dropout_rate=0):\n",
    "    # create model\n",
    "    model = Sequential()\n",
    "    \n",
    "    # Add an input layer\n",
    "    model.add(Dense(units=layer1_units, \n",
    "                    kernel_initializer=init, \n",
    "                    activation='relu', \n",
    "                    input_shape=(n_features,)))\n",
    "    \n",
    "    for i in range(hidden_layers): # Add hidden layer\n",
    "        model.add(Dense(32, \n",
    "                    kernel_initializer=init, \n",
    "                    activation='relu'))\n",
    "        \n",
    "    model.add(Dropout(rate=dropout_rate))    \n",
    "    # Add an output layer\n",
    "    model.add(Dense(5, activation='softmax'))\n",
    "       \n",
    "    # Compile model\n",
    "    model.compile(optimizer='adam', \n",
    "                  loss='sparse_categorical_crossentropy', \n",
    "                  metrics=['sparse_categorical_accuracy']) # 'sparse_categorical_accuracy' because of chosen loss metric\n",
    "    \n",
    "    return model\n",
    "      \n"
   ]
  },
  {
   "cell_type": "code",
   "execution_count": 16,
   "id": "b5cea5c1",
   "metadata": {},
   "outputs": [],
   "source": [
    "#wrap the model create function in KerasClassifier class so as to be able to use with grid search\n",
    "model_wrap = KerasClassifier(build_fn=create_nn, \n",
    "                             activation = 'relu', \n",
    "                             optimizer='adam', \n",
    "                             init='he_normal', \n",
    "                             layer1_units=32, \n",
    "                             hidden_layers=3, \n",
    "                             dropout_rate=0.5,                             \n",
    "                             batch_size=32, \n",
    "                             epochs=10, \n",
    "                             verbose=0)"
   ]
  },
  {
   "cell_type": "code",
   "execution_count": 17,
   "id": "c588779c",
   "metadata": {},
   "outputs": [],
   "source": [
    "#create a basic pipeline for scaling and imputation\n",
    "pipeline_knn = Pipeline([\n",
    "    ('scaler', MinMaxScaler()),\n",
    "    ('imputer', KNNImputer()),\n",
    "    ('model', model_wrap)])"
   ]
  },
  {
   "cell_type": "code",
   "execution_count": 18,
   "id": "e2e8a9f7",
   "metadata": {},
   "outputs": [],
   "source": [
    "#define all grid parameters to search over\n",
    "param_grid ={\n",
    "    'scaler': [MinMaxScaler()], \n",
    "    'imputer__n_neighbors' : [3],\n",
    "    'model__activation' : ['relu'],\n",
    "    'model__optimizer' : ['adam'],\n",
    "    'model__init' : ['he_normal'], \n",
    "    'model__epochs' : [40],\n",
    "    'model__batch_size' : [16],\n",
    "    'model__hidden_layers' : [3], \n",
    "    'model__dropout_rate' : [0.5],\n",
    "    'model__layer1_units' : [32]\n",
    "    \n",
    "}\n",
    "grid_results = GridSearchCV(estimator=pipeline_knn, \n",
    "                    param_grid=param_grid, \n",
    "                    scoring='accuracy', \n",
    "                    cv = 10,\n",
    "                    verbose=1,)"
   ]
  },
  {
   "cell_type": "code",
   "execution_count": 19,
   "id": "0a2a9882",
   "metadata": {},
   "outputs": [
    {
     "name": "stdout",
     "output_type": "stream",
     "text": [
      "Fitting 10 folds for each of 1 candidates, totalling 10 fits\n",
      "148.46967768669128 seconds for fitting gridsearch\n"
     ]
    }
   ],
   "source": [
    "start_time = time.time()\n",
    "\n",
    "#fit grid search on training data\n",
    "grid_results.fit(X_train, y_train)\n",
    "\n",
    "#calculate time for fit function\n",
    "elapsed_time = time.time() - start_time\n",
    "print(elapsed_time, \"seconds for fitting gridsearch\")"
   ]
  },
  {
   "cell_type": "code",
   "execution_count": 20,
   "id": "4c9e3b98",
   "metadata": {},
   "outputs": [
    {
     "name": "stdout",
     "output_type": "stream",
     "text": [
      "Parameters :\n",
      " {'imputer__n_neighbors': 3, 'model__activation': 'relu', 'model__batch_size': 16, 'model__dropout_rate': 0.5, 'model__epochs': 40, 'model__hidden_layers': 3, 'model__init': 'he_normal', 'model__layer1_units': 32, 'model__optimizer': 'adam', 'scaler': MinMaxScaler()}\n",
      "\n",
      "Best training score: 0.896\n",
      "\n",
      "Test set accuracy score: 0.916 \n"
     ]
    }
   ],
   "source": [
    "print('Parameters :\\n %s' % grid_results.best_params_)\n",
    "# Best training data accuracy\n",
    "print('\\nBest training score: %.3f' % grid_results.best_score_)\n",
    "# Predict on test data with best params\n",
    "y_pred = grid_results.predict(X_test)\n",
    "# Test data accuracy of model with best params\n",
    "print('\\nTest set accuracy score: %.3f ' % accuracy_score(y_test, y_pred))"
   ]
  },
  {
   "cell_type": "code",
   "execution_count": 23,
   "id": "57fa92cf",
   "metadata": {},
   "outputs": [
    {
     "name": "stdout",
     "output_type": "stream",
     "text": [
      "\n",
      " [[296   7   0   0   0]\n",
      " [ 13  35   0   0   0]\n",
      " [  1   4   5   2   0]\n",
      " [  0   0   2   0   1]\n",
      " [  0   0   0   1   1]]\n",
      "\n",
      "               precision    recall  f1-score   support\n",
      "\n",
      "         0.0       0.95      0.98      0.97       303\n",
      "         1.0       0.76      0.73      0.74        48\n",
      "         2.0       0.71      0.42      0.53        12\n",
      "         3.0       0.00      0.00      0.00         3\n",
      "         4.0       0.50      0.50      0.50         2\n",
      "\n",
      "    accuracy                           0.92       368\n",
      "   macro avg       0.59      0.52      0.55       368\n",
      "weighted avg       0.91      0.92      0.91       368\n",
      "\n",
      "\n",
      " Cohen's kappa:  0.7088979050243691\n"
     ]
    }
   ],
   "source": [
    "#evaluation metrics on test set predictions\n",
    "print('\\n',confusion_matrix(y_test, y_pred))\n",
    "print('\\n',classification_report(y_test, y_pred))\n",
    "print('\\n Cohen\\'s kappa: ',cohen_kappa_score(y_test, y_pred))"
   ]
  },
  {
   "cell_type": "code",
   "execution_count": 24,
   "id": "41dd663f",
   "metadata": {},
   "outputs": [
    {
     "data": {
      "image/png": "[encoded data removed]",
      "text/plain": [
       "<Figure size 900x600 with 1 Axes>"
      ]
     },
     "metadata": {},
     "output_type": "display_data"
    }
   ],
   "source": [
    "cf_matrix = confusion_matrix(y_test, y_pred)\n",
    "make_confusion_matrix(cf_matrix, figsize=(6,4), cbar=False)"
   ]
  },
  {
   "cell_type": "code",
   "execution_count": 25,
   "id": "0bc81bee",
   "metadata": {},
   "outputs": [],
   "source": [
    "#extract results to put on a dataframe\n",
    "means = grid_results.cv_results_['mean_test_score']\n",
    "stds = grid_results.cv_results_['std_test_score']\n",
    "params = grid_results.cv_results_['params']\n",
    "\n",
    "# we can get the metrics on the train set as well provided you set return_train_score = True\n",
    "# However computing the scores on the training set can be computationally expensive"
   ]
  },
  {
   "cell_type": "code",
   "execution_count": 27,
   "id": "29da3cd2",
   "metadata": {},
   "outputs": [
    {
     "data": {
      "text/html": [
       "<div>\n",
       "<style scoped>\n",
       "    .dataframe tbody tr th:only-of-type {\n",
       "        vertical-align: middle;\n",
       "    }\n",
       "\n",
       "    .dataframe tbody tr th {\n",
       "        vertical-align: top;\n",
       "    }\n",
       "\n",
       "    .dataframe thead th {\n",
       "        text-align: right;\n",
       "    }\n",
       "</style>\n",
       "<table border=\"1\" class=\"dataframe\">\n",
       "  <thead>\n",
       "    <tr style=\"text-align: right;\">\n",
       "      <th></th>\n",
       "      <th>imputer__n_neighbors</th>\n",
       "      <th>model__activation</th>\n",
       "      <th>model__batch_size</th>\n",
       "      <th>model__dropout_rate</th>\n",
       "      <th>model__epochs</th>\n",
       "      <th>model__hidden_layers</th>\n",
       "      <th>model__init</th>\n",
       "      <th>model__layer1_units</th>\n",
       "      <th>model__optimizer</th>\n",
       "      <th>scaler</th>\n",
       "      <th>Mean</th>\n",
       "      <th>Std. Dev</th>\n",
       "    </tr>\n",
       "  </thead>\n",
       "  <tbody>\n",
       "    <tr>\n",
       "      <th>0</th>\n",
       "      <td>3</td>\n",
       "      <td>relu</td>\n",
       "      <td>16</td>\n",
       "      <td>0.5</td>\n",
       "      <td>40</td>\n",
       "      <td>3</td>\n",
       "      <td>he_normal</td>\n",
       "      <td>32</td>\n",
       "      <td>adam</td>\n",
       "      <td>MinMaxScaler()</td>\n",
       "      <td>0.895918</td>\n",
       "      <td>0.015227</td>\n",
       "    </tr>\n",
       "  </tbody>\n",
       "</table>\n",
       "</div>"
      ],
      "text/plain": [
       "   imputer__n_neighbors model__activation  model__batch_size  \\\n",
       "0                     3              relu                 16   \n",
       "\n",
       "   model__dropout_rate  model__epochs  model__hidden_layers model__init  \\\n",
       "0                  0.5             40                     3   he_normal   \n",
       "\n",
       "   model__layer1_units model__optimizer          scaler      Mean  Std. Dev  \n",
       "0                   32             adam  MinMaxScaler()  0.895918  0.015227  "
      ]
     },
     "execution_count": 27,
     "metadata": {},
     "output_type": "execute_result"
    }
   ],
   "source": [
    "d=pd.DataFrame(params)\n",
    "d['Mean']=means\n",
    "d['Std. Dev']=stds\n",
    "d.to_csv(r'C:\\Users\\redi\\Desktop\\Βαρλαμης\\data\\G1_all_df.csv',index=False, float_format='%.4f')\n",
    "d"
   ]
  },
  {
   "cell_type": "code",
   "execution_count": 29,
   "id": "7a050b22",
   "metadata": {},
   "outputs": [
    {
     "data": {
      "text/html": [
       "<div>\n",
       "<style scoped>\n",
       "    .dataframe tbody tr th:only-of-type {\n",
       "        vertical-align: middle;\n",
       "    }\n",
       "\n",
       "    .dataframe tbody tr th {\n",
       "        vertical-align: top;\n",
       "    }\n",
       "\n",
       "    .dataframe thead th {\n",
       "        text-align: right;\n",
       "    }\n",
       "</style>\n",
       "<table border=\"1\" class=\"dataframe\">\n",
       "  <thead>\n",
       "    <tr style=\"text-align: right;\">\n",
       "      <th></th>\n",
       "      <th>mean_fit_time</th>\n",
       "      <th>std_fit_time</th>\n",
       "      <th>mean_score_time</th>\n",
       "      <th>std_score_time</th>\n",
       "      <th>param_imputer__n_neighbors</th>\n",
       "      <th>param_model__activation</th>\n",
       "      <th>param_model__batch_size</th>\n",
       "      <th>param_model__dropout_rate</th>\n",
       "      <th>param_model__epochs</th>\n",
       "      <th>param_model__hidden_layers</th>\n",
       "      <th>...</th>\n",
       "      <th>split3_test_score</th>\n",
       "      <th>split4_test_score</th>\n",
       "      <th>split5_test_score</th>\n",
       "      <th>split6_test_score</th>\n",
       "      <th>split7_test_score</th>\n",
       "      <th>split8_test_score</th>\n",
       "      <th>split9_test_score</th>\n",
       "      <th>mean_test_score</th>\n",
       "      <th>std_test_score</th>\n",
       "      <th>rank_test_score</th>\n",
       "    </tr>\n",
       "  </thead>\n",
       "  <tbody>\n",
       "    <tr>\n",
       "      <th>0</th>\n",
       "      <td>12.673241</td>\n",
       "      <td>0.937758</td>\n",
       "      <td>0.794039</td>\n",
       "      <td>0.110881</td>\n",
       "      <td>3</td>\n",
       "      <td>relu</td>\n",
       "      <td>16</td>\n",
       "      <td>0.5</td>\n",
       "      <td>40</td>\n",
       "      <td>3</td>\n",
       "      <td>...</td>\n",
       "      <td>0.904762</td>\n",
       "      <td>0.884354</td>\n",
       "      <td>0.897959</td>\n",
       "      <td>0.911565</td>\n",
       "      <td>0.897959</td>\n",
       "      <td>0.870748</td>\n",
       "      <td>0.897959</td>\n",
       "      <td>0.895918</td>\n",
       "      <td>0.015227</td>\n",
       "      <td>1</td>\n",
       "    </tr>\n",
       "  </tbody>\n",
       "</table>\n",
       "<p>1 rows × 28 columns</p>\n",
       "</div>"
      ],
      "text/plain": [
       "   mean_fit_time  std_fit_time  mean_score_time  std_score_time  \\\n",
       "0      12.673241      0.937758         0.794039        0.110881   \n",
       "\n",
       "  param_imputer__n_neighbors param_model__activation param_model__batch_size  \\\n",
       "0                          3                    relu                      16   \n",
       "\n",
       "  param_model__dropout_rate param_model__epochs param_model__hidden_layers  \\\n",
       "0                       0.5                  40                          3   \n",
       "\n",
       "   ... split3_test_score split4_test_score split5_test_score  \\\n",
       "0  ...          0.904762          0.884354          0.897959   \n",
       "\n",
       "  split6_test_score split7_test_score  split8_test_score  split9_test_score  \\\n",
       "0          0.911565          0.897959           0.870748           0.897959   \n",
       "\n",
       "   mean_test_score  std_test_score  rank_test_score  \n",
       "0         0.895918        0.015227                1  \n",
       "\n",
       "[1 rows x 28 columns]"
      ]
     },
     "execution_count": 29,
     "metadata": {},
     "output_type": "execute_result"
    }
   ],
   "source": [
    "#save cv split results\n",
    "df_result = pd.DataFrame(grid_results.cv_results_)\n",
    "#save df to file\n",
    "df_result.to_csv(r'C:\\Users\\redi\\Desktop\\Βαρλαμης\\data\\G1_all_cv_splits.csv',index=False, float_format='%.4f')\n",
    "df_result"
   ]
  },
  {
   "cell_type": "code",
   "execution_count": null,
   "id": "b81c232b",
   "metadata": {},
   "outputs": [],
   "source": []
  }
 ],
 "metadata": {
  "kernelspec": {
   "display_name": "Python 3 (ipykernel)",
   "language": "python",
   "name": "python3"
  },
  "language_info": {
   "codemirror_mode": {
    "name": "ipython",
    "version": 3
   },
   "file_extension": ".py",
   "mimetype": "text/x-python",
   "name": "python",
   "nbconvert_exporter": "python",
   "pygments_lexer": "ipython3",
   "version": "3.7.11"
  }
 },
 "nbformat": 4,
 "nbformat_minor": 5
}
